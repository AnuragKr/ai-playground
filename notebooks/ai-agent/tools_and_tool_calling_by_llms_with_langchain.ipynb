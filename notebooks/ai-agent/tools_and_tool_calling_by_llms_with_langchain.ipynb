{
  "cells": [
    {
      "cell_type": "markdown",
      "metadata": {
        "id": "-CVPAiNAy9MH"
      },
      "source": [
        "# Exploring Tools in LangChain"
      ]
    },
    {
      "cell_type": "markdown",
      "metadata": {
        "id": "L1KvMtf54l0d"
      },
      "source": [
        "## Install OpenAI, and LangChain dependencies"
      ]
    },
    {
      "cell_type": "code",
      "execution_count": 1,
      "metadata": {
        "colab": {
          "base_uri": "https://localhost:8080/"
        },
        "id": "c1inhrOK-rhY",
        "outputId": "8cebb65a-ec20-4a74-86bd-adf7f5fec908"
      },
      "outputs": [
        {
          "output_type": "stream",
          "name": "stdout",
          "text": [
            "Collecting langchain==0.3.11\n",
            "  Downloading langchain-0.3.11-py3-none-any.whl.metadata (7.1 kB)\n",
            "Requirement already satisfied: PyYAML>=5.3 in /usr/local/lib/python3.11/dist-packages (from langchain==0.3.11) (6.0.2)\n",
            "Requirement already satisfied: SQLAlchemy<3,>=1.4 in /usr/local/lib/python3.11/dist-packages (from langchain==0.3.11) (2.0.41)\n",
            "Requirement already satisfied: aiohttp<4.0.0,>=3.8.3 in /usr/local/lib/python3.11/dist-packages (from langchain==0.3.11) (3.11.15)\n",
            "Requirement already satisfied: langchain-core<0.4.0,>=0.3.24 in /usr/local/lib/python3.11/dist-packages (from langchain==0.3.11) (0.3.60)\n",
            "Requirement already satisfied: langchain-text-splitters<0.4.0,>=0.3.0 in /usr/local/lib/python3.11/dist-packages (from langchain==0.3.11) (0.3.8)\n",
            "Collecting langsmith<0.3,>=0.1.17 (from langchain==0.3.11)\n",
            "  Downloading langsmith-0.2.11-py3-none-any.whl.metadata (14 kB)\n",
            "Collecting numpy<2,>=1.22.4 (from langchain==0.3.11)\n",
            "  Downloading numpy-1.26.4-cp311-cp311-manylinux_2_17_x86_64.manylinux2014_x86_64.whl.metadata (61 kB)\n",
            "\u001b[2K     \u001b[90m━━━━━━━━━━━━━━━━━━━━━━━━━━━━━━━━━━━━━━━━\u001b[0m \u001b[32m61.0/61.0 kB\u001b[0m \u001b[31m1.5 MB/s\u001b[0m eta \u001b[36m0:00:00\u001b[0m\n",
            "\u001b[?25hRequirement already satisfied: pydantic<3.0.0,>=2.7.4 in /usr/local/lib/python3.11/dist-packages (from langchain==0.3.11) (2.11.4)\n",
            "Requirement already satisfied: requests<3,>=2 in /usr/local/lib/python3.11/dist-packages (from langchain==0.3.11) (2.32.3)\n",
            "Requirement already satisfied: tenacity!=8.4.0,<10,>=8.1.0 in /usr/local/lib/python3.11/dist-packages (from langchain==0.3.11) (9.1.2)\n",
            "Requirement already satisfied: aiohappyeyeballs>=2.3.0 in /usr/local/lib/python3.11/dist-packages (from aiohttp<4.0.0,>=3.8.3->langchain==0.3.11) (2.6.1)\n",
            "Requirement already satisfied: aiosignal>=1.1.2 in /usr/local/lib/python3.11/dist-packages (from aiohttp<4.0.0,>=3.8.3->langchain==0.3.11) (1.3.2)\n",
            "Requirement already satisfied: attrs>=17.3.0 in /usr/local/lib/python3.11/dist-packages (from aiohttp<4.0.0,>=3.8.3->langchain==0.3.11) (25.3.0)\n",
            "Requirement already satisfied: frozenlist>=1.1.1 in /usr/local/lib/python3.11/dist-packages (from aiohttp<4.0.0,>=3.8.3->langchain==0.3.11) (1.6.0)\n",
            "Requirement already satisfied: multidict<7.0,>=4.5 in /usr/local/lib/python3.11/dist-packages (from aiohttp<4.0.0,>=3.8.3->langchain==0.3.11) (6.4.4)\n",
            "Requirement already satisfied: propcache>=0.2.0 in /usr/local/lib/python3.11/dist-packages (from aiohttp<4.0.0,>=3.8.3->langchain==0.3.11) (0.3.1)\n",
            "Requirement already satisfied: yarl<2.0,>=1.17.0 in /usr/local/lib/python3.11/dist-packages (from aiohttp<4.0.0,>=3.8.3->langchain==0.3.11) (1.20.0)\n",
            "Requirement already satisfied: jsonpatch<2.0,>=1.33 in /usr/local/lib/python3.11/dist-packages (from langchain-core<0.4.0,>=0.3.24->langchain==0.3.11) (1.33)\n",
            "Requirement already satisfied: packaging<25,>=23.2 in /usr/local/lib/python3.11/dist-packages (from langchain-core<0.4.0,>=0.3.24->langchain==0.3.11) (24.2)\n",
            "Requirement already satisfied: typing-extensions>=4.7 in /usr/local/lib/python3.11/dist-packages (from langchain-core<0.4.0,>=0.3.24->langchain==0.3.11) (4.13.2)\n",
            "Requirement already satisfied: httpx<1,>=0.23.0 in /usr/local/lib/python3.11/dist-packages (from langsmith<0.3,>=0.1.17->langchain==0.3.11) (0.28.1)\n",
            "Requirement already satisfied: orjson<4.0.0,>=3.9.14 in /usr/local/lib/python3.11/dist-packages (from langsmith<0.3,>=0.1.17->langchain==0.3.11) (3.10.18)\n",
            "Requirement already satisfied: requests-toolbelt<2.0.0,>=1.0.0 in /usr/local/lib/python3.11/dist-packages (from langsmith<0.3,>=0.1.17->langchain==0.3.11) (1.0.0)\n",
            "Requirement already satisfied: annotated-types>=0.6.0 in /usr/local/lib/python3.11/dist-packages (from pydantic<3.0.0,>=2.7.4->langchain==0.3.11) (0.7.0)\n",
            "Requirement already satisfied: pydantic-core==2.33.2 in /usr/local/lib/python3.11/dist-packages (from pydantic<3.0.0,>=2.7.4->langchain==0.3.11) (2.33.2)\n",
            "Requirement already satisfied: typing-inspection>=0.4.0 in /usr/local/lib/python3.11/dist-packages (from pydantic<3.0.0,>=2.7.4->langchain==0.3.11) (0.4.1)\n",
            "Requirement already satisfied: charset-normalizer<4,>=2 in /usr/local/lib/python3.11/dist-packages (from requests<3,>=2->langchain==0.3.11) (3.4.2)\n",
            "Requirement already satisfied: idna<4,>=2.5 in /usr/local/lib/python3.11/dist-packages (from requests<3,>=2->langchain==0.3.11) (3.10)\n",
            "Requirement already satisfied: urllib3<3,>=1.21.1 in /usr/local/lib/python3.11/dist-packages (from requests<3,>=2->langchain==0.3.11) (2.4.0)\n",
            "Requirement already satisfied: certifi>=2017.4.17 in /usr/local/lib/python3.11/dist-packages (from requests<3,>=2->langchain==0.3.11) (2025.4.26)\n",
            "Requirement already satisfied: greenlet>=1 in /usr/local/lib/python3.11/dist-packages (from SQLAlchemy<3,>=1.4->langchain==0.3.11) (3.2.2)\n",
            "Requirement already satisfied: anyio in /usr/local/lib/python3.11/dist-packages (from httpx<1,>=0.23.0->langsmith<0.3,>=0.1.17->langchain==0.3.11) (4.9.0)\n",
            "Requirement already satisfied: httpcore==1.* in /usr/local/lib/python3.11/dist-packages (from httpx<1,>=0.23.0->langsmith<0.3,>=0.1.17->langchain==0.3.11) (1.0.9)\n",
            "Requirement already satisfied: h11>=0.16 in /usr/local/lib/python3.11/dist-packages (from httpcore==1.*->httpx<1,>=0.23.0->langsmith<0.3,>=0.1.17->langchain==0.3.11) (0.16.0)\n",
            "Requirement already satisfied: jsonpointer>=1.9 in /usr/local/lib/python3.11/dist-packages (from jsonpatch<2.0,>=1.33->langchain-core<0.4.0,>=0.3.24->langchain==0.3.11) (3.0.0)\n",
            "Requirement already satisfied: sniffio>=1.1 in /usr/local/lib/python3.11/dist-packages (from anyio->httpx<1,>=0.23.0->langsmith<0.3,>=0.1.17->langchain==0.3.11) (1.3.1)\n",
            "Downloading langchain-0.3.11-py3-none-any.whl (1.0 MB)\n",
            "\u001b[2K   \u001b[90m━━━━━━━━━━━━━━━━━━━━━━━━━━━━━━━━━━━━━━━━\u001b[0m \u001b[32m1.0/1.0 MB\u001b[0m \u001b[31m13.4 MB/s\u001b[0m eta \u001b[36m0:00:00\u001b[0m\n",
            "\u001b[?25hDownloading langsmith-0.2.11-py3-none-any.whl (326 kB)\n",
            "\u001b[2K   \u001b[90m━━━━━━━━━━━━━━━━━━━━━━━━━━━━━━━━━━━━━━━━\u001b[0m \u001b[32m326.9/326.9 kB\u001b[0m \u001b[31m15.1 MB/s\u001b[0m eta \u001b[36m0:00:00\u001b[0m\n",
            "\u001b[?25hDownloading numpy-1.26.4-cp311-cp311-manylinux_2_17_x86_64.manylinux2014_x86_64.whl (18.3 MB)\n",
            "\u001b[2K   \u001b[90m━━━━━━━━━━━━━━━━━━━━━━━━━━━━━━━━━━━━━━━━\u001b[0m \u001b[32m18.3/18.3 MB\u001b[0m \u001b[31m15.3 MB/s\u001b[0m eta \u001b[36m0:00:00\u001b[0m\n",
            "\u001b[?25hInstalling collected packages: numpy, langsmith, langchain\n",
            "  Attempting uninstall: numpy\n",
            "    Found existing installation: numpy 2.0.2\n",
            "    Uninstalling numpy-2.0.2:\n",
            "      Successfully uninstalled numpy-2.0.2\n",
            "  Attempting uninstall: langsmith\n",
            "    Found existing installation: langsmith 0.3.42\n",
            "    Uninstalling langsmith-0.3.42:\n",
            "      Successfully uninstalled langsmith-0.3.42\n",
            "  Attempting uninstall: langchain\n",
            "    Found existing installation: langchain 0.3.25\n",
            "    Uninstalling langchain-0.3.25:\n",
            "      Successfully uninstalled langchain-0.3.25\n",
            "\u001b[31mERROR: pip's dependency resolver does not currently take into account all the packages that are installed. This behaviour is the source of the following dependency conflicts.\n",
            "thinc 8.3.6 requires numpy<3.0.0,>=2.0.0, but you have numpy 1.26.4 which is incompatible.\u001b[0m\u001b[31m\n",
            "\u001b[0mSuccessfully installed langchain-0.3.11 langsmith-0.2.11 numpy-1.26.4\n",
            "Collecting langchain-openai==0.2.12\n",
            "  Downloading langchain_openai-0.2.12-py3-none-any.whl.metadata (2.7 kB)\n",
            "Requirement already satisfied: langchain-core<0.4.0,>=0.3.21 in /usr/local/lib/python3.11/dist-packages (from langchain-openai==0.2.12) (0.3.60)\n",
            "Requirement already satisfied: openai<2.0.0,>=1.55.3 in /usr/local/lib/python3.11/dist-packages (from langchain-openai==0.2.12) (1.81.0)\n",
            "Requirement already satisfied: tiktoken<1,>=0.7 in /usr/local/lib/python3.11/dist-packages (from langchain-openai==0.2.12) (0.9.0)\n",
            "Requirement already satisfied: langsmith<0.4,>=0.1.126 in /usr/local/lib/python3.11/dist-packages (from langchain-core<0.4.0,>=0.3.21->langchain-openai==0.2.12) (0.2.11)\n",
            "Requirement already satisfied: tenacity!=8.4.0,<10.0.0,>=8.1.0 in /usr/local/lib/python3.11/dist-packages (from langchain-core<0.4.0,>=0.3.21->langchain-openai==0.2.12) (9.1.2)\n",
            "Requirement already satisfied: jsonpatch<2.0,>=1.33 in /usr/local/lib/python3.11/dist-packages (from langchain-core<0.4.0,>=0.3.21->langchain-openai==0.2.12) (1.33)\n",
            "Requirement already satisfied: PyYAML>=5.3 in /usr/local/lib/python3.11/dist-packages (from langchain-core<0.4.0,>=0.3.21->langchain-openai==0.2.12) (6.0.2)\n",
            "Requirement already satisfied: packaging<25,>=23.2 in /usr/local/lib/python3.11/dist-packages (from langchain-core<0.4.0,>=0.3.21->langchain-openai==0.2.12) (24.2)\n",
            "Requirement already satisfied: typing-extensions>=4.7 in /usr/local/lib/python3.11/dist-packages (from langchain-core<0.4.0,>=0.3.21->langchain-openai==0.2.12) (4.13.2)\n",
            "Requirement already satisfied: pydantic>=2.7.4 in /usr/local/lib/python3.11/dist-packages (from langchain-core<0.4.0,>=0.3.21->langchain-openai==0.2.12) (2.11.4)\n",
            "Requirement already satisfied: anyio<5,>=3.5.0 in /usr/local/lib/python3.11/dist-packages (from openai<2.0.0,>=1.55.3->langchain-openai==0.2.12) (4.9.0)\n",
            "Requirement already satisfied: distro<2,>=1.7.0 in /usr/local/lib/python3.11/dist-packages (from openai<2.0.0,>=1.55.3->langchain-openai==0.2.12) (1.9.0)\n",
            "Requirement already satisfied: httpx<1,>=0.23.0 in /usr/local/lib/python3.11/dist-packages (from openai<2.0.0,>=1.55.3->langchain-openai==0.2.12) (0.28.1)\n",
            "Requirement already satisfied: jiter<1,>=0.4.0 in /usr/local/lib/python3.11/dist-packages (from openai<2.0.0,>=1.55.3->langchain-openai==0.2.12) (0.10.0)\n",
            "Requirement already satisfied: sniffio in /usr/local/lib/python3.11/dist-packages (from openai<2.0.0,>=1.55.3->langchain-openai==0.2.12) (1.3.1)\n",
            "Requirement already satisfied: tqdm>4 in /usr/local/lib/python3.11/dist-packages (from openai<2.0.0,>=1.55.3->langchain-openai==0.2.12) (4.67.1)\n",
            "Requirement already satisfied: regex>=2022.1.18 in /usr/local/lib/python3.11/dist-packages (from tiktoken<1,>=0.7->langchain-openai==0.2.12) (2024.11.6)\n",
            "Requirement already satisfied: requests>=2.26.0 in /usr/local/lib/python3.11/dist-packages (from tiktoken<1,>=0.7->langchain-openai==0.2.12) (2.32.3)\n",
            "Requirement already satisfied: idna>=2.8 in /usr/local/lib/python3.11/dist-packages (from anyio<5,>=3.5.0->openai<2.0.0,>=1.55.3->langchain-openai==0.2.12) (3.10)\n",
            "Requirement already satisfied: certifi in /usr/local/lib/python3.11/dist-packages (from httpx<1,>=0.23.0->openai<2.0.0,>=1.55.3->langchain-openai==0.2.12) (2025.4.26)\n",
            "Requirement already satisfied: httpcore==1.* in /usr/local/lib/python3.11/dist-packages (from httpx<1,>=0.23.0->openai<2.0.0,>=1.55.3->langchain-openai==0.2.12) (1.0.9)\n",
            "Requirement already satisfied: h11>=0.16 in /usr/local/lib/python3.11/dist-packages (from httpcore==1.*->httpx<1,>=0.23.0->openai<2.0.0,>=1.55.3->langchain-openai==0.2.12) (0.16.0)\n",
            "Requirement already satisfied: jsonpointer>=1.9 in /usr/local/lib/python3.11/dist-packages (from jsonpatch<2.0,>=1.33->langchain-core<0.4.0,>=0.3.21->langchain-openai==0.2.12) (3.0.0)\n",
            "Requirement already satisfied: orjson<4.0.0,>=3.9.14 in /usr/local/lib/python3.11/dist-packages (from langsmith<0.4,>=0.1.126->langchain-core<0.4.0,>=0.3.21->langchain-openai==0.2.12) (3.10.18)\n",
            "Requirement already satisfied: requests-toolbelt<2.0.0,>=1.0.0 in /usr/local/lib/python3.11/dist-packages (from langsmith<0.4,>=0.1.126->langchain-core<0.4.0,>=0.3.21->langchain-openai==0.2.12) (1.0.0)\n",
            "Requirement already satisfied: annotated-types>=0.6.0 in /usr/local/lib/python3.11/dist-packages (from pydantic>=2.7.4->langchain-core<0.4.0,>=0.3.21->langchain-openai==0.2.12) (0.7.0)\n",
            "Requirement already satisfied: pydantic-core==2.33.2 in /usr/local/lib/python3.11/dist-packages (from pydantic>=2.7.4->langchain-core<0.4.0,>=0.3.21->langchain-openai==0.2.12) (2.33.2)\n",
            "Requirement already satisfied: typing-inspection>=0.4.0 in /usr/local/lib/python3.11/dist-packages (from pydantic>=2.7.4->langchain-core<0.4.0,>=0.3.21->langchain-openai==0.2.12) (0.4.1)\n",
            "Requirement already satisfied: charset-normalizer<4,>=2 in /usr/local/lib/python3.11/dist-packages (from requests>=2.26.0->tiktoken<1,>=0.7->langchain-openai==0.2.12) (3.4.2)\n",
            "Requirement already satisfied: urllib3<3,>=1.21.1 in /usr/local/lib/python3.11/dist-packages (from requests>=2.26.0->tiktoken<1,>=0.7->langchain-openai==0.2.12) (2.4.0)\n",
            "Downloading langchain_openai-0.2.12-py3-none-any.whl (50 kB)\n",
            "\u001b[2K   \u001b[90m━━━━━━━━━━━━━━━━━━━━━━━━━━━━━━━━━━━━━━━━\u001b[0m \u001b[32m50.7/50.7 kB\u001b[0m \u001b[31m3.4 MB/s\u001b[0m eta \u001b[36m0:00:00\u001b[0m\n",
            "\u001b[?25hInstalling collected packages: langchain-openai\n",
            "Successfully installed langchain-openai-0.2.12\n",
            "Collecting langchain-community==0.3.11\n",
            "  Downloading langchain_community-0.3.11-py3-none-any.whl.metadata (2.9 kB)\n",
            "Requirement already satisfied: PyYAML>=5.3 in /usr/local/lib/python3.11/dist-packages (from langchain-community==0.3.11) (6.0.2)\n",
            "Requirement already satisfied: SQLAlchemy<3,>=1.4 in /usr/local/lib/python3.11/dist-packages (from langchain-community==0.3.11) (2.0.41)\n",
            "Requirement already satisfied: aiohttp<4.0.0,>=3.8.3 in /usr/local/lib/python3.11/dist-packages (from langchain-community==0.3.11) (3.11.15)\n",
            "Collecting dataclasses-json<0.7,>=0.5.7 (from langchain-community==0.3.11)\n",
            "  Downloading dataclasses_json-0.6.7-py3-none-any.whl.metadata (25 kB)\n",
            "Collecting httpx-sse<0.5.0,>=0.4.0 (from langchain-community==0.3.11)\n",
            "  Downloading httpx_sse-0.4.0-py3-none-any.whl.metadata (9.0 kB)\n",
            "Requirement already satisfied: langchain<0.4.0,>=0.3.11 in /usr/local/lib/python3.11/dist-packages (from langchain-community==0.3.11) (0.3.11)\n",
            "Requirement already satisfied: langchain-core<0.4.0,>=0.3.24 in /usr/local/lib/python3.11/dist-packages (from langchain-community==0.3.11) (0.3.60)\n",
            "Requirement already satisfied: langsmith<0.3,>=0.1.125 in /usr/local/lib/python3.11/dist-packages (from langchain-community==0.3.11) (0.2.11)\n",
            "Requirement already satisfied: numpy<2,>=1.22.4 in /usr/local/lib/python3.11/dist-packages (from langchain-community==0.3.11) (1.26.4)\n",
            "Collecting pydantic-settings<3.0.0,>=2.4.0 (from langchain-community==0.3.11)\n",
            "  Downloading pydantic_settings-2.9.1-py3-none-any.whl.metadata (3.8 kB)\n",
            "Requirement already satisfied: requests<3,>=2 in /usr/local/lib/python3.11/dist-packages (from langchain-community==0.3.11) (2.32.3)\n",
            "Requirement already satisfied: tenacity!=8.4.0,<10,>=8.1.0 in /usr/local/lib/python3.11/dist-packages (from langchain-community==0.3.11) (9.1.2)\n",
            "Requirement already satisfied: aiohappyeyeballs>=2.3.0 in /usr/local/lib/python3.11/dist-packages (from aiohttp<4.0.0,>=3.8.3->langchain-community==0.3.11) (2.6.1)\n",
            "Requirement already satisfied: aiosignal>=1.1.2 in /usr/local/lib/python3.11/dist-packages (from aiohttp<4.0.0,>=3.8.3->langchain-community==0.3.11) (1.3.2)\n",
            "Requirement already satisfied: attrs>=17.3.0 in /usr/local/lib/python3.11/dist-packages (from aiohttp<4.0.0,>=3.8.3->langchain-community==0.3.11) (25.3.0)\n",
            "Requirement already satisfied: frozenlist>=1.1.1 in /usr/local/lib/python3.11/dist-packages (from aiohttp<4.0.0,>=3.8.3->langchain-community==0.3.11) (1.6.0)\n",
            "Requirement already satisfied: multidict<7.0,>=4.5 in /usr/local/lib/python3.11/dist-packages (from aiohttp<4.0.0,>=3.8.3->langchain-community==0.3.11) (6.4.4)\n",
            "Requirement already satisfied: propcache>=0.2.0 in /usr/local/lib/python3.11/dist-packages (from aiohttp<4.0.0,>=3.8.3->langchain-community==0.3.11) (0.3.1)\n",
            "Requirement already satisfied: yarl<2.0,>=1.17.0 in /usr/local/lib/python3.11/dist-packages (from aiohttp<4.0.0,>=3.8.3->langchain-community==0.3.11) (1.20.0)\n",
            "Collecting marshmallow<4.0.0,>=3.18.0 (from dataclasses-json<0.7,>=0.5.7->langchain-community==0.3.11)\n",
            "  Downloading marshmallow-3.26.1-py3-none-any.whl.metadata (7.3 kB)\n",
            "Collecting typing-inspect<1,>=0.4.0 (from dataclasses-json<0.7,>=0.5.7->langchain-community==0.3.11)\n",
            "  Downloading typing_inspect-0.9.0-py3-none-any.whl.metadata (1.5 kB)\n",
            "Requirement already satisfied: langchain-text-splitters<0.4.0,>=0.3.0 in /usr/local/lib/python3.11/dist-packages (from langchain<0.4.0,>=0.3.11->langchain-community==0.3.11) (0.3.8)\n",
            "Requirement already satisfied: pydantic<3.0.0,>=2.7.4 in /usr/local/lib/python3.11/dist-packages (from langchain<0.4.0,>=0.3.11->langchain-community==0.3.11) (2.11.4)\n",
            "Requirement already satisfied: jsonpatch<2.0,>=1.33 in /usr/local/lib/python3.11/dist-packages (from langchain-core<0.4.0,>=0.3.24->langchain-community==0.3.11) (1.33)\n",
            "Requirement already satisfied: packaging<25,>=23.2 in /usr/local/lib/python3.11/dist-packages (from langchain-core<0.4.0,>=0.3.24->langchain-community==0.3.11) (24.2)\n",
            "Requirement already satisfied: typing-extensions>=4.7 in /usr/local/lib/python3.11/dist-packages (from langchain-core<0.4.0,>=0.3.24->langchain-community==0.3.11) (4.13.2)\n",
            "Requirement already satisfied: httpx<1,>=0.23.0 in /usr/local/lib/python3.11/dist-packages (from langsmith<0.3,>=0.1.125->langchain-community==0.3.11) (0.28.1)\n",
            "Requirement already satisfied: orjson<4.0.0,>=3.9.14 in /usr/local/lib/python3.11/dist-packages (from langsmith<0.3,>=0.1.125->langchain-community==0.3.11) (3.10.18)\n",
            "Requirement already satisfied: requests-toolbelt<2.0.0,>=1.0.0 in /usr/local/lib/python3.11/dist-packages (from langsmith<0.3,>=0.1.125->langchain-community==0.3.11) (1.0.0)\n",
            "Collecting python-dotenv>=0.21.0 (from pydantic-settings<3.0.0,>=2.4.0->langchain-community==0.3.11)\n",
            "  Downloading python_dotenv-1.1.0-py3-none-any.whl.metadata (24 kB)\n",
            "Requirement already satisfied: typing-inspection>=0.4.0 in /usr/local/lib/python3.11/dist-packages (from pydantic-settings<3.0.0,>=2.4.0->langchain-community==0.3.11) (0.4.1)\n",
            "Requirement already satisfied: charset-normalizer<4,>=2 in /usr/local/lib/python3.11/dist-packages (from requests<3,>=2->langchain-community==0.3.11) (3.4.2)\n",
            "Requirement already satisfied: idna<4,>=2.5 in /usr/local/lib/python3.11/dist-packages (from requests<3,>=2->langchain-community==0.3.11) (3.10)\n",
            "Requirement already satisfied: urllib3<3,>=1.21.1 in /usr/local/lib/python3.11/dist-packages (from requests<3,>=2->langchain-community==0.3.11) (2.4.0)\n",
            "Requirement already satisfied: certifi>=2017.4.17 in /usr/local/lib/python3.11/dist-packages (from requests<3,>=2->langchain-community==0.3.11) (2025.4.26)\n",
            "Requirement already satisfied: greenlet>=1 in /usr/local/lib/python3.11/dist-packages (from SQLAlchemy<3,>=1.4->langchain-community==0.3.11) (3.2.2)\n",
            "Requirement already satisfied: anyio in /usr/local/lib/python3.11/dist-packages (from httpx<1,>=0.23.0->langsmith<0.3,>=0.1.125->langchain-community==0.3.11) (4.9.0)\n",
            "Requirement already satisfied: httpcore==1.* in /usr/local/lib/python3.11/dist-packages (from httpx<1,>=0.23.0->langsmith<0.3,>=0.1.125->langchain-community==0.3.11) (1.0.9)\n",
            "Requirement already satisfied: h11>=0.16 in /usr/local/lib/python3.11/dist-packages (from httpcore==1.*->httpx<1,>=0.23.0->langsmith<0.3,>=0.1.125->langchain-community==0.3.11) (0.16.0)\n",
            "Requirement already satisfied: jsonpointer>=1.9 in /usr/local/lib/python3.11/dist-packages (from jsonpatch<2.0,>=1.33->langchain-core<0.4.0,>=0.3.24->langchain-community==0.3.11) (3.0.0)\n",
            "Requirement already satisfied: annotated-types>=0.6.0 in /usr/local/lib/python3.11/dist-packages (from pydantic<3.0.0,>=2.7.4->langchain<0.4.0,>=0.3.11->langchain-community==0.3.11) (0.7.0)\n",
            "Requirement already satisfied: pydantic-core==2.33.2 in /usr/local/lib/python3.11/dist-packages (from pydantic<3.0.0,>=2.7.4->langchain<0.4.0,>=0.3.11->langchain-community==0.3.11) (2.33.2)\n",
            "Collecting mypy-extensions>=0.3.0 (from typing-inspect<1,>=0.4.0->dataclasses-json<0.7,>=0.5.7->langchain-community==0.3.11)\n",
            "  Downloading mypy_extensions-1.1.0-py3-none-any.whl.metadata (1.1 kB)\n",
            "Requirement already satisfied: sniffio>=1.1 in /usr/local/lib/python3.11/dist-packages (from anyio->httpx<1,>=0.23.0->langsmith<0.3,>=0.1.125->langchain-community==0.3.11) (1.3.1)\n",
            "Downloading langchain_community-0.3.11-py3-none-any.whl (2.5 MB)\n",
            "\u001b[2K   \u001b[90m━━━━━━━━━━━━━━━━━━━━━━━━━━━━━━━━━━━━━━━━\u001b[0m \u001b[32m2.5/2.5 MB\u001b[0m \u001b[31m47.4 MB/s\u001b[0m eta \u001b[36m0:00:00\u001b[0m\n",
            "\u001b[?25hDownloading dataclasses_json-0.6.7-py3-none-any.whl (28 kB)\n",
            "Downloading httpx_sse-0.4.0-py3-none-any.whl (7.8 kB)\n",
            "Downloading pydantic_settings-2.9.1-py3-none-any.whl (44 kB)\n",
            "\u001b[2K   \u001b[90m━━━━━━━━━━━━━━━━━━━━━━━━━━━━━━━━━━━━━━━━\u001b[0m \u001b[32m44.4/44.4 kB\u001b[0m \u001b[31m3.9 MB/s\u001b[0m eta \u001b[36m0:00:00\u001b[0m\n",
            "\u001b[?25hDownloading marshmallow-3.26.1-py3-none-any.whl (50 kB)\n",
            "\u001b[2K   \u001b[90m━━━━━━━━━━━━━━━━━━━━━━━━━━━━━━━━━━━━━━━━\u001b[0m \u001b[32m50.9/50.9 kB\u001b[0m \u001b[31m4.4 MB/s\u001b[0m eta \u001b[36m0:00:00\u001b[0m\n",
            "\u001b[?25hDownloading python_dotenv-1.1.0-py3-none-any.whl (20 kB)\n",
            "Downloading typing_inspect-0.9.0-py3-none-any.whl (8.8 kB)\n",
            "Downloading mypy_extensions-1.1.0-py3-none-any.whl (5.0 kB)\n",
            "Installing collected packages: python-dotenv, mypy-extensions, marshmallow, httpx-sse, typing-inspect, pydantic-settings, dataclasses-json, langchain-community\n",
            "Successfully installed dataclasses-json-0.6.7 httpx-sse-0.4.0 langchain-community-0.3.11 marshmallow-3.26.1 mypy-extensions-1.1.0 pydantic-settings-2.9.1 python-dotenv-1.1.0 typing-inspect-0.9.0\n"
          ]
        }
      ],
      "source": [
        "!pip install langchain==0.3.11\n",
        "!pip install langchain-openai==0.2.12\n",
        "!pip install langchain-community==0.3.11"
      ]
    },
    {
      "cell_type": "markdown",
      "metadata": {
        "id": "TlfidBdQZRGj"
      },
      "source": [
        "## Install Search APIs"
      ]
    },
    {
      "cell_type": "code",
      "execution_count": 2,
      "metadata": {
        "colab": {
          "base_uri": "https://localhost:8080/"
        },
        "id": "YDhgHw6J-rhZ",
        "outputId": "524399c4-9b49-4bbb-d4d4-b19ace01f6ff"
      },
      "outputs": [
        {
          "output_type": "stream",
          "name": "stdout",
          "text": [
            "Collecting duckduckgo-search\n",
            "  Downloading duckduckgo_search-8.0.2-py3-none-any.whl.metadata (16 kB)\n",
            "Requirement already satisfied: click>=8.1.8 in /usr/local/lib/python3.11/dist-packages (from duckduckgo-search) (8.2.1)\n",
            "Collecting primp>=0.15.0 (from duckduckgo-search)\n",
            "  Downloading primp-0.15.0-cp38-abi3-manylinux_2_17_x86_64.manylinux2014_x86_64.whl.metadata (13 kB)\n",
            "Requirement already satisfied: lxml>=5.3.0 in /usr/local/lib/python3.11/dist-packages (from duckduckgo-search) (5.4.0)\n",
            "Downloading duckduckgo_search-8.0.2-py3-none-any.whl (18 kB)\n",
            "Downloading primp-0.15.0-cp38-abi3-manylinux_2_17_x86_64.manylinux2014_x86_64.whl (3.3 MB)\n",
            "\u001b[2K   \u001b[90m━━━━━━━━━━━━━━━━━━━━━━━━━━━━━━━━━━━━━━━━\u001b[0m \u001b[32m3.3/3.3 MB\u001b[0m \u001b[31m48.8 MB/s\u001b[0m eta \u001b[36m0:00:00\u001b[0m\n",
            "\u001b[?25hInstalling collected packages: primp, duckduckgo-search\n",
            "Successfully installed duckduckgo-search-8.0.2 primp-0.15.0\n",
            "Collecting wikipedia\n",
            "  Downloading wikipedia-1.4.0.tar.gz (27 kB)\n",
            "  Preparing metadata (setup.py) ... \u001b[?25l\u001b[?25hdone\n",
            "Requirement already satisfied: beautifulsoup4 in /usr/local/lib/python3.11/dist-packages (from wikipedia) (4.13.4)\n",
            "Requirement already satisfied: requests<3.0.0,>=2.0.0 in /usr/local/lib/python3.11/dist-packages (from wikipedia) (2.32.3)\n",
            "Requirement already satisfied: charset-normalizer<4,>=2 in /usr/local/lib/python3.11/dist-packages (from requests<3.0.0,>=2.0.0->wikipedia) (3.4.2)\n",
            "Requirement already satisfied: idna<4,>=2.5 in /usr/local/lib/python3.11/dist-packages (from requests<3.0.0,>=2.0.0->wikipedia) (3.10)\n",
            "Requirement already satisfied: urllib3<3,>=1.21.1 in /usr/local/lib/python3.11/dist-packages (from requests<3.0.0,>=2.0.0->wikipedia) (2.4.0)\n",
            "Requirement already satisfied: certifi>=2017.4.17 in /usr/local/lib/python3.11/dist-packages (from requests<3.0.0,>=2.0.0->wikipedia) (2025.4.26)\n",
            "Requirement already satisfied: soupsieve>1.2 in /usr/local/lib/python3.11/dist-packages (from beautifulsoup4->wikipedia) (2.7)\n",
            "Requirement already satisfied: typing-extensions>=4.0.0 in /usr/local/lib/python3.11/dist-packages (from beautifulsoup4->wikipedia) (4.13.2)\n",
            "Building wheels for collected packages: wikipedia\n",
            "  Building wheel for wikipedia (setup.py) ... \u001b[?25l\u001b[?25hdone\n",
            "  Created wheel for wikipedia: filename=wikipedia-1.4.0-py3-none-any.whl size=11678 sha256=3aca81009b3f03af29a16b6d1ea41e89f634c5078c6da29ea60c14791ab144fd\n",
            "  Stored in directory: /root/.cache/pip/wheels/8f/ab/cb/45ccc40522d3a1c41e1d2ad53b8f33a62f394011ec38cd71c6\n",
            "Successfully built wikipedia\n",
            "Installing collected packages: wikipedia\n",
            "Successfully installed wikipedia-1.4.0\n",
            "Requirement already satisfied: rich in /usr/local/lib/python3.11/dist-packages (13.9.4)\n",
            "Requirement already satisfied: markdown-it-py>=2.2.0 in /usr/local/lib/python3.11/dist-packages (from rich) (3.0.0)\n",
            "Requirement already satisfied: pygments<3.0.0,>=2.13.0 in /usr/local/lib/python3.11/dist-packages (from rich) (2.19.1)\n",
            "Requirement already satisfied: mdurl~=0.1 in /usr/local/lib/python3.11/dist-packages (from markdown-it-py>=2.2.0->rich) (0.1.2)\n"
          ]
        }
      ],
      "source": [
        "!pip install duckduckgo-search\n",
        "!pip install wikipedia\n",
        "# to highlight json\n",
        "!pip install rich"
      ]
    },
    {
      "cell_type": "code",
      "execution_count": 3,
      "metadata": {
        "colab": {
          "base_uri": "https://localhost:8080/",
          "height": 35
        },
        "id": "cQPXLLqZ-rhZ",
        "outputId": "544252b4-e1e7-4991-9596-d5bdaa985a2a"
      },
      "outputs": [
        {
          "output_type": "execute_result",
          "data": {
            "text/plain": [
              "'8.0.2'"
            ],
            "application/vnd.google.colaboratory.intrinsic+json": {
              "type": "string"
            }
          },
          "metadata": {},
          "execution_count": 3
        }
      ],
      "source": [
        "import duckduckgo_search\n",
        "duckduckgo_search.__version__"
      ]
    },
    {
      "cell_type": "code",
      "execution_count": 4,
      "metadata": {
        "colab": {
          "base_uri": "https://localhost:8080/"
        },
        "id": "sx9CmrkR-rhZ",
        "outputId": "cd339700-cdc2-4798-c3ce-c15c795274bb"
      },
      "outputs": [
        {
          "output_type": "execute_result",
          "data": {
            "text/plain": [
              "(1, 4, 0)"
            ]
          },
          "metadata": {},
          "execution_count": 4
        }
      ],
      "source": [
        "import wikipedia\n",
        "wikipedia.__version__"
      ]
    },
    {
      "cell_type": "markdown",
      "metadata": {
        "id": "-4BrOvDm-rhZ"
      },
      "source": [
        "## Get Tavily Search API Key\n",
        "\n",
        "Get a free API key from [here](https://tavily.com/#api)"
      ]
    },
    {
      "cell_type": "markdown",
      "metadata": {
        "id": "1T0s0um5Svfa"
      },
      "source": [
        "## Setup Environment Variables"
      ]
    },
    {
      "cell_type": "code",
      "execution_count": 5,
      "metadata": {
        "id": "s8Fu6mP6-rha"
      },
      "outputs": [],
      "source": [
        "from google.colab import userdata\n",
        "import os\n",
        "\n",
        "os.environ['TAVILY_API_KEY'] = userdata.get('TAVILY_API_KEY')\n",
        "os.environ['OPENAI_API_KEY'] = userdata.get('OPENAI_API_KEY')"
      ]
    },
    {
      "cell_type": "markdown",
      "metadata": {
        "id": "howf-v0ARWbv"
      },
      "source": [
        "## Exploring the Wikipedia Tool\n",
        "\n",
        "Enables you to tap into the Wikipedia API to search wikipedia pages for information"
      ]
    },
    {
      "cell_type": "code",
      "execution_count": 6,
      "metadata": {
        "id": "q2CMhK9Rjk2t"
      },
      "outputs": [],
      "source": [
        "from langchain_community.tools import WikipediaQueryRun\n",
        "from langchain_community.utilities import WikipediaAPIWrapper\n",
        "\n",
        "wiki_api_wrapper = WikipediaAPIWrapper(top_k_results=2, doc_content_chars_max=8000)\n",
        "wiki_tool = WikipediaQueryRun(api_wrapper=wiki_api_wrapper, features=\"lxml\")"
      ]
    },
    {
      "cell_type": "code",
      "execution_count": 7,
      "metadata": {
        "colab": {
          "base_uri": "https://localhost:8080/",
          "height": 35
        },
        "id": "t1Ce8wbYodYO",
        "outputId": "3314986f-5fd0-466a-c383-7624d5c35b71"
      },
      "outputs": [
        {
          "output_type": "execute_result",
          "data": {
            "text/plain": [
              "'A wrapper around Wikipedia. Useful for when you need to answer general questions about people, places, companies, facts, historical events, or other subjects. Input should be a search query.'"
            ],
            "application/vnd.google.colaboratory.intrinsic+json": {
              "type": "string"
            }
          },
          "metadata": {},
          "execution_count": 7
        }
      ],
      "source": [
        "wiki_tool.description"
      ]
    },
    {
      "cell_type": "code",
      "execution_count": 8,
      "metadata": {
        "colab": {
          "base_uri": "https://localhost:8080/"
        },
        "id": "d2MSVAh2osSE",
        "outputId": "17a93452-d484-4be0-8b0f-1a66f74bb719"
      },
      "outputs": [
        {
          "output_type": "execute_result",
          "data": {
            "text/plain": [
              "{'query': {'description': 'query to look up on wikipedia',\n",
              "  'title': 'Query',\n",
              "  'type': 'string'}}"
            ]
          },
          "metadata": {},
          "execution_count": 8
        }
      ],
      "source": [
        "wiki_tool.args"
      ]
    },
    {
      "cell_type": "code",
      "execution_count": 9,
      "metadata": {
        "colab": {
          "base_uri": "https://localhost:8080/"
        },
        "id": "luhjlzeSkgUq",
        "outputId": "25999a19-297b-460c-c8f5-a4717ed34e9d"
      },
      "outputs": [
        {
          "output_type": "stream",
          "name": "stdout",
          "text": [
            "Page: New Delhi\n",
            "Summary: New Delhi ( ; Hindi: Naī Dillī, pronounced [ˈnəiː ˈdɪlːiː]) is the capital of India and a part of the National Capital Territory of Delhi (NCT). New Delhi is the seat of all three branches of the Government of India, hosting the Rashtrapati Bhavan, Sansad Bhavan, and the Supreme Court. New Delhi is a municipality within the NCT, administered by the New Delhi Municipal Council (NDMC), which covers mostly Lutyens' Delhi and a few adjacent areas. The municipal area is part of a larger administrative district, the New Delhi district.\n",
            "Although colloquially Delhi and New Delhi are used interchangeably to refer to the National Capital Territory of Delhi, both are distinct entities, with the municipality and the New Delhi district forming a relatively small part within the megacity of Delhi. The National Capital Region is an even larger entity, comprising the entire NCT along with adjoining districts in the two neighbouring states forming a continuously built-up area with it, including Ghaziabad, Noida, Greater Noida, Meerut, YEIDA City, Gurgaon, and Faridabad.\n",
            "The foundation stone of New Delhi, south of central Delhi, was laid by George V during the Delhi Durbar of 1911. It was designed by British architects Edwin Lutyens and Herbert Baker. The new capital was inaugurated on 13 February 1931, by Viceroy and Governor-General Irwin.\n",
            "\n",
            "Page: Delhi\n",
            "Summary: Delhi, officially the National Capital Territory (NCT) of Delhi, is a city and a union territory of India containing New Delhi, the capital of India. Straddling the Yamuna river, but spread chiefly to the west, or beyond its right bank, Delhi shares borders with the state of Uttar Pradesh in the east and with the state of Haryana in the remaining directions. Delhi became a union territory on 1 November 1956 and the NCT in 1995. The NCT covers an area of 1,484 square kilometres (573 sq mi). According to the 2011 census, Delhi's city proper population was over 11 million, while the NCT's population was about 16.8 million.\n",
            "The topography of the medieval fort Purana Qila on the banks of the river Yamuna matches the literary description of the citadel Indraprastha in the Sanskrit epic Mahabharata; however, excavations in the area have revealed no signs of an ancient built environment. From the early 13th century until the mid-19th century, Delhi was the capital of two major empires, the Delhi Sultanate and the Mughal Empire, which covered large parts of South Asia. All three UNESCO World Heritage Sites in the city, the Qutub Minar, Humayun's Tomb, and the Red Fort, belong to this period. Delhi was the early centre of Sufism and Qawwali music. The names of Nizamuddin Auliya and Amir Khusrau are prominently associated with it. The Khariboli dialect of Delhi was part of a linguistic development that gave rise to the literature of Urdu and later Modern Standard Hindi. Major Urdu poets from Delhi include Mir Taqi Mir and Mirza Ghalib. Delhi was a notable centre of the Indian Rebellion of 1857. In 1911, New Delhi, a southern region within Delhi, became the capital of the British Indian Empire. During the Partition of India in 1947, Delhi was transformed from a Mughal city to a Punjabi one, losing two-thirds of its Muslim residents, in part due to the pressure brought to bear by arriving Hindu and Sikh refugees from western Punjab. After independence in 1947, New Delhi continued as the capital of the Dominion of India, and after 1950 of the Republic of India.\n",
            "Delhi's urban agglomeration, which includes the satellite cities Ghaziabad, Faridabad, Gurgaon, Noida, Greater Noida and YEIDA city located in an area known as the National Capital Region (NCR), has an estimated population of over 28 million, making it the largest metropolitan area in India and the second-largest in the world (after Tokyo). Delhi ranks fifth among the Indian states and union territories in human development index, and has the second-highest GDP per capita in India (after Goa). Although a union territory, the political administration of the NCT of Delhi today more closely resembles that of a state of India, with its own legislature, high court and an executive council of ministers headed by a chief minister. New Delhi is jointly administered by the federal government of India and the local government of Delhi, and serves as the capital of the nation as well as the NCT of Delhi. Delhi is also the centre of the National Capital Region, which is an \"interstate regional planning\" area created in 1985. Delhi hosted the inaugural 1951 Asian Games, the 1982 Asian Games, the 1983 Non-Aligned Movement summit, the 2010 Men's Hockey World Cup, the 2010 Commonwealth Games, the 2012 BRICS summit, the 2023 G20 summit, and was one of the major host cities of the 2011 and 2023 Cricket World Cups.\n"
          ]
        }
      ],
      "source": [
        "print(wiki_tool.invoke({\"query\": \"New Delhi\"}))"
      ]
    },
    {
      "cell_type": "markdown",
      "metadata": {
        "id": "LnfMeoXJVn-i"
      },
      "source": [
        " We can customize the default tool with its own name, description and so on as follows"
      ]
    },
    {
      "cell_type": "code",
      "execution_count": 10,
      "metadata": {
        "id": "1tO5g9Q1jk7x"
      },
      "outputs": [],
      "source": [
        "from langchain.agents import Tool\n",
        "\n",
        "wiki_tool_init = Tool(name=\"Wikipedia\",\n",
        "                      func=wiki_api_wrapper.run,\n",
        "                      description=\"useful when you need a detailed answer about encyclopaedic general knowledge\")"
      ]
    },
    {
      "cell_type": "code",
      "execution_count": 11,
      "metadata": {
        "colab": {
          "base_uri": "https://localhost:8080/",
          "height": 35
        },
        "id": "ZRTfVUuGo7ti",
        "outputId": "9b1c83fb-c8b0-4122-9a34-339c5f8937bc"
      },
      "outputs": [
        {
          "output_type": "execute_result",
          "data": {
            "text/plain": [
              "'useful when you need a detailed answer about encyclopaedic general knowledge'"
            ],
            "application/vnd.google.colaboratory.intrinsic+json": {
              "type": "string"
            }
          },
          "metadata": {},
          "execution_count": 11
        }
      ],
      "source": [
        "wiki_tool_init.description"
      ]
    },
    {
      "cell_type": "code",
      "execution_count": 12,
      "metadata": {
        "colab": {
          "base_uri": "https://localhost:8080/"
        },
        "id": "TW0emMEIou-L",
        "outputId": "6f25d69e-31c3-46ff-ba29-9f5e49dc90f6"
      },
      "outputs": [
        {
          "output_type": "execute_result",
          "data": {
            "text/plain": [
              "{'tool_input': {'type': 'string'}}"
            ]
          },
          "metadata": {},
          "execution_count": 12
        }
      ],
      "source": [
        "wiki_tool_init.args"
      ]
    },
    {
      "cell_type": "code",
      "execution_count": 13,
      "metadata": {
        "colab": {
          "base_uri": "https://localhost:8080/"
        },
        "id": "kgAwdPrBjk-x",
        "outputId": "cdcb2196-e4d0-45b6-ca02-42c6f60dab2a"
      },
      "outputs": [
        {
          "output_type": "stream",
          "name": "stderr",
          "text": [
            "/usr/local/lib/python3.11/dist-packages/wikipedia/wikipedia.py:389: GuessedAtParserWarning: No parser was explicitly specified, so I'm using the best available HTML parser for this system (\"lxml\"). This usually isn't a problem, but if you run this code on another system, or in a different virtual environment, it may use a different parser and behave differently.\n",
            "\n",
            "The code that caused this warning is on line 389 of the file /usr/local/lib/python3.11/dist-packages/wikipedia/wikipedia.py. To get rid of this warning, pass the additional argument 'features=\"lxml\"' to the BeautifulSoup constructor.\n",
            "\n",
            "  lis = BeautifulSoup(html).find_all('li')\n"
          ]
        },
        {
          "output_type": "stream",
          "name": "stdout",
          "text": [
            "Page: Artificial intelligence\n",
            "Summary: Artificial intelligence (AI) is the capability of computational systems to perform tasks typically associated with human intelligence, such as learning, reasoning, problem-solving, perception, and decision-making. It is a field of research in computer science that develops and studies methods and software that enable machines to perceive their environment and use learning and intelligence to take actions that maximize their chances of achieving defined goals.\n",
            "High-profile applications of AI include advanced web search engines (e.g., Google Search); recommendation systems (used by YouTube, Amazon, and Netflix); virtual assistants (e.g., Google Assistant, Siri, and Alexa); autonomous vehicles (e.g., Waymo); generative and creative tools (e.g., ChatGPT and AI art); and superhuman play and analysis in strategy games (e.g., chess and Go). However, many AI applications are not perceived as AI: \"A lot of cutting edge AI has filtered into general applications, often without being called AI because once something becomes useful enough and common enough it's not labeled AI anymore.\"\n",
            "Various subfields of AI research are centered around particular goals and the use of particular tools. The traditional goals of AI research include learning, reasoning, knowledge representation, planning, natural language processing, perception, and support for robotics. To reach these goals, AI researchers have adapted and integrated a wide range of techniques, including search and mathematical optimization, formal logic, artificial neural networks, and methods based on statistics, operations research, and economics. AI also draws upon psychology, linguistics, philosophy, neuroscience, and other fields. Some companies, such as OpenAI, Google DeepMind and Meta, aim to create artificial general intelligence (AGI)—AI that can complete virtually any cognitive task at least as well as a human.\n",
            "Artificial intelligence was founded as an academic discipline in 1956, and the field went through multiple cycles of optimism throughout its history, followed by periods of disappointment and loss of funding, known as AI winters. Funding and interest vastly increased after 2012 when graphics processing units started being used to accelerate neural networks, and deep learning outperformed previous AI techniques. This growth accelerated further after 2017 with the transformer architecture. In the 2020s, the period of rapid progress marked by advanced generative AI became known as the AI boom. Generative AI and its ability to create and modify content exposed several unintended consequences and harms in the present and raised ethical concerns about AI's long-term effects and potential existential risks, prompting discussions about regulatory policies to ensure the safety and benefits of the technology.\n"
          ]
        }
      ],
      "source": [
        "print(wiki_tool_init.invoke({\"tool_input\": \"AI\"}))"
      ]
    },
    {
      "cell_type": "markdown",
      "metadata": {
        "id": "cnQfnkQeV7Hp"
      },
      "source": [
        "## Exploring the Tavily Search Tool\n",
        "\n",
        "Tavily Search API is a search engine optimized for LLMs and RAG, aimed at efficient, quick and persistent search results"
      ]
    },
    {
      "cell_type": "code",
      "execution_count": 14,
      "metadata": {
        "id": "UjWM95p5pB4k"
      },
      "outputs": [],
      "source": [
        "from langchain_community.tools.tavily_search import TavilySearchResults\n",
        "\n",
        "tavily_tool = TavilySearchResults(max_results=2)"
      ]
    },
    {
      "cell_type": "code",
      "execution_count": 15,
      "metadata": {
        "colab": {
          "base_uri": "https://localhost:8080/"
        },
        "id": "WmawzibmjlC6",
        "outputId": "897222ae-fb08-43ad-e937-ec8ea1c119e5"
      },
      "outputs": [
        {
          "output_type": "execute_result",
          "data": {
            "text/plain": [
              "{'query': {'description': 'search query to look up',\n",
              "  'title': 'Query',\n",
              "  'type': 'string'}}"
            ]
          },
          "metadata": {},
          "execution_count": 15
        }
      ],
      "source": [
        "tavily_tool.args"
      ]
    },
    {
      "cell_type": "code",
      "execution_count": 16,
      "metadata": {
        "colab": {
          "base_uri": "https://localhost:8080/",
          "height": 35
        },
        "id": "eERoFFoPjlGJ",
        "outputId": "25b27480-df41-44f2-c77d-b9955453fb27"
      },
      "outputs": [
        {
          "output_type": "execute_result",
          "data": {
            "text/plain": [
              "'A search engine optimized for comprehensive, accurate, and trusted results. Useful for when you need to answer questions about current events. Input should be a search query.'"
            ],
            "application/vnd.google.colaboratory.intrinsic+json": {
              "type": "string"
            }
          },
          "metadata": {},
          "execution_count": 16
        }
      ],
      "source": [
        "tavily_tool.description"
      ]
    },
    {
      "cell_type": "code",
      "execution_count": 17,
      "metadata": {
        "colab": {
          "base_uri": "https://localhost:8080/"
        },
        "id": "khqWQVcvrnG9",
        "outputId": "02f4b6dc-6105-4111-d551-427d47cf118a"
      },
      "outputs": [
        {
          "output_type": "execute_result",
          "data": {
            "text/plain": [
              "[{'url': 'https://en.wikipedia.org/wiki/New_Delhi',\n",
              "  'content': \"New Delhi (/ˈ nj uː ˈ d ɛ.l i/ⓘ;[6]Hindi: _\\\\_Naī Dillī\\\\__, pronounced[ˈnəiː ˈdɪlːiː]) is the capital of India and a part of the National Capital Territory of Delhi (NCT). New Delhi is the seat of all three branches of the Government of India, hosting the Rashtrapati Bhavan, Sansad Bhavan, and the Supreme Court. New Delhi is a municipality within the NCT, administered by the New Delhi Municipal Council (NDMC), which covers mostly Lutyens' Delhi and a few adjacent areas. The municipal area is [...] New Delhi is a cosmopolitan city due to the multi-ethnic and multi-cultural presence of the vast Indian bureaucracy and political system. The city's capital status has amplified the importance of national events and holidays. National events such as Republic Day, Independence Day and Gandhi Jayanti (Gandhi's birthday) are celebrated with great enthusiasm in New Delhi and the rest of India. On India's Independence Day (15 August), the prime minister of India addresses the nation from the Red\"},\n",
              " {'url': 'https://unacademy.com/content/railway-exam/study-material/geography/new-delhi-the-capital-city/',\n",
              "  'content': 'New Delhi is the capital of India. It is one of the most modernized and civilized cities in India. New Delhi is also a part of NCT, the National Capital Territory of Delhi. New Delhi is the location of India, from where the whole central government regulates the functioning of India. The Supreme Court of India, Parliament of India, Rashtrapati Bhavan, and the three main powers in New Delhi. The Supreme Court is India’s highest court, where all the major decisions are taken. The parliamentary [...] Ans. New Delhi is the capital of India. New Delhi and Delhi combined are called the National Capital Territory of Delhi. Along with this, the national capital region is much broader, in which various neighboring districts and places are also included. These are Gurgaon, Faridabad, Noida, and Ghaziabad. [...] Ans. New Delhi is the most popularized, civilized and modernized city in India. All the important work of the Indian central government is held in Delhi. The municipality lies within the range of the National Capital Territory of Delhi. The New Delhi Municipal Council regulates the administration of New Delhi. The New Delhi Municipal Council covers the Lutyens’ Delhi area of old Delhi and other related areas, and this area is called New Delhi. The municipal council regulates all the functioning'}]"
            ]
          },
          "metadata": {},
          "execution_count": 17
        }
      ],
      "source": [
        "results = tavily_tool.invoke(\"Tell me about New Delhi\")\n",
        "results"
      ]
    },
    {
      "cell_type": "code",
      "execution_count": 18,
      "metadata": {
        "colab": {
          "base_uri": "https://localhost:8080/"
        },
        "id": "ReJNMi5or6E9",
        "outputId": "75bd110f-86c9-46d8-fbb6-8bd76117f6ea"
      },
      "outputs": [
        {
          "output_type": "execute_result",
          "data": {
            "text/plain": [
              "[{'url': 'https://timesofindia.indiatimes.com/weather/bengaluru-weather-forecast-today/560001',\n",
              "  'content': \"Today's Weather in Bengaluru: In Bengaluru today, the weather is expected to be Mostly Cloudy with a maximum temperature of 26°C and a minimum of 22°C.\"},\n",
              " {'url': 'https://www.indiatoday.in/weather/bangalore-weather-forecast-today',\n",
              "  'content': \"The minimum temperature in Bangalore today is likely to hover around 21 degrees Celsius, while the maximum temperature might reach 25 degrees Celsius. The mercury level is expected to hover around 21 degrees Celsius throughout the day, with the wind speed around 8.03. The wind will move around 260 degrees with a gust speed of 16.12. The sunrise time is 05:53 AM, while it will set at 06:43 PM on Friday. As per the seven-day weather prediction, the temperature in Bangalore is likely to reach 25 [...] degrees Celsius on Friday, 29 degrees Celsius on Saturday, 30 degrees Celsius on Sunday, 29 degrees Celsius on Monday, 28 degrees Celsius on Tuesday, 24 degrees Celsius on Wednesday and 32 degrees Celsius on Thursday. [...] Weather of Major Cities\\n\\nRelated News\\n\\nNews Menu, May 30: PM Modi's UP, Bihar visit; monsoon chaos in Northeast, South\\n\\nStorm, rain, gusty winds bring respite from heat in parts of Delhi-NCR\\n\\nDK Shivakumar orders demolition of structures causing floods in Bengaluru\\n\\nWest Bengal, Odisha brace for heavy rain as weather system gains strength\\n\\nDelhi braces for thunderstorms and rainfall as IMD issues alerts\\n\\nIPL 2025, Qualifier 1 Weather Report: Will rain play spoilsport in Mullanpur?\"}]"
            ]
          },
          "metadata": {},
          "execution_count": 18
        }
      ],
      "source": [
        "results = tavily_tool.invoke(\"What is the current weather in Bangalore? from weatherapi\")\n",
        "results"
      ]
    },
    {
      "cell_type": "code",
      "execution_count": 19,
      "metadata": {
        "colab": {
          "base_uri": "https://localhost:8080/",
          "height": 35
        },
        "id": "n2rcyjZJsFZN",
        "outputId": "57430a32-3029-4308-e01d-c79a827f4317"
      },
      "outputs": [
        {
          "output_type": "execute_result",
          "data": {
            "text/plain": [
              "\"Today's Weather in Bengaluru: In Bengaluru today, the weather is expected to be Mostly Cloudy with a maximum temperature of 26°C and a minimum of 22°C.\""
            ],
            "application/vnd.google.colaboratory.intrinsic+json": {
              "type": "string"
            }
          },
          "metadata": {},
          "execution_count": 19
        }
      ],
      "source": [
        "results[0]['content']"
      ]
    },
    {
      "cell_type": "code",
      "execution_count": 20,
      "metadata": {
        "colab": {
          "base_uri": "https://localhost:8080/"
        },
        "outputId": "f79ca38b-0188-425a-cf3e-fef74ded3cc5",
        "id": "ntR61EJQ-rha"
      },
      "outputs": [
        {
          "output_type": "stream",
          "name": "stdout",
          "text": [
            "Today's Weather in Bengaluru: In Bengaluru today, the weather is expected to be Mostly Cloudy with a maximum temperature of 26°C and a minimum of 22°C.\n"
          ]
        }
      ],
      "source": [
        "print(results[0]['content'])"
      ]
    },
    {
      "cell_type": "code",
      "execution_count": 24,
      "metadata": {
        "colab": {
          "base_uri": "https://localhost:8080/"
        },
        "id": "rtRKAB7GWdSP",
        "outputId": "9bc74b34-d1ea-49fa-82be-057bbeaa0ba2"
      },
      "outputs": [
        {
          "output_type": "execute_result",
          "data": {
            "text/plain": [
              "[{'url': 'https://www.timeanddate.com/weather/switzerland/zurich',\n",
              "  'content': 'Weather in Zürich, Zurich, Switzerland\\n\\nSunny.\\n\\nFeels Like: 59\\xa0°FForecast: 85 / 53\\xa0°FWind: 1 mph ↑ from North\\n\\nLocation: | Zurich-Kloten\\nCurrent Time: | May 30, 2025 at 9:06:50 am\\nLatest Report: | May 30, 2025 at 8:20 am\\nVisibility: | 10\\xa0mi\\nPressure: | 30.27 \"Hg\\nHumidity: | 82%\\nDew Point: | 54\\xa0°F\\nUpcoming 5 hours\\n\\nNow | 10:00 am | 11:00 am | 12:00 pm | 1:00 pm | 2:00 pm\\n |  |  |  |  | \\n59\\xa0°F | 65\\xa0°F | 69\\xa0°F | 72\\xa0°F | 75\\xa0°F | 77\\xa0°F\\nSee more hour-by-hour weather\\n\\nForecast for the next 48 hours [...] Humidity | 73% | 45% | 67% | 93% | 72% | 42% | 65%\\nDew Point | 52\\xa0°F | 56\\xa0°F | 59\\xa0°F | 53\\xa0°F | 55\\xa0°F | 58\\xa0°F | 61\\xa0°F\\nVisibility | 8\\xa0mi | 9\\xa0mi | 7\\xa0mi | 7\\xa0mi | 8\\xa0mi | 9\\xa0mi | 6\\xa0mi\\nProbability of Precipitation | 0% | 0% | 0% | 0% | 0% | 0% | 0%\\n* Updated Friday, May 30, 2025 3:42:58 am Zürich time - Weather by CustomWeather, © 2025\\n14 day forecast, day-by-dayHour-by-hour forecast for next week [...] 74 / 60\\xa0°F\\n\\nDetailed forecast for 14 days\\n\\nNeed some help?\\n\\nLove Our Site? Become a Supporter\\n\\n© Time and Date AS 1995–2025\\n\\nCompany\\n\\nLegal\\n\\nServices\\n\\nSites\\n\\nFollow Us\\n\\n© Time and Date AS 1995–2025. \\n Privacy & Terms'},\n",
              " {'url': 'https://www.accuweather.com/en/ch/zurich/316622/weather-forecast/316622',\n",
              "  'content': \"Today's Weather. Fri, May 30. Mostly sunny and very warm Hi: 81°. Tonight: Increasing cloudiness Lo: 56° · Current Weather. 3:16 AM. 55°F. Mostly clear.\"}]"
            ]
          },
          "metadata": {},
          "execution_count": 24
        }
      ],
      "source": [
        "results = tavily_tool.invoke(\"Get Current weather in Zurich, from weatherapi\")\n",
        "results"
      ]
    },
    {
      "cell_type": "code",
      "source": [
        "print(results[0]['content'])"
      ],
      "metadata": {
        "colab": {
          "base_uri": "https://localhost:8080/"
        },
        "id": "nhA9DxE9BDUQ",
        "outputId": "d483c7f7-be57-4cd4-c10d-a07988a0ddfd"
      },
      "execution_count": 26,
      "outputs": [
        {
          "output_type": "stream",
          "name": "stdout",
          "text": [
            "Weather in Zürich, Zurich, Switzerland\n",
            "\n",
            "Sunny.\n",
            "\n",
            "Feels Like: 59 °FForecast: 85 / 53 °FWind: 1 mph ↑ from North\n",
            "\n",
            "Location: | Zurich-Kloten\n",
            "Current Time: | May 30, 2025 at 9:06:50 am\n",
            "Latest Report: | May 30, 2025 at 8:20 am\n",
            "Visibility: | 10 mi\n",
            "Pressure: | 30.27 \"Hg\n",
            "Humidity: | 82%\n",
            "Dew Point: | 54 °F\n",
            "Upcoming 5 hours\n",
            "\n",
            "Now | 10:00 am | 11:00 am | 12:00 pm | 1:00 pm | 2:00 pm\n",
            " |  |  |  |  | \n",
            "59 °F | 65 °F | 69 °F | 72 °F | 75 °F | 77 °F\n",
            "See more hour-by-hour weather\n",
            "\n",
            "Forecast for the next 48 hours [...] Humidity | 73% | 45% | 67% | 93% | 72% | 42% | 65%\n",
            "Dew Point | 52 °F | 56 °F | 59 °F | 53 °F | 55 °F | 58 °F | 61 °F\n",
            "Visibility | 8 mi | 9 mi | 7 mi | 7 mi | 8 mi | 9 mi | 6 mi\n",
            "Probability of Precipitation | 0% | 0% | 0% | 0% | 0% | 0% | 0%\n",
            "* Updated Friday, May 30, 2025 3:42:58 am Zürich time - Weather by CustomWeather, © 2025\n",
            "14 day forecast, day-by-dayHour-by-hour forecast for next week [...] 74 / 60 °F\n",
            "\n",
            "Detailed forecast for 14 days\n",
            "\n",
            "Need some help?\n",
            "\n",
            "Love Our Site? Become a Supporter\n",
            "\n",
            "© Time and Date AS 1995–2025\n",
            "\n",
            "Company\n",
            "\n",
            "Legal\n",
            "\n",
            "Services\n",
            "\n",
            "Sites\n",
            "\n",
            "Follow Us\n",
            "\n",
            "© Time and Date AS 1995–2025. \n",
            " Privacy & Terms\n"
          ]
        }
      ]
    },
    {
      "cell_type": "markdown",
      "metadata": {
        "id": "UnKivWlHZoL7"
      },
      "source": [
        "## Exploring the DuckDuckGo Search Tool\n",
        "\n",
        "Enables you to search for words, documents, images, videos, news, maps and text translation using the DuckDuckGo.com search engine."
      ]
    },
    {
      "cell_type": "code",
      "execution_count": 27,
      "metadata": {
        "id": "iiw3xNrEsPcr"
      },
      "outputs": [],
      "source": [
        "from langchain_community.utilities import DuckDuckGoSearchAPIWrapper\n",
        "from langchain_community.tools import DuckDuckGoSearchResults\n",
        "\n",
        "# we choose wt-wt to just do generic and not region specific search\n",
        "# check https://github.com/deedy5/duckduckgo_search?tab=readme-ov-file#regions for more details\n",
        "wrapper = DuckDuckGoSearchAPIWrapper(region=\"wt-wt\", max_results=2)\n",
        "ddgs_tool = DuckDuckGoSearchResults(api_wrapper=wrapper, source=\"news\")"
      ]
    },
    {
      "cell_type": "code",
      "execution_count": 28,
      "metadata": {
        "colab": {
          "base_uri": "https://localhost:8080/",
          "height": 140
        },
        "id": "2dnyqMiRwhFe",
        "outputId": "a8b00a19-8749-40ab-e5e8-176f256c233b"
      },
      "outputs": [
        {
          "output_type": "stream",
          "name": "stderr",
          "text": [
            "/usr/local/lib/python3.11/dist-packages/langchain_community/utilities/duckduckgo_search.py:64: UserWarning: backend='api' is deprecated, using backend='auto'\n",
            "  ddgs_gen = ddgs.text(\n"
          ]
        },
        {
          "output_type": "execute_result",
          "data": {
            "text/plain": [
              "'snippet: One of the country\\'s largest urban agglomerations, Delhi sits astride (but primarily on the west bank of) the Yamuna River, a tributary of the Ganges (Ganga) River, about 100 miles (160 km) south of the Himalayas.The national capital territory embraces Old and New Delhi and the surrounding metropolitan region, as well as adjacent rural areas. To the east the territory is bounded by the state ..., title: Delhi | History, Population, Map, & Facts | Britannica, link: https://www.britannica.com/place/Delhi, snippet: Delhi is famous for its history and historic monuments. From prehistoric to its time as a British colony, Delhi has a remarkable history. Delhi is the site of 8 historic cities, each city conquered and re-built by successive rulers. The first city of Delhi was called Lal Kot and it was settled in 1052., title: What is Delhi Famous For? 10 Things that Make Delhi Famous, link: https://suzannewandersdelhi.com/what-is-delhi-famous-for/, snippet: 2. It Has Been the Capital of Several Empires. History attests that Delhi held the position of capital for seven major dynastic empires. History demonstrates that Delhi has been chaired by multiple empires following each other in succession starting with the Tomaras then the Chauhans followed by the Slave Dynasty and Khilji Dynasty then the Tughlaq Dynasty and Lodi Dynasty leading up to the ..., title: Top 10 Facts About Delhi That Every Traveler Should Know, link: https://travel.india.com/guide/destination/top-10-facts-about-delhi-that-every-traveler-should-know-7829038/, snippet: How Delhi Impacts Society. it\\'s influence on Indian society can be seen in various aspects, such as: Providing employment opportunities across diverse sectors. Promoting education and innovation through world-class institutions. Offering a dynamic blend of tradition and modernity. FAQs About Delhi. Q1: What is famous for?, title: \"10 Fascinating Facts About Delhi That Will Amaze You!\", link: https://thekarmaatimees.in/delhi/'"
            ],
            "application/vnd.google.colaboratory.intrinsic+json": {
              "type": "string"
            }
          },
          "metadata": {},
          "execution_count": 28
        }
      ],
      "source": [
        "results = ddgs_tool.invoke(\"Tell me about New Delhi\")\n",
        "results"
      ]
    },
    {
      "cell_type": "code",
      "execution_count": 29,
      "metadata": {
        "colab": {
          "base_uri": "https://localhost:8080/"
        },
        "id": "IG_-OG86y7e-",
        "outputId": "3721c0ab-ed05-48f2-9cfc-38ccdd043d23"
      },
      "outputs": [
        {
          "output_type": "execute_result",
          "data": {
            "text/plain": [
              "['snippet: One of the country\\'s largest urban agglomerations, Delhi sits astride (but primarily on the west bank of) the Yamuna River, a tributary of the Ganges (Ganga) River, about 100 miles (160 km) south of the Himalayas.The national capital territory embraces Old and New Delhi and the surrounding metropolitan region, as well as adjacent rural areas. To the east the territory is bounded by the state ..., title: Delhi | History, Population, Map, & Facts | Britannica, link: https://www.britannica.com/place/Delhi, snippet: Delhi is famous for its history and historic monuments. From prehistoric to its time as a British colony, Delhi has a remarkable history. Delhi is the site of 8 historic cities, each city conquered and re-built by successive rulers. The first city of Delhi was called Lal Kot and it was settled in 1052., title: What is Delhi Famous For? 10 Things that Make Delhi Famous, link: https://suzannewandersdelhi.com/what-is-delhi-famous-for/, snippet: 2. It Has Been the Capital of Several Empires. History attests that Delhi held the position of capital for seven major dynastic empires. History demonstrates that Delhi has been chaired by multiple empires following each other in succession starting with the Tomaras then the Chauhans followed by the Slave Dynasty and Khilji Dynasty then the Tughlaq Dynasty and Lodi Dynasty leading up to the ..., title: Top 10 Facts About Delhi That Every Traveler Should Know, link: https://travel.india.com/guide/destination/top-10-facts-about-delhi-that-every-traveler-should-know-7829038/, snippet: How Delhi Impacts Society. it\\'s influence on Indian society can be seen in various aspects, such as: Providing employment opportunities across diverse sectors. Promoting education and innovation through world-class institutions. Offering a dynamic blend of tradition and modernity. FAQs About Delhi. Q1: What is famous for?, title: \"10 Fascinating Facts About Delhi That Will Amaze You!\", link: https://thekarmaatimees.in/delhi/']"
            ]
          },
          "metadata": {},
          "execution_count": 29
        }
      ],
      "source": [
        "results = [doc.strip('[]') for doc in results.split('], [')]\n",
        "results"
      ]
    },
    {
      "cell_type": "code",
      "execution_count": 30,
      "metadata": {
        "colab": {
          "base_uri": "https://localhost:8080/",
          "height": 140
        },
        "id": "Lm-9BVwCx2Aa",
        "outputId": "704a7b01-cf56-484f-e164-10f193cb3d67"
      },
      "outputs": [
        {
          "output_type": "stream",
          "name": "stderr",
          "text": [
            "/usr/local/lib/python3.11/dist-packages/langchain_community/utilities/duckduckgo_search.py:64: UserWarning: backend='api' is deprecated, using backend='auto'\n",
            "  ddgs_gen = ddgs.text(\n"
          ]
        },
        {
          "output_type": "execute_result",
          "data": {
            "text/plain": [
              "'snippet: The temperature in Bangalore today in the early morning is 20 ° C. If you take into account factors such as wind, humidity and other weather conditions, the temperatures can feel like 20 ° C. The chance of rain in Bangalore in the morning is 0%, and the wind will blow at 27 km/h., title: Bangalore local weather (live): today, hourly weather, link: https://www.weather25.com/asia/india/karnataka/bangalore?page=today, snippet: The current temperature is near the lowest expected 21°C for today. Weather radar - Bengaluru, India Doppler radar displays precipitation for the past 2h and forecasts the next 30min, title: Weather today - Bengaluru, India, link: https://www.weather-atlas.com/en/india/bengaluru, snippet: Bengaluru Rain, Weather: City on Rain Alert Today; Traffic Jams, Power Cuts, and Waterlogging Expected. Bangalore Rains Live Updates: Following the havoc caused by rains in Bengaluru, Karnataka Chief Minister Siddaramaiah on Wednesday said that officials have been given clear instructions to remove encroachments on stormwater drains without delay, regardless of how \"influential\" the ..., title: Bangalore Weather Live Updates: City on Rain Alert Today ... - Times Now, link: https://www.timesnownews.com/bengaluru/bangalore-rains-weather-live-updates-check-bengaluru-today-imd-forecast-report-prediction-latest-news-liveblog-151680030, snippet: Live weather reports from Bengaluru weather stations and weather warnings that include risk of thunder, high UV index and forecast gales. See the links below the 12-day Bengaluru weather forecast table for other cities and towns nearby along with weather conditions for local outdoor activities., title: Bengaluru Weather Forecast, link: https://www.weather-forecast.com/locations/Bangalore/forecasts/latest'"
            ],
            "application/vnd.google.colaboratory.intrinsic+json": {
              "type": "string"
            }
          },
          "metadata": {},
          "execution_count": 30
        }
      ],
      "source": [
        "results = ddgs_tool.invoke(\"What is the current weather in Bangalore\")\n",
        "results"
      ]
    },
    {
      "cell_type": "code",
      "execution_count": 31,
      "metadata": {
        "colab": {
          "base_uri": "https://localhost:8080/"
        },
        "id": "eadRdme90R_n",
        "outputId": "1c64c06a-b5cb-4007-d9f0-ac592f022646"
      },
      "outputs": [
        {
          "output_type": "execute_result",
          "data": {
            "text/plain": [
              "['snippet: The temperature in Bangalore today in the early morning is 20 ° C. If you take into account factors such as wind, humidity and other weather conditions, the temperatures can feel like 20 ° C. The chance of rain in Bangalore in the morning is 0%, and the wind will blow at 27 km/h., title: Bangalore local weather (live): today, hourly weather, link: https://www.weather25.com/asia/india/karnataka/bangalore?page=today, snippet: The current temperature is near the lowest expected 21°C for today. Weather radar - Bengaluru, India Doppler radar displays precipitation for the past 2h and forecasts the next 30min, title: Weather today - Bengaluru, India, link: https://www.weather-atlas.com/en/india/bengaluru, snippet: Bengaluru Rain, Weather: City on Rain Alert Today; Traffic Jams, Power Cuts, and Waterlogging Expected. Bangalore Rains Live Updates: Following the havoc caused by rains in Bengaluru, Karnataka Chief Minister Siddaramaiah on Wednesday said that officials have been given clear instructions to remove encroachments on stormwater drains without delay, regardless of how \"influential\" the ..., title: Bangalore Weather Live Updates: City on Rain Alert Today ... - Times Now, link: https://www.timesnownews.com/bengaluru/bangalore-rains-weather-live-updates-check-bengaluru-today-imd-forecast-report-prediction-latest-news-liveblog-151680030, snippet: Live weather reports from Bengaluru weather stations and weather warnings that include risk of thunder, high UV index and forecast gales. See the links below the 12-day Bengaluru weather forecast table for other cities and towns nearby along with weather conditions for local outdoor activities., title: Bengaluru Weather Forecast, link: https://www.weather-forecast.com/locations/Bangalore/forecasts/latest']"
            ]
          },
          "metadata": {},
          "execution_count": 31
        }
      ],
      "source": [
        "results = [doc.strip('[]') for doc in results.split('], [')]\n",
        "results"
      ]
    },
    {
      "cell_type": "markdown",
      "metadata": {
        "id": "-GNP2J9Dd_nj"
      },
      "source": [
        "## Building tools in LangChain\n",
        "\n",
        "Tools are interfaces that an agent, chain, or LLM can use to interact with the world. They combine a few things:\n",
        "\n",
        "- The name of the tool\n",
        "- A description of what the tool is\n",
        "- JSON schema of what the inputs to the tool are\n",
        "- The function to call\n",
        "- Whether the result of a tool should be returned directly to the user\n",
        "\n",
        "It is useful to have all this information because this information can be used to build action-taking systems! The name, description, and JSON schema can be used to prompt the LLM so it knows how to specify what action to take, and then the function to call is equivalent to taking that action."
      ]
    },
    {
      "cell_type": "markdown",
      "metadata": {
        "id": "JvPAmW62eLyE"
      },
      "source": [
        "We will start by building a simple tool which does some basic math"
      ]
    },
    {
      "cell_type": "code",
      "execution_count": 32,
      "metadata": {
        "colab": {
          "base_uri": "https://localhost:8080/"
        },
        "id": "wa0mztbQ8Ae3",
        "outputId": "607dca2e-9f82-4497-c618-2bc8f005d351"
      },
      "outputs": [
        {
          "output_type": "stream",
          "name": "stdout",
          "text": [
            "multiply\n",
            "Multiply two numbers.\n",
            "{'a': {'title': 'A'}, 'b': {'title': 'B'}}\n"
          ]
        }
      ],
      "source": [
        "from langchain_core.tools import tool\n",
        "\n",
        "\n",
        "@tool\n",
        "def multiply(a, b):\n",
        "    \"\"\"Multiply two numbers.\"\"\"\n",
        "    return a * b\n",
        "\n",
        "\n",
        "# Let's inspect some of the attributes associated with the tool.\n",
        "print(multiply.name)\n",
        "print(multiply.description)\n",
        "print(multiply.args)"
      ]
    },
    {
      "cell_type": "code",
      "execution_count": 33,
      "metadata": {
        "colab": {
          "base_uri": "https://localhost:8080/",
          "height": 121
        },
        "id": "tfP2TjeK8FsR",
        "outputId": "f3603793-2825-4d50-eef7-0dd0315ca9f1"
      },
      "outputs": [
        {
          "output_type": "execute_result",
          "data": {
            "text/plain": [
              "langchain_core.tools.structured.StructuredTool"
            ],
            "text/html": [
              "<div style=\"max-width:800px; border: 1px solid var(--colab-border-color);\"><style>\n",
              "      pre.function-repr-contents {\n",
              "        overflow-x: auto;\n",
              "        padding: 8px 12px;\n",
              "        max-height: 500px;\n",
              "      }\n",
              "\n",
              "      pre.function-repr-contents.function-repr-contents-collapsed {\n",
              "        cursor: pointer;\n",
              "        max-height: 100px;\n",
              "      }\n",
              "    </style>\n",
              "    <pre style=\"white-space: initial; background:\n",
              "         var(--colab-secondary-surface-color); padding: 8px 12px;\n",
              "         border-bottom: 1px solid var(--colab-border-color);\"><b>langchain_core.tools.structured.StructuredTool</b><br/>def warning_emitting_wrapper(*args: Any, **kwargs: Any) -&gt; Any</pre><pre class=\"function-repr-contents function-repr-contents-collapsed\" style=\"\"><a class=\"filepath\" style=\"display:none\" href=\"#\">/usr/local/lib/python3.11/dist-packages/langchain_core/tools/structured.py</a>Tool that can operate on any number of inputs.</pre>\n",
              "      <script>\n",
              "      if (google.colab.kernel.accessAllowed && google.colab.files && google.colab.files.view) {\n",
              "        for (const element of document.querySelectorAll('.filepath')) {\n",
              "          element.style.display = 'block'\n",
              "          element.onclick = (event) => {\n",
              "            event.preventDefault();\n",
              "            event.stopPropagation();\n",
              "            google.colab.files.view(element.textContent, 39);\n",
              "          };\n",
              "        }\n",
              "      }\n",
              "      for (const element of document.querySelectorAll('.function-repr-contents')) {\n",
              "        element.onclick = (event) => {\n",
              "          event.preventDefault();\n",
              "          event.stopPropagation();\n",
              "          element.classList.toggle('function-repr-contents-collapsed');\n",
              "        };\n",
              "      }\n",
              "      </script>\n",
              "      </div>"
            ]
          },
          "metadata": {},
          "execution_count": 33
        }
      ],
      "source": [
        "type(multiply)"
      ]
    },
    {
      "cell_type": "code",
      "execution_count": 34,
      "metadata": {
        "colab": {
          "base_uri": "https://localhost:8080/"
        },
        "id": "EsOVBIvX8Agu",
        "outputId": "370926dd-1f87-4a1e-fe4f-84f54766266f"
      },
      "outputs": [
        {
          "output_type": "execute_result",
          "data": {
            "text/plain": [
              "6"
            ]
          },
          "metadata": {},
          "execution_count": 34
        }
      ],
      "source": [
        "multiply.invoke({\"a\": 2, \"b\": 3})"
      ]
    },
    {
      "cell_type": "code",
      "execution_count": 35,
      "metadata": {
        "colab": {
          "base_uri": "https://localhost:8080/"
        },
        "id": "cC7o_Mv5-Grc",
        "outputId": "46eb37c6-43b4-4856-a1bd-f0f674c3506c"
      },
      "outputs": [
        {
          "output_type": "execute_result",
          "data": {
            "text/plain": [
              "6.720000000000001"
            ]
          },
          "metadata": {},
          "execution_count": 35
        }
      ],
      "source": [
        "multiply.invoke({\"a\": 2.1, \"b\": 3.2})"
      ]
    },
    {
      "cell_type": "code",
      "execution_count": 36,
      "metadata": {
        "colab": {
          "base_uri": "https://localhost:8080/",
          "height": 35
        },
        "id": "vN4tHdDa-Tm2",
        "outputId": "ebbac128-65d2-49bf-bc7d-ced5656b09e8"
      },
      "outputs": [
        {
          "output_type": "execute_result",
          "data": {
            "text/plain": [
              "'abcabc'"
            ],
            "application/vnd.google.colaboratory.intrinsic+json": {
              "type": "string"
            }
          },
          "metadata": {},
          "execution_count": 36
        }
      ],
      "source": [
        "multiply.invoke({\"a\": 2, \"b\": 'abc'})"
      ]
    },
    {
      "cell_type": "markdown",
      "metadata": {
        "id": "XED8giGYeS_I"
      },
      "source": [
        "Let's now build a tool with data type enforcing"
      ]
    },
    {
      "cell_type": "code",
      "execution_count": 37,
      "metadata": {
        "colab": {
          "base_uri": "https://localhost:8080/"
        },
        "id": "9sKF2zqQ8Aih",
        "outputId": "ea63e74e-5edf-4df5-b1c1-fa114f579ebb"
      },
      "outputs": [
        {
          "output_type": "stream",
          "name": "stdout",
          "text": [
            "Calculator\n",
            "use to multiply numbers\n",
            "{'a': {'description': 'first number', 'title': 'A', 'type': 'number'}, 'b': {'description': 'second number', 'title': 'B', 'type': 'number'}}\n"
          ]
        }
      ],
      "source": [
        "from pydantic import BaseModel, Field\n",
        "from langchain_core.tools import StructuredTool\n",
        "\n",
        "class CalculatorInput(BaseModel):\n",
        "    a: float = Field(description=\"first number\")\n",
        "    b: float = Field(description=\"second number\")\n",
        "\n",
        "\n",
        "def multiply(a: float, b: float) -> float:\n",
        "    \"\"\"Multiply two numbers.\"\"\"\n",
        "    return a * b\n",
        "\n",
        "# we could also use the @tool decorator from before\n",
        "calculator = StructuredTool.from_function(\n",
        "    func=multiply,\n",
        "    name=\"Calculator\",\n",
        "    description=\"use to multiply numbers\",\n",
        "    args_schema=CalculatorInput,\n",
        "    return_direct=True\n",
        "    )\n",
        "\n",
        "# Let's inspect some of the attributes associated with the tool.\n",
        "print(calculator.name)\n",
        "print(calculator.description)\n",
        "print(calculator.args)"
      ]
    },
    {
      "cell_type": "code",
      "execution_count": 38,
      "metadata": {
        "colab": {
          "base_uri": "https://localhost:8080/"
        },
        "id": "H5taFxZg8Akc",
        "outputId": "221dd3a4-e0b1-4535-ce8b-c21577bde6c8"
      },
      "outputs": [
        {
          "output_type": "execute_result",
          "data": {
            "text/plain": [
              "6.0"
            ]
          },
          "metadata": {},
          "execution_count": 38
        }
      ],
      "source": [
        "calculator.invoke({\"a\": 2, \"b\": 3})"
      ]
    },
    {
      "cell_type": "markdown",
      "metadata": {
        "id": "bIOhB430gpW9"
      },
      "source": [
        "## Explore LLM tool calling with custom tools\n",
        "\n",
        "An agent is basically an LLM which has the capability to automatically call relevant functions to perform complex or tool-based tasks based on input human prompts.\n",
        "\n",
        "Tool calling also popularly known as function calling is the ability to reliably enable such LLMs to call external tools and APIs.\n",
        "\n",
        "We will create some custom tools here and try to see if the LLM can automatically call the right tools based on input prompts"
      ]
    },
    {
      "cell_type": "code",
      "execution_count": 47,
      "metadata": {
        "id": "x72Vwtb68Aqz"
      },
      "outputs": [],
      "source": [
        "from langchain_community.tools.tavily_search import TavilySearchResults\n",
        "from langchain_core.tools import tool\n",
        "import rich\n",
        "\n",
        "\n",
        "@tool\n",
        "def add(a: float, b: float) -> float:\n",
        "    \"\"\"Adds a and b.\"\"\"\n",
        "    print(a + b)\n",
        "\n",
        "\n",
        "@tool\n",
        "def multiply(a: float, b: float) -> float:\n",
        "    \"\"\"Multiplies a and b.\"\"\"\n",
        "    print(a * b)\n",
        "\n",
        "@tool\n",
        "def search_web(query: str) -> list:\n",
        "    \"\"\"Search the web for a query.\"\"\"\n",
        "    tavily_tool = TavilySearchResults(max_results=2)\n",
        "    results = tavily_tool.invoke(query)\n",
        "    for result in results:\n",
        "      print(result['content'])\n",
        "\n",
        "@tool\n",
        "def get_weather(query: str) -> list:\n",
        "    \"\"\"Search weatherapi to get the current weather.\"\"\"\n",
        "    if 'weather' not in query: # guides the search tool to use weatherapi\n",
        "      query = query + \" weather from weatherapi\"\n",
        "    tavily_tool = TavilySearchResults(max_results=1)\n",
        "    result = tavily_tool.invoke(query)\n",
        "    print(result[0]['content'])\n",
        "\n",
        "\n",
        "tools = [add, multiply, search_web, get_weather]"
      ]
    },
    {
      "cell_type": "markdown",
      "metadata": {
        "id": "4Y26Ohn3P54j"
      },
      "source": [
        "## Tool calling for LLMs with native support for tool or function calling"
      ]
    },
    {
      "cell_type": "markdown",
      "metadata": {
        "id": "1nACq0NgL5yM"
      },
      "source": [
        "Tool calling allows a model to respond to a given prompt by generating output that matches a user-defined schema. While the name implies that the model is performing some action, this is actually not the case! The model is coming up with the arguments to a tool, and actually running the tool (or not) is up to the user or agent defined by the user.\n",
        "\n",
        "Many LLM providers, including Anthropic, Cohere, Google, Mistral, OpenAI, and others, support variants of a tool calling feature. These features typically allow requests to the LLM to include available tools and their schemas, and for responses to include calls to these tools.\n",
        "\n"
      ]
    },
    {
      "cell_type": "code",
      "execution_count": 41,
      "metadata": {
        "id": "s0wCNpzCBvtS"
      },
      "outputs": [],
      "source": [
        "from langchain_openai import ChatOpenAI\n",
        "\n",
        "chatgpt = ChatOpenAI(model=\"gpt-4o\", temperature=0)"
      ]
    },
    {
      "cell_type": "code",
      "execution_count": 42,
      "metadata": {
        "id": "rjKWxFNgB2t_"
      },
      "outputs": [],
      "source": [
        "chatgpt_with_tools = chatgpt.bind_tools(tools)"
      ]
    },
    {
      "cell_type": "code",
      "execution_count": 43,
      "metadata": {
        "id": "hJ271K_tB9K7"
      },
      "outputs": [],
      "source": [
        "# LLMs are still not perfect in tool calling so you might need to play around with the following prompt\n",
        "prompt = \"\"\"\n",
        "            Given only the tools at your disposal, mention tool calls for the following tasks:\n",
        "            Do not change the query given for any search tasks\n",
        "            1. What is 2.1 times 3.5\n",
        "            2. What is 11 + 29\n",
        "            3. What is the current weather in Greenland today\n",
        "            4. Can you tell me about Greenland and its capital\n",
        "         \"\"\"\n",
        "\n",
        "results = chatgpt_with_tools.invoke(prompt)"
      ]
    },
    {
      "cell_type": "code",
      "execution_count": 44,
      "metadata": {
        "colab": {
          "base_uri": "https://localhost:8080/"
        },
        "id": "kLoZWknjCNlC",
        "outputId": "a42aa76b-786f-4ea2-a29f-3bbb4e12b864"
      },
      "outputs": [
        {
          "output_type": "execute_result",
          "data": {
            "text/plain": [
              "AIMessage(content='', additional_kwargs={'tool_calls': [{'id': 'call_oTTvcTahnf8VLjozq9Gb5yGk', 'function': {'arguments': '{\"a\": 2.1, \"b\": 3.5}', 'name': 'multiply'}, 'type': 'function'}, {'id': 'call_1IjllTbd9RWTkZASypmEY7F3', 'function': {'arguments': '{\"a\": 11, \"b\": 29}', 'name': 'add'}, 'type': 'function'}, {'id': 'call_2QtuLmAstVM82XlkvnybrJfx', 'function': {'arguments': '{\"query\": \"Greenland\"}', 'name': 'get_weather'}, 'type': 'function'}, {'id': 'call_e7Hv6mn6b71zjMC6qWYc4OyS', 'function': {'arguments': '{\"query\": \"Greenland and its capital\"}', 'name': 'search_web'}, 'type': 'function'}], 'refusal': None}, response_metadata={'token_usage': {'completion_tokens': 87, 'prompt_tokens': 199, 'total_tokens': 286, 'completion_tokens_details': {'accepted_prediction_tokens': 0, 'audio_tokens': 0, 'reasoning_tokens': 0, 'rejected_prediction_tokens': 0}, 'prompt_tokens_details': {'audio_tokens': 0, 'cached_tokens': 0}}, 'model_name': 'gpt-4o-2024-08-06', 'system_fingerprint': 'fp_07871e2ad8', 'finish_reason': 'tool_calls', 'logprobs': None}, id='run--3b6a389a-3182-430b-af2d-f50421efaae2-0', tool_calls=[{'name': 'multiply', 'args': {'a': 2.1, 'b': 3.5}, 'id': 'call_oTTvcTahnf8VLjozq9Gb5yGk', 'type': 'tool_call'}, {'name': 'add', 'args': {'a': 11, 'b': 29}, 'id': 'call_1IjllTbd9RWTkZASypmEY7F3', 'type': 'tool_call'}, {'name': 'get_weather', 'args': {'query': 'Greenland'}, 'id': 'call_2QtuLmAstVM82XlkvnybrJfx', 'type': 'tool_call'}, {'name': 'search_web', 'args': {'query': 'Greenland and its capital'}, 'id': 'call_e7Hv6mn6b71zjMC6qWYc4OyS', 'type': 'tool_call'}], usage_metadata={'input_tokens': 199, 'output_tokens': 87, 'total_tokens': 286, 'input_token_details': {'audio': 0, 'cache_read': 0}, 'output_token_details': {'audio': 0, 'reasoning': 0}})"
            ]
          },
          "metadata": {},
          "execution_count": 44
        }
      ],
      "source": [
        "results"
      ]
    },
    {
      "cell_type": "code",
      "execution_count": 45,
      "metadata": {
        "colab": {
          "base_uri": "https://localhost:8080/"
        },
        "id": "ckZz5pcpCQau",
        "outputId": "c75c2060-a978-420d-b2c1-9f131d35cf97"
      },
      "outputs": [
        {
          "output_type": "execute_result",
          "data": {
            "text/plain": [
              "[{'name': 'multiply',\n",
              "  'args': {'a': 2.1, 'b': 3.5},\n",
              "  'id': 'call_oTTvcTahnf8VLjozq9Gb5yGk',\n",
              "  'type': 'tool_call'},\n",
              " {'name': 'add',\n",
              "  'args': {'a': 11, 'b': 29},\n",
              "  'id': 'call_1IjllTbd9RWTkZASypmEY7F3',\n",
              "  'type': 'tool_call'},\n",
              " {'name': 'get_weather',\n",
              "  'args': {'query': 'Greenland'},\n",
              "  'id': 'call_2QtuLmAstVM82XlkvnybrJfx',\n",
              "  'type': 'tool_call'},\n",
              " {'name': 'search_web',\n",
              "  'args': {'query': 'Greenland and its capital'},\n",
              "  'id': 'call_e7Hv6mn6b71zjMC6qWYc4OyS',\n",
              "  'type': 'tool_call'}]"
            ]
          },
          "metadata": {},
          "execution_count": 45
        }
      ],
      "source": [
        "results.tool_calls"
      ]
    },
    {
      "cell_type": "code",
      "execution_count": 48,
      "metadata": {
        "colab": {
          "base_uri": "https://localhost:8080/"
        },
        "id": "POvGp_xZCpSg",
        "outputId": "5e76d598-aa87-454c-ab78-34df99e39d92"
      },
      "outputs": [
        {
          "output_type": "stream",
          "name": "stdout",
          "text": [
            "Calling tool: multiply\n",
            "7.3500000000000005\n",
            "\n",
            "Calling tool: add\n",
            "40.0\n",
            "\n",
            "Calling tool: get_weather\n",
            "Are you planning a holiday with hopefully nice weather in Greenland in May 2025? ... 1.4 mm | 0.1 inch. 30. May, 2 °C | 36 °F, 5 °C | 41 °F, -0 °C | 31 °F, 1 °C |\n",
            "\n",
            "Calling tool: search_web\n",
            "Nuuk (Greenlandic pronunciation: [nuːk] ⓘ; Danish: Nuuk,[1] formerly Godthåb [ˈkʌtˌhɔˀp])[2] is the capital and most populous city of Greenland, an autonomous territory in the Kingdom of Denmark. Nuuk is the seat of government and the territory's largest cultural and economic center. It is also the seat of government for the Sermersooq municipality. In January 2025, it had a population of 20,113[3] – more than a third of the territory's population – making it one of the smallest capital cities [...] Government\n",
            "\n",
            "As the capital of Greenland, Nuuk is the administrative center of the country, containing all of the important government buildings and institutions. The public sector bodies are also the town's largest employer.[21]\n",
            "\n",
            "As of January 2021, the mayor of Nuuk is Charlotte Ludvigsen. She replaced former mayor Asii Chemnitz Narup in 2019 following a social media scandal involving posts criticizing her party. Like Narup, Ludvigsen is a member of the Inuit Ataqatigiit party.[31]\n",
            "The capital of Greenland and a vibrant, modern city, Nuuk is a cultural centre fuelled by fresh air, strong coffee, and outdoor adventure.\n",
            "\n"
          ]
        }
      ],
      "source": [
        "toolkit = {\n",
        "    \"add\": add,\n",
        "    \"multiply\": multiply,\n",
        "    \"search_web\": search_web,\n",
        "    \"get_weather\": get_weather\n",
        "}\n",
        "\n",
        "for tool_call in results.tool_calls:\n",
        "    selected_tool = toolkit[tool_call[\"name\"].lower()]\n",
        "    print(f\"Calling tool: {tool_call['name']}\")\n",
        "    tool_output = selected_tool.invoke(tool_call[\"args\"])\n",
        "    print()"
      ]
    },
    {
      "cell_type": "code",
      "execution_count": 49,
      "metadata": {
        "colab": {
          "base_uri": "https://localhost:8080/"
        },
        "id": "yJXO6NaNKVQk",
        "outputId": "54b4c5d5-eb31-4765-ab43-2b86bcd49561"
      },
      "outputs": [
        {
          "output_type": "execute_result",
          "data": {
            "text/plain": [
              "[StructuredTool(name='add', description='Adds a and b.', args_schema=<class 'langchain_core.utils.pydantic.add'>, func=<function add at 0x7a3b82789760>),\n",
              " StructuredTool(name='multiply', description='Multiplies a and b.', args_schema=<class 'langchain_core.utils.pydantic.multiply'>, func=<function multiply at 0x7a3b82afeac0>),\n",
              " StructuredTool(name='search_web', description='Search the web for a query.', args_schema=<class 'langchain_core.utils.pydantic.search_web'>, func=<function search_web at 0x7a3b8397b740>),\n",
              " StructuredTool(name='get_weather', description='Search weatherapi to get the current weather.', args_schema=<class 'langchain_core.utils.pydantic.get_weather'>, func=<function get_weather at 0x7a3bcb0360c0>)]"
            ]
          },
          "metadata": {},
          "execution_count": 49
        }
      ],
      "source": [
        "tools"
      ]
    },
    {
      "cell_type": "markdown",
      "metadata": {
        "id": "_1Yc8d9MQDqa"
      },
      "source": [
        "### Tool calling for LLMs without native support for tool or function calling"
      ]
    },
    {
      "cell_type": "markdown",
      "metadata": {
        "id": "yIXJC1-9RXnx"
      },
      "source": [
        "Some models like ChatGPT have been fine-tuned for tool calling and provide a dedicated API for tool calling. Generally, such models are better at tool calling than non-fine-tuned models, and are recommended for use cases that require tool calling.\n",
        "\n",
        "Here we will explore an alternative method to invoke tools if you're using a model that does not natively support tool calling (even though we use ChatGPT here which supports it, we will assume it could be any LLM which doesn't support tool calling).\n",
        "\n",
        "We'll do this by simply writing a prompt that will get the model to invoke the appropriate tools."
      ]
    },
    {
      "cell_type": "code",
      "execution_count": 50,
      "metadata": {
        "colab": {
          "base_uri": "https://localhost:8080/"
        },
        "id": "xr2Wt-iuHEuw",
        "outputId": "54bd8640-d62e-4df3-c3f6-bea618bf4467"
      },
      "outputs": [
        {
          "output_type": "stream",
          "name": "stdout",
          "text": [
            "add(a: float, b: float) -> float - Adds a and b.\n",
            "multiply(a: float, b: float) -> float - Multiplies a and b.\n",
            "search_web(query: str) -> list - Search the web for a query.\n",
            "get_weather(query: str) -> list - Search weatherapi to get the current weather.\n"
          ]
        }
      ],
      "source": [
        "from langchain_core.output_parsers import JsonOutputParser\n",
        "from langchain_core.prompts import ChatPromptTemplate\n",
        "from langchain_core.tools import render_text_description\n",
        "\n",
        "rendered_tools = render_text_description(tools)\n",
        "print(rendered_tools)"
      ]
    },
    {
      "cell_type": "code",
      "execution_count": 51,
      "metadata": {
        "id": "sO8AT_uiK3zV"
      },
      "outputs": [],
      "source": [
        "system_prompt = f\"\"\"\\\n",
        "You are an assistant that has access to the following set of tools.\n",
        "Here are the names and descriptions for each tool:\n",
        "\n",
        "{rendered_tools}\n",
        "\n",
        "Given the user instructions, for each instruction do the following:\n",
        " - Return the name and input of the tool to use.\n",
        " - Return your response as a JSON blob with 'name' and 'arguments' keys.\n",
        " - The `arguments` should be a dictionary, with keys corresponding\n",
        "   to the argument names and the values corresponding to the requested values.\n",
        "\"\"\"\n",
        "\n",
        "prompt = ChatPromptTemplate.from_messages(\n",
        "    [\n",
        "        (\"system\", system_prompt),\n",
        "        (\"user\", \"{input}\")\n",
        "    ]\n",
        ")"
      ]
    },
    {
      "cell_type": "code",
      "execution_count": 52,
      "metadata": {
        "id": "aNq3a5B9HEy-"
      },
      "outputs": [],
      "source": [
        "instructions = [\n",
        "                  {\"input\" : \"What is 2.1 times 3.5\"},\n",
        "                  {\"input\" : \"What is 11 + 29\"},\n",
        "                  {\"input\" : \"What is the current weather in Greenland\"},\n",
        "                  {\"input\" : \"Tell me about Greenland and its capital\" }\n",
        "               ]"
      ]
    },
    {
      "cell_type": "code",
      "execution_count": 53,
      "metadata": {
        "id": "GJWWhI0NHE3J"
      },
      "outputs": [],
      "source": [
        "from langchain_core.output_parsers import JsonOutputParser\n",
        "\n",
        "chain = (prompt\n",
        "            |\n",
        "         chatgpt\n",
        "            |\n",
        "         JsonOutputParser()\n",
        "        )"
      ]
    },
    {
      "cell_type": "code",
      "execution_count": 54,
      "metadata": {
        "collapsed": true,
        "id": "a8O7pvViHE5l",
        "jupyter": {
          "outputs_hidden": true
        }
      },
      "outputs": [],
      "source": [
        "responses = chain.map().invoke(instructions)"
      ]
    },
    {
      "cell_type": "code",
      "execution_count": 55,
      "metadata": {
        "colab": {
          "base_uri": "https://localhost:8080/"
        },
        "id": "4F7Cqo6yMGzU",
        "outputId": "eef25731-585e-42b7-e5ba-e15c8b8abbde"
      },
      "outputs": [
        {
          "output_type": "execute_result",
          "data": {
            "text/plain": [
              "[{'name': 'multiply', 'arguments': {'a': 2.1, 'b': 3.5}},\n",
              " {'name': 'add', 'arguments': {'a': 11, 'b': 29}},\n",
              " {'name': 'get_weather', 'arguments': {'query': 'Greenland'}},\n",
              " {'name': 'search_web', 'arguments': {'query': 'Greenland and its capital'}}]"
            ]
          },
          "metadata": {},
          "execution_count": 55
        }
      ],
      "source": [
        "responses"
      ]
    },
    {
      "cell_type": "code",
      "execution_count": 56,
      "metadata": {
        "colab": {
          "base_uri": "https://localhost:8080/"
        },
        "id": "rLsWGvOkM5Qe",
        "outputId": "87c3d715-1498-415a-e0c7-1c991cd28f8c",
        "scrolled": true
      },
      "outputs": [
        {
          "output_type": "stream",
          "name": "stdout",
          "text": [
            "Calling tool: multiply\n",
            "7.3500000000000005\n",
            "\n",
            "Calling tool: add\n",
            "40.0\n",
            "\n",
            "Calling tool: get_weather\n",
            "Are you planning a holiday with hopefully nice weather in Greenland in May 2025? ... 1.4 mm | 0.1 inch. 30. May, 2 °C | 36 °F, 5 °C | 41 °F, -0 °C | 31 °F, 1 °C |\n",
            "\n",
            "Calling tool: search_web\n",
            "Nuuk (Greenlandic pronunciation: [nuːk] ⓘ; Danish: Nuuk,[1] formerly Godthåb [ˈkʌtˌhɔˀp])[2] is the capital and most populous city of Greenland, an autonomous territory in the Kingdom of Denmark. Nuuk is the seat of government and the territory's largest cultural and economic center. It is also the seat of government for the Sermersooq municipality. In January 2025, it had a population of 20,113[3] – more than a third of the territory's population – making it one of the smallest capital cities [...] Government\n",
            "\n",
            "As the capital of Greenland, Nuuk is the administrative center of the country, containing all of the important government buildings and institutions. The public sector bodies are also the town's largest employer.[21]\n",
            "\n",
            "As of January 2021, the mayor of Nuuk is Charlotte Ludvigsen. She replaced former mayor Asii Chemnitz Narup in 2019 following a social media scandal involving posts criticizing her party. Like Narup, Ludvigsen is a member of the Inuit Ataqatigiit party.[31]\n",
            "The capital of Greenland and a vibrant, modern city, Nuuk is a cultural centre fuelled by fresh air, strong coffee, and outdoor adventure.\n",
            "\n"
          ]
        }
      ],
      "source": [
        "toolkit = {\n",
        "    \"add\": add,\n",
        "    \"multiply\": multiply,\n",
        "    \"search_web\": search_web,\n",
        "    \"get_weather\": get_weather\n",
        "}\n",
        "# sometimes get_weather may not get the right results from weatherapi\n",
        "# so just run it a few times in case you get an error, later we will use a direct weather api\n",
        "for tool_call in responses:\n",
        "    selected_tool = toolkit[tool_call[\"name\"].lower()]\n",
        "    print(f\"Calling tool: {tool_call['name']}\")\n",
        "    tool_output = selected_tool.invoke(tool_call[\"arguments\"])\n",
        "    print()"
      ]
    }
  ],
  "metadata": {
    "colab": {
      "provenance": []
    },
    "kernelspec": {
      "display_name": "Python 3",
      "name": "python3"
    },
    "language_info": {
      "codemirror_mode": {
        "name": "ipython",
        "version": 3
      },
      "file_extension": ".py",
      "mimetype": "text/x-python",
      "name": "python",
      "nbconvert_exporter": "python",
      "pygments_lexer": "ipython3",
      "version": "3.11.7"
    }
  },
  "nbformat": 4,
  "nbformat_minor": 0
}