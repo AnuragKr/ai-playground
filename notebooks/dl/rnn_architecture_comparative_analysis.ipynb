{
 "cells": [
  {
   "cell_type": "markdown",
   "id": "c27a97c3",
   "metadata": {},
   "source": [
    "## Building an RNN Model with Word Embedding"
   ]
  },
  {
   "cell_type": "code",
   "execution_count": 1,
   "id": "e7d11c07",
   "metadata": {},
   "outputs": [],
   "source": [
    "import nltk\n",
    "import pandas as pd\n",
    "import numpy as np\n",
    "from nltk.corpus import stopwords\n",
    "from sklearn.model_selection import train_test_split, cross_validate, StratifiedKFold\n",
    "from sklearn.metrics import accuracy_score, classification_report\n",
    "from gensim.models import Word2Vec\n",
    "from torch.nn.utils.rnn import pad_sequence\n",
    "import torch\n",
    "import torch.nn as nn\n",
    "import torch.optim as optim\n",
    "from torch.nn import functional as F\n",
    "from torch.utils.data import DataLoader, TensorDataset"
   ]
  },
  {
   "cell_type": "code",
   "execution_count": 2,
   "id": "3e8f6faa-e512-4bd8-b7fc-d0e9b0f6b8f2",
   "metadata": {},
   "outputs": [
    {
     "data": {
      "text/plain": [
       "device(type='mps')"
      ]
     },
     "execution_count": 2,
     "metadata": {},
     "output_type": "execute_result"
    }
   ],
   "source": [
    "#device = torch.device(\"cuda\" if torch.cuda.is_available() else \"cpu\")\n",
    "device = torch.device(\"mps\" if torch.mps.is_available() else \"cpu\")\n",
    "device"
   ]
  },
  {
   "cell_type": "code",
   "execution_count": 3,
   "id": "628b9194",
   "metadata": {},
   "outputs": [],
   "source": [
    "# read the dataset\n",
    "train = pd.read_csv('train.csv')\n",
    "validation = pd.read_csv('validation.csv')\n",
    "test = pd.read_csv('test.csv')"
   ]
  },
  {
   "cell_type": "code",
   "execution_count": 4,
   "id": "d8acb375",
   "metadata": {},
   "outputs": [
    {
     "data": {
      "text/plain": [
       "((17877, 5), (3831, 5), (3831, 5))"
      ]
     },
     "execution_count": 4,
     "metadata": {},
     "output_type": "execute_result"
    }
   ],
   "source": [
    "train.shape, validation.shape, test.shape"
   ]
  },
  {
   "cell_type": "code",
   "execution_count": 5,
   "id": "e307d5a5",
   "metadata": {},
   "outputs": [],
   "source": [
    "import re\n",
    "\n",
    "def preprocess_text(text):\n",
    "    # Check if the text is a string\n",
    "    if not isinstance(text, str):\n",
    "        return []\n",
    "    \n",
    "    # Keep only letters and whitespaces\n",
    "    pattern = f\"[a-zA-Z\\s]\"\n",
    "    text = ''.join(re.findall(pattern, text))\n",
    "    \n",
    "    # Convert to lowercase\n",
    "    text = text.lower()\n",
    "    \n",
    "    # Tokenize the text\n",
    "    tokens = nltk.word_tokenize(text)\n",
    "    \n",
    "    return tokens\n"
   ]
  },
  {
   "cell_type": "code",
   "execution_count": 6,
   "id": "dae592b0",
   "metadata": {},
   "outputs": [],
   "source": [
    "#apply the preprocess text to \n",
    "train['user_review'] = train.user_review.apply(preprocess_text)\n",
    "validation['user_review'] = validation.user_review.apply(preprocess_text)\n",
    "test['user_review'] = test.user_review.apply(preprocess_text)"
   ]
  },
  {
   "cell_type": "code",
   "execution_count": 7,
   "id": "9e19d003",
   "metadata": {},
   "outputs": [
    {
     "data": {
      "text/html": [
       "<div>\n",
       "<style scoped>\n",
       "    .dataframe tbody tr th:only-of-type {\n",
       "        vertical-align: middle;\n",
       "    }\n",
       "\n",
       "    .dataframe tbody tr th {\n",
       "        vertical-align: top;\n",
       "    }\n",
       "\n",
       "    .dataframe thead th {\n",
       "        text-align: right;\n",
       "    }\n",
       "</style>\n",
       "<table border=\"1\" class=\"dataframe\">\n",
       "  <thead>\n",
       "    <tr style=\"text-align: right;\">\n",
       "      <th></th>\n",
       "      <th>review_id</th>\n",
       "      <th>title</th>\n",
       "      <th>year</th>\n",
       "      <th>user_review</th>\n",
       "      <th>user_suggestion</th>\n",
       "    </tr>\n",
       "  </thead>\n",
       "  <tbody>\n",
       "    <tr>\n",
       "      <th>0</th>\n",
       "      <td>460</td>\n",
       "      <td>Black Squad</td>\n",
       "      <td>2018.0</td>\n",
       "      <td>[early, access, reviewvery, great, shooter, th...</td>\n",
       "      <td>1</td>\n",
       "    </tr>\n",
       "    <tr>\n",
       "      <th>1</th>\n",
       "      <td>2166</td>\n",
       "      <td>Tree of Savior (English Ver.)</td>\n",
       "      <td>2016.0</td>\n",
       "      <td>[i, love, love, love, playing, this, gamesuper...</td>\n",
       "      <td>1</td>\n",
       "    </tr>\n",
       "    <tr>\n",
       "      <th>2</th>\n",
       "      <td>17242</td>\n",
       "      <td>Eternal Card Game</td>\n",
       "      <td>2016.0</td>\n",
       "      <td>[early, access, reviewas, a, fan, of, mtg, and...</td>\n",
       "      <td>1</td>\n",
       "    </tr>\n",
       "    <tr>\n",
       "      <th>3</th>\n",
       "      <td>6959</td>\n",
       "      <td>Tactical Monsters Rumble Arena</td>\n",
       "      <td>2018.0</td>\n",
       "      <td>[turn, based, strategy, game, similiar, to, ff...</td>\n",
       "      <td>1</td>\n",
       "    </tr>\n",
       "    <tr>\n",
       "      <th>4</th>\n",
       "      <td>8807</td>\n",
       "      <td>Yu-Gi-Oh! Duel Links</td>\n",
       "      <td>2017.0</td>\n",
       "      <td>[this, game, has, an, insanely, huge, download...</td>\n",
       "      <td>0</td>\n",
       "    </tr>\n",
       "  </tbody>\n",
       "</table>\n",
       "</div>"
      ],
      "text/plain": [
       "   review_id                           title    year  \\\n",
       "0        460                     Black Squad  2018.0   \n",
       "1       2166   Tree of Savior (English Ver.)  2016.0   \n",
       "2      17242               Eternal Card Game  2016.0   \n",
       "3       6959  Tactical Monsters Rumble Arena  2018.0   \n",
       "4       8807            Yu-Gi-Oh! Duel Links  2017.0   \n",
       "\n",
       "                                         user_review  user_suggestion  \n",
       "0  [early, access, reviewvery, great, shooter, th...                1  \n",
       "1  [i, love, love, love, playing, this, gamesuper...                1  \n",
       "2  [early, access, reviewas, a, fan, of, mtg, and...                1  \n",
       "3  [turn, based, strategy, game, similiar, to, ff...                1  \n",
       "4  [this, game, has, an, insanely, huge, download...                0  "
      ]
     },
     "execution_count": 7,
     "metadata": {},
     "output_type": "execute_result"
    }
   ],
   "source": [
    "#check the head of train data\n",
    "train.head()"
   ]
  },
  {
   "cell_type": "code",
   "execution_count": 8,
   "id": "2c05cfa7",
   "metadata": {
    "scrolled": true
   },
   "outputs": [
    {
     "name": "stdout",
     "output_type": "stream",
     "text": [
      "81493\n"
     ]
    }
   ],
   "source": [
    "# Fetch embeddings\n",
    "word2vec_model = Word2Vec(sentences=train.user_review.values.tolist(), \n",
    "                          vector_size=100, min_count=1, workers=4)\n",
    "\n",
    "# Get vocabulary size\n",
    "vocab_size = len(word2vec_model.wv)\n",
    "print(vocab_size)"
   ]
  },
  {
   "cell_type": "code",
   "execution_count": 9,
   "id": "534fe2f2",
   "metadata": {},
   "outputs": [],
   "source": [
    "# Convert text to Word2Vec embeddings\n",
    "def text_to_embeddings(text, word2vec_model, seq_length):\n",
    "    embeddings = []\n",
    "    \n",
    "    for i, word in enumerate(text):\n",
    "        if word in word2vec_model.wv:\n",
    "            if i == seq_length:\n",
    "                break\n",
    "            embeddings.append(word2vec_model.wv[word])\n",
    "        else:\n",
    "            continue\n",
    "        \n",
    "    # Padding the sequences\n",
    "    if len(embeddings) < seq_length:\n",
    "        zero_padding = [np.zeros(word2vec_model.vector_size) \\\n",
    "                        for _ in range(seq_length - len(embeddings))]\n",
    "\n",
    "        embeddings = embeddings + zero_padding\n",
    "\n",
    "    return embeddings[:seq_length]"
   ]
  },
  {
   "cell_type": "markdown",
   "id": "ebadde8a",
   "metadata": {},
   "source": [
    "#### Explanation-\n",
    "This function, text_to_embeddings, converts a given text into a sequence of embeddings using a pre-trained Word2Vec model. Here's a detailed breakdown of its operations:\n",
    "\n",
    "1. __Initialization__: The function initializes an empty list called embeddings to store the word vectors.\n",
    "\n",
    "2. __Iterating Over Words__: It loops over each word in the text. The enumeration provides both the index i and the word itself.\n",
    "\n",
    "3. __Word Embedding Lookup__:\n",
    "    - If the current word exists in the Word2Vec model's vocabulary (word2vec_model.wv), its corresponding embedding is retrieved and appended to the embeddings list.\n",
    "    - If the word is not in the model's vocabulary, it is skipped (continue), effectively ignoring out-of-vocabulary words.\n",
    "    - The loop breaks when the number of embeddings equals the specified seq_length, ensuring that the number of word vectors does not exceed the desired sequence length.\n",
    "\n",
    "4. __Padding__:\n",
    "- After processing all words, if the number of obtained embeddings is less than seq_length, the function pads the sequence with zero vectors. Each zero vector has the same dimensionality as the Word2Vec embeddings (word2vec_model.vector_size).\n",
    "- Zero padding is added to the end of the embeddings list until its length matches seq_length.\n",
    "\n",
    "5. __Return__: The function returns the embeddings list, which now contains a sequence of word vectors of length seq_length. If the initial number of embeddings exceeds seq_length, it truncates the list to return exactly seq_length embeddings."
   ]
  },
  {
   "cell_type": "code",
   "execution_count": 10,
   "id": "e62ab414",
   "metadata": {},
   "outputs": [],
   "source": [
    "# Prepare data\n",
    "def prepare_data(reviews, labels, word2vec_model):\n",
    "    X = [text_to_embeddings(review, word2vec_model, 100) for review in reviews]\n",
    "    X = [torch.tensor(embeddings, dtype=torch.float32) for embeddings in X]\n",
    "    X = torch.stack(X).to(device)\n",
    "    y = torch.tensor(labels).to(device)\n",
    "    return X, y"
   ]
  },
  {
   "cell_type": "code",
   "execution_count": 11,
   "id": "89703a7f",
   "metadata": {},
   "outputs": [
    {
     "name": "stderr",
     "output_type": "stream",
     "text": [
      "/var/folders/12/h54n268d1f13rwcrx9wfckmc0000gn/T/ipykernel_14397/2429379467.py:4: UserWarning: Creating a tensor from a list of numpy.ndarrays is extremely slow. Please consider converting the list to a single numpy.ndarray with numpy.array() before converting to a tensor. (Triggered internally at /private/var/folders/k1/30mswbxs7r1g6zwn8y4fyt500000gp/T/abs_951ooclnw1/croot/libtorch_1746637517770/work/torch/csrc/utils/tensor_new.cpp:281.)\n",
      "  X = [torch.tensor(embeddings, dtype=torch.float32) for embeddings in X]\n"
     ]
    }
   ],
   "source": [
    "# Prepare data\n",
    "X_train, y_train = prepare_data(train.user_review, train.user_suggestion,\n",
    "                    word2vec_model)\n",
    "\n",
    "X_val, y_val = prepare_data(validation.user_review, validation.user_suggestion,\n",
    "                    word2vec_model)"
   ]
  },
  {
   "cell_type": "code",
   "execution_count": 12,
   "id": "a74802e6",
   "metadata": {},
   "outputs": [],
   "source": [
    "# Define hyperparameters\n",
    "input_size = word2vec_model.vector_size\n",
    "hidden_size = 128\n",
    "output_size = 1\n",
    "num_layers = 1\n",
    "learning_rate = 0.001\n",
    "num_epochs = 30\n",
    "batch_size = 64\n",
    "dropout_rate = 0.5\n",
    "leaky_relu_slope = 0.1"
   ]
  },
  {
   "cell_type": "code",
   "execution_count": 13,
   "id": "16af0ec8",
   "metadata": {},
   "outputs": [],
   "source": [
    "# Create DataLoader\n",
    "train_data = TensorDataset(X_train, y_train)\n",
    "train_loader = DataLoader(train_data, batch_size=batch_size, shuffle=True)"
   ]
  },
  {
   "cell_type": "code",
   "execution_count": 14,
   "id": "e6711f6a",
   "metadata": {},
   "outputs": [],
   "source": [
    "# Create DataLoader\n",
    "val_data = TensorDataset(X_val, y_val)\n",
    "val_loader = DataLoader(val_data, batch_size=batch_size, shuffle=True)"
   ]
  },
  {
   "cell_type": "markdown",
   "id": "0bc70aa0",
   "metadata": {},
   "source": [
    "#### RNN Model with Word Embedding"
   ]
  },
  {
   "cell_type": "code",
   "execution_count": 15,
   "id": "c7d88c0d",
   "metadata": {},
   "outputs": [],
   "source": [
    "class SentimentRNN(nn.Module):\n",
    "    def __init__(self, input_size, hidden_size, output_size, dropout_rate):\n",
    "        super(SentimentRNN, self).__init__()\n",
    "        self.hidden_size = hidden_size\n",
    "        self.num_layers = num_layers\n",
    "        # Basic RNN layer\n",
    "        self.rnn = nn.RNN(input_size, hidden_size, num_layers, batch_first=True, dropout=dropout_rate if num_layers > 1 else 0)\n",
    "        self.leaky_relu = nn.LeakyReLU()  # Leaky ReLU activation layer\n",
    "        self.dropout = nn.Dropout(dropout_rate)\n",
    "        self.fc = nn.Linear(hidden_size, output_size)\n",
    "        self.sigmoid = nn.Sigmoid()  # Sigmoid activation layer\n",
    "\n",
    "    def forward(self, x):\n",
    "        # Initial hidden state\n",
    "        h0 = torch.zeros(self.num_layers, x.size(0), self.hidden_size).to(x.device)\n",
    "        # RNN output\n",
    "        out, _ = self.rnn(x, h0)\n",
    "        # Apply Leaky ReLU to the outputs of the RNN layer\n",
    "        out = self.leaky_relu(out)\n",
    "        out = self.dropout(out)\n",
    "        # Get the last sequence output for classification\n",
    "        out = out[:, -1, :]\n",
    "        # Apply the linear layer for the final output\n",
    "        out = self.fc(out)\n",
    "        # Apply the sigmoid activation\n",
    "        out = self.sigmoid(out)\n",
    "        return out\n"
   ]
  },
  {
   "cell_type": "code",
   "execution_count": 16,
   "id": "cc3c29df",
   "metadata": {
    "scrolled": true
   },
   "outputs": [],
   "source": [
    "# Initialize model, loss function, and optimizer\n",
    "model = SentimentRNN(input_size, hidden_size, output_size, dropout_rate)\n",
    "model = model.to(device)\n",
    "criterion = nn.BCELoss()\n",
    "optimizer = optim.Adam(model.parameters(), lr=learning_rate)"
   ]
  },
  {
   "cell_type": "code",
   "execution_count": 17,
   "id": "f7a310fc",
   "metadata": {},
   "outputs": [],
   "source": [
    "def calculate_accuracy(loader, model=None):\n",
    "    model.eval()\n",
    "    correct, total = 0, 0\n",
    "    with torch.no_grad():\n",
    "        for inputs, labels in loader:\n",
    "            outputs = model(inputs)\n",
    "            predicted = outputs.squeeze() > 0.5\n",
    "            total += labels.size(0)\n",
    "            correct += (predicted == labels).sum().item()\n",
    "    return 100 * correct / total"
   ]
  },
  {
   "cell_type": "code",
   "execution_count": 18,
   "id": "167c795a",
   "metadata": {},
   "outputs": [
    {
     "name": "stdout",
     "output_type": "stream",
     "text": [
      "Epoch 1/10, Loss: 0.6840, Val Loss: 0.6800\n",
      "Epoch 2/10, Loss: 0.6771, Val Loss: 0.6762\n",
      "Epoch 3/10, Loss: 0.6840, Val Loss: 0.6850\n",
      "Epoch 4/10, Loss: 0.6845, Val Loss: 0.6868\n",
      "Epoch 5/10, Loss: 0.6826, Val Loss: 0.6849\n",
      "Early stopped at 5\n",
      "Lowest Validation Loss: 0.6762 at Epoch 2\n"
     ]
    }
   ],
   "source": [
    "#Training loop\n",
    "import matplotlib.pyplot as plt\n",
    "\n",
    "num_epochs = 10  # Number of epochs\n",
    "losses = []  # List to store the average train loss per epoch\n",
    "val_losses = []  # List to store the average validation loss per epoch\n",
    "best_val_loss = float('inf')  # Initialize the best validation loss to infinity\n",
    "best_epoch = 0  # Epoch with the best validation loss\n",
    "patience = 0\n",
    "max_patience = 3  # Maximum epochs to wait for improvement\n",
    "\n",
    "for epoch in range(num_epochs):\n",
    "    model.train()  # Set the model to training mode\n",
    "    total_loss = 0\n",
    "    total_val_loss = 0\n",
    "    count = 0\n",
    "    val_count = 0\n",
    "    for inputs, labels in train_loader:\n",
    "        optimizer.zero_grad()\n",
    "        outputs = model(inputs)\n",
    "        outputs = outputs.squeeze()\n",
    "        loss = criterion(outputs, labels.float())\n",
    "        loss.backward()\n",
    "        optimizer.step()\n",
    "        total_loss += loss.item()\n",
    "        count += 1\n",
    "    average_loss = total_loss / count\n",
    "    losses.append(average_loss)\n",
    "\n",
    "    model.eval()  # Set the model to evaluation mode\n",
    "    with torch.no_grad():\n",
    "        for inputs, labels in val_loader:\n",
    "            val_outputs = model(inputs)\n",
    "            val_outputs = val_outputs.squeeze()\n",
    "            val_loss = criterion(val_outputs, labels.float())\n",
    "            total_val_loss += val_loss.item()\n",
    "            val_count += 1\n",
    "    average_val_loss = total_val_loss / val_count\n",
    "    val_losses.append(average_val_loss)\n",
    "    print(f'Epoch {epoch+1}/{num_epochs}, Loss: {average_loss:.4f}, Val Loss: {average_val_loss:.4f}')\n",
    "    \n",
    "    # Check if the current validation loss is the lowest; if so, save the model\n",
    "    if average_val_loss < best_val_loss:\n",
    "        best_val_loss = average_val_loss\n",
    "        best_epoch = epoch\n",
    "        torch.save(model.state_dict(), 'rnn_best_model.pth')  # Save the best model\n",
    "        patience = 0   \n",
    "    else:\n",
    "        patience += 1\n",
    "\n",
    "    if patience >= max_patience:\n",
    "        print(f'Early stopped at {epoch+1}')\n",
    "        break  # Stop training\n",
    "\n",
    "print(f'Lowest Validation Loss: {best_val_loss:.4f} at Epoch {best_epoch + 1}')"
   ]
  },
  {
   "cell_type": "code",
   "execution_count": 19,
   "id": "2a847c53-3267-45b1-9907-a6204197e136",
   "metadata": {},
   "outputs": [
    {
     "data": {
      "image/png": "[encoded data removed]",
      "text/plain": [
       "<Figure size 1000x500 with 1 Axes>"
      ]
     },
     "metadata": {},
     "output_type": "display_data"
    }
   ],
   "source": [
    "# Plotting the training and validation losses\n",
    "\n",
    "plt.figure(figsize=(10, 5))\n",
    "plt.plot(range(1, (len(losses)+1)), losses, 'bo-', label='Training Loss')\n",
    "plt.plot(range(1, (len(losses)+1)), val_losses, 'ro-', label='Validation Loss')\n",
    "plt.title('Training and Validation Loss per Epoch')\n",
    "plt.xlabel('Epoch')\n",
    "plt.ylabel('Loss')\n",
    "plt.legend()\n",
    "plt.grid(True)\n",
    "plt.show()"
   ]
  },
  {
   "cell_type": "code",
   "execution_count": 20,
   "id": "6919e06f-bf63-416e-9dd1-0672be872efb",
   "metadata": {},
   "outputs": [
    {
     "name": "stdout",
     "output_type": "stream",
     "text": [
      "Best Model Training Accuracy: 60.21144487330089%\n",
      "Best Model Validation Accuracy: 58.496476115896634%\n"
     ]
    }
   ],
   "source": [
    "# Load the best model and calculate accuracy only for that\n",
    "model.load_state_dict(torch.load('rnn_best_model.pth', map_location=device, weights_only=True))\n",
    "train_accuracy = calculate_accuracy(train_loader,model)\n",
    "val_accuracy = calculate_accuracy(val_loader,model)\n",
    "print(f'Best Model Training Accuracy: {train_accuracy}%')\n",
    "print(f'Best Model Validation Accuracy: {val_accuracy}%')"
   ]
  },
  {
   "cell_type": "markdown",
   "id": "6cd578bf",
   "metadata": {},
   "source": [
    "# Advanced RNN Structures"
   ]
  },
  {
   "cell_type": "markdown",
   "id": "dad18ecf",
   "metadata": {},
   "source": [
    "#### Using Multilayered Bi-Directional RNN"
   ]
  },
  {
   "cell_type": "code",
   "execution_count": 21,
   "id": "d2739da8",
   "metadata": {},
   "outputs": [],
   "source": [
    "# Define num_layers\n",
    "num_layers = 2"
   ]
  },
  {
   "cell_type": "code",
   "execution_count": 22,
   "id": "364e25ee",
   "metadata": {},
   "outputs": [],
   "source": [
    "class SentimentBiRNN(nn.Module):\n",
    "    def __init__(self, input_size, hidden_size, output_size, num_layers, dropout_rate=0.5):\n",
    "        super(SentimentBiRNN, self).__init__()\n",
    "        self.hidden_size = hidden_size\n",
    "        self.num_layers = num_layers\n",
    "\n",
    "        # Using RNN for the recurrent layer\n",
    "        self.bi_rnn = nn.RNN(input_size, hidden_size, num_layers, batch_first=True,\n",
    "                             bidirectional=True, dropout=dropout_rate if num_layers > 1 else 0)\n",
    "        self.dropout = nn.Dropout(dropout_rate)\n",
    "        # Doubling the output size because of bidirectionality\n",
    "        self.fc = nn.Linear(hidden_size * 2, output_size)\n",
    "\n",
    "    def forward(self, x):\n",
    "        # Initialize hidden state for RNN\n",
    "        h0 = torch.zeros(2 * self.num_layers, x.size(0), self.hidden_size).to(x.device)\n",
    "        # Forward propagate the RNN\n",
    "        out, _ = self.bi_rnn(x, h0)\n",
    "        # Apply Leaky ReLU activation\n",
    "        out = nn.functional.leaky_relu(out)\n",
    "        out = self.dropout(out)\n",
    "        # Get the last time step's output for the fully connected layer\n",
    "        out = self.fc(out[:, -1, :])\n",
    "        # Apply sigmoid to the output layer\n",
    "        out = torch.sigmoid(out)\n",
    "        return out"
   ]
  },
  {
   "cell_type": "code",
   "execution_count": 23,
   "id": "b280084f",
   "metadata": {},
   "outputs": [],
   "source": [
    "# Initialize model, loss function, and optimizer\n",
    "model = SentimentBiRNN(input_size, hidden_size, output_size, num_layers, dropout_rate)\n",
    "model = model.to(device)\n",
    "criterion = nn.BCELoss()\n",
    "optimizer = optim.Adam(model.parameters(), lr=learning_rate)"
   ]
  },
  {
   "cell_type": "code",
   "execution_count": 24,
   "id": "bd15fcaf",
   "metadata": {},
   "outputs": [
    {
     "name": "stdout",
     "output_type": "stream",
     "text": [
      "Epoch 1/10, Loss: 0.6861, Val Loss: 0.6845\n",
      "Epoch 2/10, Loss: 0.6839, Val Loss: 0.6870\n",
      "Epoch 3/10, Loss: 0.6817, Val Loss: 0.6829\n",
      "Epoch 4/10, Loss: 0.6826, Val Loss: 0.6939\n",
      "Epoch 5/10, Loss: 0.6826, Val Loss: 0.6820\n",
      "Epoch 6/10, Loss: 0.6812, Val Loss: 0.6827\n",
      "Epoch 7/10, Loss: 0.6841, Val Loss: 0.6849\n",
      "Epoch 8/10, Loss: 0.6801, Val Loss: 0.6804\n",
      "Epoch 9/10, Loss: 0.6783, Val Loss: 0.7311\n",
      "Epoch 10/10, Loss: 0.6831, Val Loss: 0.6880\n",
      "Lowest Validation Loss: 0.6804 at Epoch 8\n"
     ]
    }
   ],
   "source": [
    "#Training loop\n",
    "import matplotlib.pyplot as plt\n",
    "\n",
    "num_epochs = 10  # Number of epochs\n",
    "losses = []  # List to store the average train loss per epoch\n",
    "val_losses = []  # List to store the average validation loss per epoch\n",
    "best_val_loss = float('inf')  # Initialize the best validation loss to infinity\n",
    "best_epoch = 0  # Epoch with the best validation loss\n",
    "patience = 0\n",
    "max_patience = 3  # Maximum epochs to wait for improvement\n",
    "\n",
    "for epoch in range(num_epochs):\n",
    "    model.train()  # Set the model to training mode\n",
    "    total_loss = 0\n",
    "    total_val_loss = 0\n",
    "    count = 0\n",
    "    val_count = 0\n",
    "    for inputs, labels in train_loader:\n",
    "        optimizer.zero_grad()\n",
    "        outputs = model(inputs)\n",
    "        outputs = outputs.squeeze()\n",
    "        loss = criterion(outputs, labels.float())\n",
    "        loss.backward()\n",
    "        optimizer.step()\n",
    "        total_loss += loss.item()\n",
    "        count += 1\n",
    "    average_loss = total_loss / count\n",
    "    losses.append(average_loss)\n",
    "\n",
    "    model.eval()  # Set the model to evaluation mode\n",
    "    with torch.no_grad():\n",
    "        for inputs, labels in val_loader:\n",
    "            val_outputs = model(inputs)\n",
    "            val_outputs = val_outputs.squeeze()\n",
    "            val_loss = criterion(val_outputs, labels.float())\n",
    "            total_val_loss += val_loss.item()\n",
    "            val_count += 1\n",
    "    average_val_loss = total_val_loss / val_count\n",
    "    val_losses.append(average_val_loss)\n",
    "    print(f'Epoch {epoch+1}/{num_epochs}, Loss: {average_loss:.4f}, Val Loss: {average_val_loss:.4f}')\n",
    "    \n",
    "    # Check if the current validation loss is the lowest; if so, save the model\n",
    "    if average_val_loss < best_val_loss:\n",
    "        best_val_loss = average_val_loss\n",
    "        best_epoch = epoch\n",
    "        torch.save(model.state_dict(), 'bidirectional_best_model.pth')  # Save the best model\n",
    "        patience = 0   \n",
    "    else:\n",
    "        patience += 1\n",
    "\n",
    "    if patience >= max_patience:\n",
    "        print(f'Early stopped at {epoch+1}')\n",
    "        break  # Stop training\n",
    "\n",
    "print(f'Lowest Validation Loss: {best_val_loss:.4f} at Epoch {best_epoch + 1}')"
   ]
  },
  {
   "cell_type": "code",
   "execution_count": 25,
   "id": "8b8fefa6-7bc4-4068-b5ca-7a6b96282119",
   "metadata": {},
   "outputs": [
    {
     "data": {
      "image/png": "[encoded data removed]",
      "text/plain": [
       "<Figure size 1000x500 with 1 Axes>"
      ]
     },
     "metadata": {},
     "output_type": "display_data"
    }
   ],
   "source": [
    "# Plotting the training and validation losses\n",
    "\n",
    "plt.figure(figsize=(10, 5))\n",
    "plt.plot(range(1, (len(losses)+1)), losses, 'bo-', label='Training Loss')\n",
    "plt.plot(range(1, (len(losses)+1)), val_losses, 'ro-', label='Validation Loss')\n",
    "plt.title('Training and Validation Loss per Epoch')\n",
    "plt.xlabel('Epoch')\n",
    "plt.ylabel('Loss')\n",
    "plt.legend()\n",
    "plt.grid(True)\n",
    "plt.show()"
   ]
  },
  {
   "cell_type": "code",
   "execution_count": 26,
   "id": "7453f71a-8440-4b47-a9e0-3667ff3c56c9",
   "metadata": {},
   "outputs": [
    {
     "name": "stdout",
     "output_type": "stream",
     "text": [
      "Best Model Training Accuracy: 58.947250657269116%\n",
      "Best Model Validation Accuracy: 57.03471678412947%\n"
     ]
    }
   ],
   "source": [
    "# Load the best model and calculate accuracy only for that\n",
    "model.load_state_dict(torch.load('bidirectional_best_model.pth', map_location=device, weights_only=True))\n",
    "train_accuracy = calculate_accuracy(train_loader,model)\n",
    "val_accuracy = calculate_accuracy(val_loader,model)\n",
    "print(f'Best Model Training Accuracy: {train_accuracy}%')\n",
    "print(f'Best Model Validation Accuracy: {val_accuracy}%')"
   ]
  },
  {
   "cell_type": "markdown",
   "id": "363fc83c",
   "metadata": {},
   "source": [
    "### Limitations of RNN"
   ]
  },
  {
   "cell_type": "markdown",
   "id": "13b583c5",
   "metadata": {},
   "source": [
    "During training, RNNs use __Backward Propagation through time__. If the sequence of data is long, the gradients can become extremely small, effectively preventing the network from learning. This is known as the vanishing gradient problem. If you remember we have already covered vanishing and exploding gradients in our previous deep learning course.\n",
    "\n",
    "Due to this vanishing gradient problem, standard RNNs often fail to capture long-term dependencies in the data. For example, in a long sentence or paragraph, the network might struggle to connect a subject at the beginning with a verb much later in the sentence. \n",
    "\n",
    "Simply speaking, RNN is only good at remembering recent data and has a short term memory. \n",
    "\n",
    "For example, in the sentence : \"Kyle went to the store to buy a loaf of bread because he was hungry.\" The network needs to understand the long-range dependency between \"Kyle\" and \"he\" to understand both of them are the same.\n",
    "If the vanishing gradient problem occurs, the network might struggle to learn this dependency as the gradient carrying information about \"Kyle\" becomes very small by the time it reaches the layers responsible for connecting the word \"he\".\n",
    "\n",
    "To address these vanishing gradient problems and capture long term  dependencies or memories in the data more effectively, RNN is updated and a new advanced types RNN - LSTM and GRU is introduced. Let’s look at LSTM first in the next video."
   ]
  },
  {
   "cell_type": "markdown",
   "id": "c35d1d3b",
   "metadata": {},
   "source": [
    "# Using Bi-Directional GRU Model"
   ]
  },
  {
   "cell_type": "code",
   "execution_count": 27,
   "id": "f2892ada",
   "metadata": {},
   "outputs": [],
   "source": [
    "class SentimentGRU(nn.Module):\n",
    "    def __init__(self, input_size, hidden_size, output_size, num_layers, dropout_rate=0.5, leaky_relu_slope=0.1):\n",
    "        super(SentimentGRU, self).__init__()\n",
    "        self.hidden_size = hidden_size\n",
    "        self.num_layers = num_layers\n",
    "        self.gru = nn.GRU(input_size, hidden_size, num_layers, batch_first=True, \n",
    "                          bidirectional=True, dropout=dropout_rate if num_layers > 1 else 0)\n",
    "        self.dropout = nn.Dropout(dropout_rate)\n",
    "        self.fc = nn.Linear(hidden_size * 2, output_size)  # Output size is doubled because of bidirectionality\n",
    "    \n",
    "    def forward(self, x):\n",
    "        # Initialize hidden state\n",
    "        h0 = torch.zeros(2 * self.num_layers, x.size(0), self.hidden_size).to(x.device)\n",
    "        # Forward propagate the GRU\n",
    "        out, _ = self.gru(x, h0)\n",
    "        # Apply Leaky ReLU activation\n",
    "        out = nn.functional.leaky_relu(out)\n",
    "        # Apply dropout\n",
    "        out = self.dropout(out)\n",
    "        # Use only the last output for the fully connected layer\n",
    "        out = self.fc(out[:, -1, :])\n",
    "        # Apply sigmoid to the output layer\n",
    "        out = torch.sigmoid(out)\n",
    "        return out"
   ]
  },
  {
   "cell_type": "code",
   "execution_count": 28,
   "id": "21a7aa54",
   "metadata": {},
   "outputs": [],
   "source": [
    "# Initialize model, loss function, and optimizer\n",
    "model = SentimentGRU(input_size, hidden_size, output_size, num_layers, dropout_rate, leaky_relu_slope)\n",
    "model = model.to(device)\n",
    "criterion = nn.BCELoss()\n",
    "optimizer = optim.Adam(model.parameters(), lr=learning_rate)"
   ]
  },
  {
   "cell_type": "code",
   "execution_count": 29,
   "id": "e55fcb7b",
   "metadata": {},
   "outputs": [
    {
     "name": "stdout",
     "output_type": "stream",
     "text": [
      "Epoch 1/10, Loss: 0.6793, Val Loss: 0.6828\n",
      "Epoch 2/10, Loss: 0.6770, Val Loss: 0.6166\n",
      "Epoch 3/10, Loss: 0.5223, Val Loss: 0.4360\n",
      "Epoch 4/10, Loss: 0.4320, Val Loss: 0.4149\n",
      "Epoch 5/10, Loss: 0.3888, Val Loss: 0.3868\n",
      "Epoch 6/10, Loss: 0.3583, Val Loss: 0.3922\n",
      "Epoch 7/10, Loss: 0.3239, Val Loss: 0.3648\n",
      "Epoch 8/10, Loss: 0.2938, Val Loss: 0.3859\n",
      "Epoch 9/10, Loss: 0.2604, Val Loss: 0.4153\n",
      "Epoch 10/10, Loss: 0.2343, Val Loss: 0.4463\n",
      "Early stopped at 10\n",
      "Lowest Validation Loss: 0.3648 at Epoch 7\n"
     ]
    }
   ],
   "source": [
    "#Training loop\n",
    "import matplotlib.pyplot as plt\n",
    "\n",
    "num_epochs = 10  # Number of epochs\n",
    "losses = []  # List to store the average train loss per epoch\n",
    "val_losses = []  # List to store the average validation loss per epoch\n",
    "best_val_loss = float('inf')  # Initialize the best validation loss to infinity\n",
    "best_epoch = 0  # Epoch with the best validation loss\n",
    "patience = 0\n",
    "max_patience = 3  # Maximum epochs to wait for improvement\n",
    "\n",
    "for epoch in range(num_epochs):\n",
    "    model.train()  # Set the model to training mode\n",
    "    total_loss = 0\n",
    "    total_val_loss = 0\n",
    "    count = 0\n",
    "    val_count = 0\n",
    "    for inputs, labels in train_loader:\n",
    "        optimizer.zero_grad()\n",
    "        outputs = model(inputs)\n",
    "        outputs = outputs.squeeze()\n",
    "        loss = criterion(outputs, labels.float())\n",
    "        loss.backward()\n",
    "        optimizer.step()\n",
    "        total_loss += loss.item()\n",
    "        count += 1\n",
    "    average_loss = total_loss / count\n",
    "    losses.append(average_loss)\n",
    "\n",
    "    model.eval()  # Set the model to evaluation mode\n",
    "    with torch.no_grad():\n",
    "        for inputs, labels in val_loader:\n",
    "            val_outputs = model(inputs)\n",
    "            val_outputs = val_outputs.squeeze()\n",
    "            val_loss = criterion(val_outputs, labels.float())\n",
    "            total_val_loss += val_loss.item()\n",
    "            val_count += 1\n",
    "    average_val_loss = total_val_loss / val_count\n",
    "    val_losses.append(average_val_loss)\n",
    "    print(f'Epoch {epoch+1}/{num_epochs}, Loss: {average_loss:.4f}, Val Loss: {average_val_loss:.4f}')\n",
    "    \n",
    "    # Check if the current validation loss is the lowest; if so, save the model\n",
    "    if average_val_loss < best_val_loss:\n",
    "        best_val_loss = average_val_loss\n",
    "        best_epoch = epoch\n",
    "        torch.save(model.state_dict(), 'bi_gru_best_model.pth')  # Save the best model\n",
    "        patience = 0   \n",
    "    else:\n",
    "        patience += 1\n",
    "\n",
    "    if patience >= max_patience:\n",
    "        print(f'Early stopped at {epoch+1}')\n",
    "        break  # Stop training\n",
    "\n",
    "print(f'Lowest Validation Loss: {best_val_loss:.4f} at Epoch {best_epoch + 1}')"
   ]
  },
  {
   "cell_type": "code",
   "execution_count": 30,
   "id": "84bc9586-74fd-465f-8b09-8b9b546207e2",
   "metadata": {},
   "outputs": [
    {
     "data": {
      "image/png": "[encoded data removed]",
      "text/plain": [
       "<Figure size 1000x500 with 1 Axes>"
      ]
     },
     "metadata": {},
     "output_type": "display_data"
    }
   ],
   "source": [
    "# Plotting the training and validation losses\n",
    "\n",
    "plt.figure(figsize=(10, 5))\n",
    "plt.plot(range(1, (len(losses)+1)), losses, 'bo-', label='Training Loss')\n",
    "plt.plot(range(1, (len(losses)+1)), val_losses, 'ro-', label='Validation Loss')\n",
    "plt.title('Training and Validation Loss per Epoch')\n",
    "plt.xlabel('Epoch')\n",
    "plt.ylabel('Loss')\n",
    "plt.legend()\n",
    "plt.grid(True)\n",
    "plt.show()"
   ]
  },
  {
   "cell_type": "code",
   "execution_count": 31,
   "id": "cf9fb288-d425-44f8-a580-5a6fc122f33b",
   "metadata": {},
   "outputs": [
    {
     "name": "stdout",
     "output_type": "stream",
     "text": [
      "Best Model Training Accuracy: 89.16484868825866%\n",
      "Best Model Validation Accuracy: 83.3463847559384%\n"
     ]
    }
   ],
   "source": [
    "# Load the best model and calculate accuracy only for that\n",
    "model.load_state_dict(torch.load('bi_gru_best_model.pth', map_location=device, weights_only=True))\n",
    "train_accuracy = calculate_accuracy(train_loader,model)\n",
    "val_accuracy = calculate_accuracy(val_loader,model)\n",
    "print(f'Best Model Training Accuracy: {train_accuracy}%')\n",
    "print(f'Best Model Validation Accuracy: {val_accuracy}%')"
   ]
  },
  {
   "cell_type": "markdown",
   "id": "cd5fdff1",
   "metadata": {},
   "source": [
    "# Bidirectional LSTM Model"
   ]
  },
  {
   "cell_type": "code",
   "execution_count": 32,
   "id": "5140eecd",
   "metadata": {},
   "outputs": [],
   "source": [
    "class SentimentLSTM(nn.Module):\n",
    "    def __init__(self, input_size, hidden_size, output_size, num_layers, dropout_rate=0.5, leaky_relu_slope=0.1):\n",
    "        super(SentimentLSTM, self).__init__()\n",
    "        self.hidden_size = hidden_size\n",
    "        self.num_layers = num_layers\n",
    "        self.leaky_relu_slope = leaky_relu_slope\n",
    "\n",
    "        # # Create LSTM layers with nn.LSTM\n",
    "\n",
    "        self.lstm = nn.LSTM(input_size, hidden_size, num_layers, batch_first=True, bidirectional=True)\n",
    "        \n",
    "        # Define dropout layer\n",
    "        self.dropout = nn.Dropout(dropout_rate)\n",
    "\n",
    "        # Fully connected layer (output size is doubled for bidirectionality)\n",
    "        self.fc = nn.Linear(hidden_size * 2, output_size)\n",
    "\n",
    "        # Sigmoid activation for output layer\n",
    "        self.sigmoid = nn.Sigmoid()\n",
    "\n",
    "    def forward(self, x):\n",
    "        h_0 = torch.zeros(2 * self.num_layers, x.size(0), self.hidden_size).to(x.device)\n",
    "        c_0 = torch.zeros(2 * self.num_layers, x.size(0), self.hidden_size).to(x.device)\n",
    "\n",
    "        outputs, _ = self.lstm(x, (h_0, c_0))\n",
    "        \n",
    "        outputs = F.leaky_relu(outputs, negative_slope=self.leaky_relu_slope)  # Leaky ReLU activation\n",
    "\n",
    "        # Apply dropout and fully connected layer\n",
    "        outputs = self.dropout(outputs)\n",
    "        out = self.fc(outputs[:, -1, :])\n",
    "\n",
    "        # Sigmoid activation for output\n",
    "        out = self.sigmoid(out)\n",
    "        return out\n"
   ]
  },
  {
   "cell_type": "code",
   "execution_count": 33,
   "id": "ce900c08",
   "metadata": {},
   "outputs": [],
   "source": [
    "# Initialize model, loss function, and optimizer\n",
    "model = SentimentLSTM(input_size, hidden_size, output_size, num_layers, dropout_rate, leaky_relu_slope)\n",
    "model = model.to(device)\n",
    "criterion = nn.BCELoss()\n",
    "optimizer = optim.Adam(model.parameters(), lr=learning_rate)"
   ]
  },
  {
   "cell_type": "code",
   "execution_count": 34,
   "id": "8050b0d6",
   "metadata": {},
   "outputs": [
    {
     "name": "stdout",
     "output_type": "stream",
     "text": [
      "Epoch 1/30, Loss: 0.6819, Val Loss: 0.6819\n",
      "Epoch 2/30, Loss: 0.6748, Val Loss: 0.6232\n",
      "Epoch 3/30, Loss: 0.6311, Val Loss: 0.5646\n",
      "Epoch 4/30, Loss: 0.5600, Val Loss: 0.4874\n",
      "Epoch 5/30, Loss: 0.4854, Val Loss: 0.4798\n",
      "Epoch 6/30, Loss: 0.4390, Val Loss: 0.4230\n",
      "Epoch 7/30, Loss: 0.3952, Val Loss: 0.3934\n",
      "Epoch 8/30, Loss: 0.3648, Val Loss: 0.3951\n",
      "Epoch 9/30, Loss: 0.3380, Val Loss: 0.3879\n",
      "Epoch 10/30, Loss: 0.2997, Val Loss: 0.3857\n",
      "Epoch 11/30, Loss: 0.2653, Val Loss: 0.4185\n",
      "Epoch 12/30, Loss: 0.2323, Val Loss: 0.4352\n",
      "Epoch 13/30, Loss: 0.2116, Val Loss: 0.4747\n",
      "Early stopped at 13\n",
      "Lowest Validation Loss: 0.3857 at Epoch 10\n"
     ]
    }
   ],
   "source": [
    "#Training loop\n",
    "import matplotlib.pyplot as plt\n",
    "\n",
    "num_epochs = 30  # Number of epochs\n",
    "losses = []  # List to store the average train loss per epoch\n",
    "val_losses = []  # List to store the average validation loss per epoch\n",
    "best_val_loss = float('inf')  # Initialize the best validation loss to infinity\n",
    "best_epoch = 0  # Epoch with the best validation loss\n",
    "patience = 0\n",
    "max_patience = 3  # Maximum epochs to wait for improvement\n",
    "\n",
    "for epoch in range(num_epochs):\n",
    "    model.train()  # Set the model to training mode\n",
    "    total_loss = 0\n",
    "    total_val_loss = 0\n",
    "    count = 0\n",
    "    val_count = 0\n",
    "    for inputs, labels in train_loader:\n",
    "        optimizer.zero_grad()\n",
    "        outputs = model(inputs)\n",
    "        outputs = outputs.squeeze()\n",
    "        loss = criterion(outputs, labels.float())\n",
    "        loss.backward()\n",
    "        optimizer.step()\n",
    "        total_loss += loss.item()\n",
    "        count += 1\n",
    "    average_loss = total_loss / count\n",
    "    losses.append(average_loss)\n",
    "\n",
    "    model.eval()  # Set the model to evaluation mode\n",
    "    with torch.no_grad():\n",
    "        for inputs, labels in val_loader:\n",
    "            val_outputs = model(inputs)\n",
    "            val_outputs = val_outputs.squeeze()\n",
    "            val_loss = criterion(val_outputs, labels.float())\n",
    "            total_val_loss += val_loss.item()\n",
    "            val_count += 1\n",
    "    average_val_loss = total_val_loss / val_count\n",
    "    val_losses.append(average_val_loss)\n",
    "    print(f'Epoch {epoch+1}/{num_epochs}, Loss: {average_loss:.4f}, Val Loss: {average_val_loss:.4f}')\n",
    "    \n",
    "    # Check if the current validation loss is the lowest; if so, save the model\n",
    "    if average_val_loss < best_val_loss:\n",
    "        best_val_loss = average_val_loss\n",
    "        best_epoch = epoch\n",
    "        torch.save(model.state_dict(), 'bi_lstm_best_model.pth')  # Save the best model\n",
    "        patience = 0   \n",
    "    else:\n",
    "        patience += 1\n",
    "\n",
    "    if patience >= max_patience:\n",
    "        print(f'Early stopped at {epoch+1}')\n",
    "        break  # Stop training\n",
    "\n",
    "print(f'Lowest Validation Loss: {best_val_loss:.4f} at Epoch {best_epoch + 1}')"
   ]
  },
  {
   "cell_type": "code",
   "execution_count": 35,
   "id": "487cb59a-6f47-49f0-82e5-ec935c0c5e78",
   "metadata": {},
   "outputs": [
    {
     "data": {
      "image/png": "[encoded data removed]",
      "text/plain": [
       "<Figure size 1000x500 with 1 Axes>"
      ]
     },
     "metadata": {},
     "output_type": "display_data"
    }
   ],
   "source": [
    "# Plotting the training and validation losses\n",
    "\n",
    "plt.figure(figsize=(10, 5))\n",
    "plt.plot(range(1, (len(losses)+1)), losses, 'bo-', label='Training Loss')\n",
    "plt.plot(range(1, (len(losses)+1)), val_losses, 'ro-', label='Validation Loss')\n",
    "plt.title('Training and Validation Loss per Epoch')\n",
    "plt.xlabel('Epoch')\n",
    "plt.ylabel('Loss')\n",
    "plt.legend()\n",
    "plt.grid(True)\n",
    "plt.show()"
   ]
  },
  {
   "cell_type": "code",
   "execution_count": 36,
   "id": "ef21e39a-5352-407c-a4a6-70c5e001557b",
   "metadata": {},
   "outputs": [
    {
     "name": "stdout",
     "output_type": "stream",
     "text": [
      "Best Model Training Accuracy: 90.35632376797001%\n",
      "Best Model Validation Accuracy: 83.18976768467763%\n"
     ]
    }
   ],
   "source": [
    "# Load the best model and calculate accuracy only for that\n",
    "model.load_state_dict(torch.load('bi_lstm_best_model.pth', map_location=device, weights_only=True))\n",
    "train_accuracy = calculate_accuracy(train_loader,model)\n",
    "val_accuracy = calculate_accuracy(val_loader,model)\n",
    "print(f'Best Model Training Accuracy: {train_accuracy}%')\n",
    "print(f'Best Model Validation Accuracy: {val_accuracy}%')"
   ]
  },
  {
   "cell_type": "markdown",
   "id": "b2fe3fb4",
   "metadata": {},
   "source": [
    "# Performance on Test Data"
   ]
  },
  {
   "cell_type": "code",
   "execution_count": 37,
   "id": "baadccdf",
   "metadata": {},
   "outputs": [],
   "source": [
    "X_test, y_test = prepare_data(test.user_review, test.user_suggestion,\n",
    "                    word2vec_model)"
   ]
  },
  {
   "cell_type": "code",
   "execution_count": 38,
   "id": "e7a3ac14",
   "metadata": {},
   "outputs": [],
   "source": [
    "test_data = TensorDataset(X_test, y_test)\n",
    "test_loader = DataLoader(test_data, batch_size=batch_size, shuffle=True)"
   ]
  },
  {
   "cell_type": "code",
   "execution_count": 40,
   "id": "e963f8d7",
   "metadata": {},
   "outputs": [
    {
     "name": "stdout",
     "output_type": "stream",
     "text": [
      "Test Accuracy: 83.76403027930044%\n"
     ]
    }
   ],
   "source": [
    "model.load_state_dict(torch.load('bi_lstm_best_model.pth', map_location=device, weights_only=True))\n",
    "test_accuracy = calculate_accuracy(test_loader,model)\n",
    "print(f'Test Accuracy: {test_accuracy}%')"
   ]
  }
 ],
 "metadata": {
  "kernelspec": {
   "display_name": "Python 3 (ipykernel)",
   "language": "python",
   "name": "python3"
  },
  "language_info": {
   "codemirror_mode": {
    "name": "ipython",
    "version": 3
   },
   "file_extension": ".py",
   "mimetype": "text/x-python",
   "name": "python",
   "nbconvert_exporter": "python",
   "pygments_lexer": "ipython3",
   "version": "3.9.21"
  }
 },
 "nbformat": 4,
 "nbformat_minor": 5
}
