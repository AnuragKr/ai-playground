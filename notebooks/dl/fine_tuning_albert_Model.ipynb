{
  "metadata": {
    "kaggle": {
      "accelerator": "gpu",
      "dataSources": [
        {
          "sourceId": 8287071,
          "sourceType": "datasetVersion",
          "datasetId": 4922153
        },
        {
          "sourceId": 8332510,
          "sourceType": "datasetVersion",
          "datasetId": 4947994
        }
      ],
      "dockerImageVersionId": 30699,
      "isInternetEnabled": true,
      "language": "python",
      "sourceType": "notebook",
      "isGpuEnabled": true
    },
    "kernelspec": {
      "name": "python3",
      "display_name": "Python 3"
    },
    "language_info": {
      "name": "python",
      "version": "3.10.13",
      "mimetype": "text/x-python",
      "codemirror_mode": {
        "name": "ipython",
        "version": 3
      },
      "pygments_lexer": "ipython3",
      "nbconvert_exporter": "python",
      "file_extension": ".py"
    },
    "colab": {
      "provenance": [],
      "gpuType": "T4"
    },
    "accelerator": "GPU"
  },
  "nbformat_minor": 0,
  "nbformat": 4,
  "cells": [
    {
      "cell_type": "code",
      "source": [
        "import torch\n",
        "from transformers import AlbertTokenizer, AlbertForSequenceClassification #,BertTokenizer, BertForSequenceClassification,\n",
        "from torch.utils.data import Dataset, DataLoader\n",
        "from sklearn.model_selection import train_test_split\n",
        "from sklearn.metrics import accuracy_score\n",
        "from tqdm import tqdm\n",
        "import pandas as pd"
      ],
      "metadata": {
        "id": "rPJdAxrqpvFw",
        "execution": {
          "iopub.status.busy": "2024-05-06T09:04:13.866283Z",
          "iopub.execute_input": "2024-05-06T09:04:13.866663Z",
          "iopub.status.idle": "2024-05-06T09:04:13.872027Z",
          "shell.execute_reply.started": "2024-05-06T09:04:13.866634Z",
          "shell.execute_reply": "2024-05-06T09:04:13.870951Z"
        },
        "trusted": true
      },
      "execution_count": 1,
      "outputs": []
    },
    {
      "cell_type": "code",
      "source": [
        "from google.colab import drive\n",
        "drive.mount('/content/drive')"
      ],
      "metadata": {
        "colab": {
          "base_uri": "https://localhost:8080/"
        },
        "id": "8pDyIjkcbUe-",
        "outputId": "fa8af70d-1810-4e0f-be0d-e30af6652560"
      },
      "execution_count": 2,
      "outputs": [
        {
          "output_type": "stream",
          "name": "stdout",
          "text": [
            "Mounted at /content/drive\n"
          ]
        }
      ]
    },
    {
      "cell_type": "code",
      "source": [
        "df_train = pd.read_csv('/content/drive/MyDrive/Colab Notebooks/Dataset/movie-reviews/train.csv')\n",
        "df_validation = pd.read_csv('/content/drive/MyDrive/Colab Notebooks/Dataset/movie-reviews/validation.csv')\n",
        "df_test = pd.read_csv('/content/drive/MyDrive/Colab Notebooks/Dataset/movie-reviews/test.csv')"
      ],
      "metadata": {
        "id": "OcKgDcsQpvFx",
        "execution": {
          "iopub.status.busy": "2024-05-06T09:04:14.503911Z",
          "iopub.execute_input": "2024-05-06T09:04:14.504491Z",
          "iopub.status.idle": "2024-05-06T09:04:14.737671Z",
          "shell.execute_reply.started": "2024-05-06T09:04:14.504462Z",
          "shell.execute_reply": "2024-05-06T09:04:14.736866Z"
        },
        "trusted": true
      },
      "execution_count": 3,
      "outputs": []
    },
    {
      "cell_type": "code",
      "source": [
        "df_train.head()"
      ],
      "metadata": {
        "colab": {
          "base_uri": "https://localhost:8080/",
          "height": 206
        },
        "id": "BOUvIV1QpvFy",
        "outputId": "18228f9a-a70a-496f-b97b-2d722cbe94fa",
        "execution": {
          "iopub.status.busy": "2024-05-06T09:04:15.068365Z",
          "iopub.execute_input": "2024-05-06T09:04:15.068749Z",
          "iopub.status.idle": "2024-05-06T09:04:15.081102Z",
          "shell.execute_reply.started": "2024-05-06T09:04:15.068719Z",
          "shell.execute_reply": "2024-05-06T09:04:15.080061Z"
        },
        "trusted": true
      },
      "execution_count": 4,
      "outputs": [
        {
          "output_type": "execute_result",
          "data": {
            "text/plain": [
              "   review_id                           title    year  \\\n",
              "0        460                     Black Squad  2018.0   \n",
              "1       2166   Tree of Savior (English Ver.)  2016.0   \n",
              "2      17242               Eternal Card Game  2016.0   \n",
              "3       6959  Tactical Monsters Rumble Arena  2018.0   \n",
              "4       8807            Yu-Gi-Oh! Duel Links  2017.0   \n",
              "\n",
              "                                         user_review  user_suggestion  \n",
              "0  Early Access ReviewVery great shooter, that ha...                1  \n",
              "1  I love love love playing this game!Super 100%!...                1  \n",
              "2  Early Access ReviewAs a fan of MTG and Hearths...                1  \n",
              "3  Turn based strategy game similiar to FF Tactic...                1  \n",
              "4  This game has an insanely huge download for be...                0  "
            ],
            "text/html": [
              "\n",
              "  <div id=\"df-7b189f5e-e036-4f26-9920-eb827318f6b4\" class=\"colab-df-container\">\n",
              "    <div>\n",
              "<style scoped>\n",
              "    .dataframe tbody tr th:only-of-type {\n",
              "        vertical-align: middle;\n",
              "    }\n",
              "\n",
              "    .dataframe tbody tr th {\n",
              "        vertical-align: top;\n",
              "    }\n",
              "\n",
              "    .dataframe thead th {\n",
              "        text-align: right;\n",
              "    }\n",
              "</style>\n",
              "<table border=\"1\" class=\"dataframe\">\n",
              "  <thead>\n",
              "    <tr style=\"text-align: right;\">\n",
              "      <th></th>\n",
              "      <th>review_id</th>\n",
              "      <th>title</th>\n",
              "      <th>year</th>\n",
              "      <th>user_review</th>\n",
              "      <th>user_suggestion</th>\n",
              "    </tr>\n",
              "  </thead>\n",
              "  <tbody>\n",
              "    <tr>\n",
              "      <th>0</th>\n",
              "      <td>460</td>\n",
              "      <td>Black Squad</td>\n",
              "      <td>2018.0</td>\n",
              "      <td>Early Access ReviewVery great shooter, that ha...</td>\n",
              "      <td>1</td>\n",
              "    </tr>\n",
              "    <tr>\n",
              "      <th>1</th>\n",
              "      <td>2166</td>\n",
              "      <td>Tree of Savior (English Ver.)</td>\n",
              "      <td>2016.0</td>\n",
              "      <td>I love love love playing this game!Super 100%!...</td>\n",
              "      <td>1</td>\n",
              "    </tr>\n",
              "    <tr>\n",
              "      <th>2</th>\n",
              "      <td>17242</td>\n",
              "      <td>Eternal Card Game</td>\n",
              "      <td>2016.0</td>\n",
              "      <td>Early Access ReviewAs a fan of MTG and Hearths...</td>\n",
              "      <td>1</td>\n",
              "    </tr>\n",
              "    <tr>\n",
              "      <th>3</th>\n",
              "      <td>6959</td>\n",
              "      <td>Tactical Monsters Rumble Arena</td>\n",
              "      <td>2018.0</td>\n",
              "      <td>Turn based strategy game similiar to FF Tactic...</td>\n",
              "      <td>1</td>\n",
              "    </tr>\n",
              "    <tr>\n",
              "      <th>4</th>\n",
              "      <td>8807</td>\n",
              "      <td>Yu-Gi-Oh! Duel Links</td>\n",
              "      <td>2017.0</td>\n",
              "      <td>This game has an insanely huge download for be...</td>\n",
              "      <td>0</td>\n",
              "    </tr>\n",
              "  </tbody>\n",
              "</table>\n",
              "</div>\n",
              "    <div class=\"colab-df-buttons\">\n",
              "\n",
              "  <div class=\"colab-df-container\">\n",
              "    <button class=\"colab-df-convert\" onclick=\"convertToInteractive('df-7b189f5e-e036-4f26-9920-eb827318f6b4')\"\n",
              "            title=\"Convert this dataframe to an interactive table.\"\n",
              "            style=\"display:none;\">\n",
              "\n",
              "  <svg xmlns=\"http://www.w3.org/2000/svg\" height=\"24px\" viewBox=\"0 -960 960 960\">\n",
              "    <path d=\"M120-120v-720h720v720H120Zm60-500h600v-160H180v160Zm220 220h160v-160H400v160Zm0 220h160v-160H400v160ZM180-400h160v-160H180v160Zm440 0h160v-160H620v160ZM180-180h160v-160H180v160Zm440 0h160v-160H620v160Z\"/>\n",
              "  </svg>\n",
              "    </button>\n",
              "\n",
              "  <style>\n",
              "    .colab-df-container {\n",
              "      display:flex;\n",
              "      gap: 12px;\n",
              "    }\n",
              "\n",
              "    .colab-df-convert {\n",
              "      background-color: #E8F0FE;\n",
              "      border: none;\n",
              "      border-radius: 50%;\n",
              "      cursor: pointer;\n",
              "      display: none;\n",
              "      fill: #1967D2;\n",
              "      height: 32px;\n",
              "      padding: 0 0 0 0;\n",
              "      width: 32px;\n",
              "    }\n",
              "\n",
              "    .colab-df-convert:hover {\n",
              "      background-color: #E2EBFA;\n",
              "      box-shadow: 0px 1px 2px rgba(60, 64, 67, 0.3), 0px 1px 3px 1px rgba(60, 64, 67, 0.15);\n",
              "      fill: #174EA6;\n",
              "    }\n",
              "\n",
              "    .colab-df-buttons div {\n",
              "      margin-bottom: 4px;\n",
              "    }\n",
              "\n",
              "    [theme=dark] .colab-df-convert {\n",
              "      background-color: #3B4455;\n",
              "      fill: #D2E3FC;\n",
              "    }\n",
              "\n",
              "    [theme=dark] .colab-df-convert:hover {\n",
              "      background-color: #434B5C;\n",
              "      box-shadow: 0px 1px 3px 1px rgba(0, 0, 0, 0.15);\n",
              "      filter: drop-shadow(0px 1px 2px rgba(0, 0, 0, 0.3));\n",
              "      fill: #FFFFFF;\n",
              "    }\n",
              "  </style>\n",
              "\n",
              "    <script>\n",
              "      const buttonEl =\n",
              "        document.querySelector('#df-7b189f5e-e036-4f26-9920-eb827318f6b4 button.colab-df-convert');\n",
              "      buttonEl.style.display =\n",
              "        google.colab.kernel.accessAllowed ? 'block' : 'none';\n",
              "\n",
              "      async function convertToInteractive(key) {\n",
              "        const element = document.querySelector('#df-7b189f5e-e036-4f26-9920-eb827318f6b4');\n",
              "        const dataTable =\n",
              "          await google.colab.kernel.invokeFunction('convertToInteractive',\n",
              "                                                    [key], {});\n",
              "        if (!dataTable) return;\n",
              "\n",
              "        const docLinkHtml = 'Like what you see? Visit the ' +\n",
              "          '<a target=\"_blank\" href=https://colab.research.google.com/notebooks/data_table.ipynb>data table notebook</a>'\n",
              "          + ' to learn more about interactive tables.';\n",
              "        element.innerHTML = '';\n",
              "        dataTable['output_type'] = 'display_data';\n",
              "        await google.colab.output.renderOutput(dataTable, element);\n",
              "        const docLink = document.createElement('div');\n",
              "        docLink.innerHTML = docLinkHtml;\n",
              "        element.appendChild(docLink);\n",
              "      }\n",
              "    </script>\n",
              "  </div>\n",
              "\n",
              "\n",
              "    <div id=\"df-866a9bfe-93c9-4dc1-8662-dfcff1f13ddd\">\n",
              "      <button class=\"colab-df-quickchart\" onclick=\"quickchart('df-866a9bfe-93c9-4dc1-8662-dfcff1f13ddd')\"\n",
              "                title=\"Suggest charts\"\n",
              "                style=\"display:none;\">\n",
              "\n",
              "<svg xmlns=\"http://www.w3.org/2000/svg\" height=\"24px\"viewBox=\"0 0 24 24\"\n",
              "     width=\"24px\">\n",
              "    <g>\n",
              "        <path d=\"M19 3H5c-1.1 0-2 .9-2 2v14c0 1.1.9 2 2 2h14c1.1 0 2-.9 2-2V5c0-1.1-.9-2-2-2zM9 17H7v-7h2v7zm4 0h-2V7h2v10zm4 0h-2v-4h2v4z\"/>\n",
              "    </g>\n",
              "</svg>\n",
              "      </button>\n",
              "\n",
              "<style>\n",
              "  .colab-df-quickchart {\n",
              "      --bg-color: #E8F0FE;\n",
              "      --fill-color: #1967D2;\n",
              "      --hover-bg-color: #E2EBFA;\n",
              "      --hover-fill-color: #174EA6;\n",
              "      --disabled-fill-color: #AAA;\n",
              "      --disabled-bg-color: #DDD;\n",
              "  }\n",
              "\n",
              "  [theme=dark] .colab-df-quickchart {\n",
              "      --bg-color: #3B4455;\n",
              "      --fill-color: #D2E3FC;\n",
              "      --hover-bg-color: #434B5C;\n",
              "      --hover-fill-color: #FFFFFF;\n",
              "      --disabled-bg-color: #3B4455;\n",
              "      --disabled-fill-color: #666;\n",
              "  }\n",
              "\n",
              "  .colab-df-quickchart {\n",
              "    background-color: var(--bg-color);\n",
              "    border: none;\n",
              "    border-radius: 50%;\n",
              "    cursor: pointer;\n",
              "    display: none;\n",
              "    fill: var(--fill-color);\n",
              "    height: 32px;\n",
              "    padding: 0;\n",
              "    width: 32px;\n",
              "  }\n",
              "\n",
              "  .colab-df-quickchart:hover {\n",
              "    background-color: var(--hover-bg-color);\n",
              "    box-shadow: 0 1px 2px rgba(60, 64, 67, 0.3), 0 1px 3px 1px rgba(60, 64, 67, 0.15);\n",
              "    fill: var(--button-hover-fill-color);\n",
              "  }\n",
              "\n",
              "  .colab-df-quickchart-complete:disabled,\n",
              "  .colab-df-quickchart-complete:disabled:hover {\n",
              "    background-color: var(--disabled-bg-color);\n",
              "    fill: var(--disabled-fill-color);\n",
              "    box-shadow: none;\n",
              "  }\n",
              "\n",
              "  .colab-df-spinner {\n",
              "    border: 2px solid var(--fill-color);\n",
              "    border-color: transparent;\n",
              "    border-bottom-color: var(--fill-color);\n",
              "    animation:\n",
              "      spin 1s steps(1) infinite;\n",
              "  }\n",
              "\n",
              "  @keyframes spin {\n",
              "    0% {\n",
              "      border-color: transparent;\n",
              "      border-bottom-color: var(--fill-color);\n",
              "      border-left-color: var(--fill-color);\n",
              "    }\n",
              "    20% {\n",
              "      border-color: transparent;\n",
              "      border-left-color: var(--fill-color);\n",
              "      border-top-color: var(--fill-color);\n",
              "    }\n",
              "    30% {\n",
              "      border-color: transparent;\n",
              "      border-left-color: var(--fill-color);\n",
              "      border-top-color: var(--fill-color);\n",
              "      border-right-color: var(--fill-color);\n",
              "    }\n",
              "    40% {\n",
              "      border-color: transparent;\n",
              "      border-right-color: var(--fill-color);\n",
              "      border-top-color: var(--fill-color);\n",
              "    }\n",
              "    60% {\n",
              "      border-color: transparent;\n",
              "      border-right-color: var(--fill-color);\n",
              "    }\n",
              "    80% {\n",
              "      border-color: transparent;\n",
              "      border-right-color: var(--fill-color);\n",
              "      border-bottom-color: var(--fill-color);\n",
              "    }\n",
              "    90% {\n",
              "      border-color: transparent;\n",
              "      border-bottom-color: var(--fill-color);\n",
              "    }\n",
              "  }\n",
              "</style>\n",
              "\n",
              "      <script>\n",
              "        async function quickchart(key) {\n",
              "          const quickchartButtonEl =\n",
              "            document.querySelector('#' + key + ' button');\n",
              "          quickchartButtonEl.disabled = true;  // To prevent multiple clicks.\n",
              "          quickchartButtonEl.classList.add('colab-df-spinner');\n",
              "          try {\n",
              "            const charts = await google.colab.kernel.invokeFunction(\n",
              "                'suggestCharts', [key], {});\n",
              "          } catch (error) {\n",
              "            console.error('Error during call to suggestCharts:', error);\n",
              "          }\n",
              "          quickchartButtonEl.classList.remove('colab-df-spinner');\n",
              "          quickchartButtonEl.classList.add('colab-df-quickchart-complete');\n",
              "        }\n",
              "        (() => {\n",
              "          let quickchartButtonEl =\n",
              "            document.querySelector('#df-866a9bfe-93c9-4dc1-8662-dfcff1f13ddd button');\n",
              "          quickchartButtonEl.style.display =\n",
              "            google.colab.kernel.accessAllowed ? 'block' : 'none';\n",
              "        })();\n",
              "      </script>\n",
              "    </div>\n",
              "\n",
              "    </div>\n",
              "  </div>\n"
            ],
            "application/vnd.google.colaboratory.intrinsic+json": {
              "type": "dataframe",
              "variable_name": "df_train",
              "summary": "{\n  \"name\": \"df_train\",\n  \"rows\": 17877,\n  \"fields\": [\n    {\n      \"column\": \"review_id\",\n      \"properties\": {\n        \"dtype\": \"number\",\n        \"std\": 6385,\n        \"min\": 0,\n        \"max\": 20427,\n        \"num_unique_values\": 14968,\n        \"samples\": [\n          16355,\n          10879,\n          7945\n        ],\n        \"semantic_type\": \"\",\n        \"description\": \"\"\n      }\n    },\n    {\n      \"column\": \"title\",\n      \"properties\": {\n        \"dtype\": \"category\",\n        \"num_unique_values\": 64,\n        \"samples\": [\n          \"RaceRoom Racing Experience\",\n          \"SMITE\\u00ae\",\n          \"Black Squad\"\n        ],\n        \"semantic_type\": \"\",\n        \"description\": \"\"\n      }\n    },\n    {\n      \"column\": \"year\",\n      \"properties\": {\n        \"dtype\": \"number\",\n        \"std\": 1.3697574180800602,\n        \"min\": 2011.0,\n        \"max\": 2018.0,\n        \"num_unique_values\": 8,\n        \"samples\": [\n          2016.0,\n          2013.0,\n          2018.0\n        ],\n        \"semantic_type\": \"\",\n        \"description\": \"\"\n      }\n    },\n    {\n      \"column\": \"user_review\",\n      \"properties\": {\n        \"dtype\": \"string\",\n        \"num_unique_values\": 17873,\n        \"samples\": [\n          \"worst pay to win garbage I've ever seen and that's saying a lot .. you spawn in starter server and go to a store .. it wants currency needed bought through cash payments .. wonder off into wilderness and 20 minutes later doing nothing because I won't pony up my wallet ... this game is pure garbage\",\n          \"Pretty good race sim, especially considering it is a free-to-play. The only problem is the framerate can drop on slightly lower powered machines like mine and the purchasing of extra cars/tracks you want can get expensive.\",\n          \"Its a good game, Its brings back Ragnarok in a new and better way.Look at it as a cross with Maple story (the grind for levels) + Ragnarok (the class and skill systems)Pros++-Alot of Fun classes to try out and build.-Not a very High learning curve for a MMORPG.-Skills and Attaks are pretty decent-Leveling can be fun with party or sometimes even solo-Daily Dungens that give you good expCons---The way the class system is set up can be confusing.-Once you mess a char up, There is no turning back unless you spend money or delete.-Buggy quest and controls in certain locations or to much clicking.-Poor optimaization, running at GTX 1080 8G still has FPS drops at certain areas.-Unable to rotate camera, Sometimes can obstructe your view and even block mobs/npc/players(OverAll)Over all a good game, been putting a lot of hours in it. Late game is also fun with guild wars Just like classic RO.Though this game is grindy, then again what MMORPG does not have a grind. All the more this is Free to play game.This a Grindy MMORPG where you build your character how you want to.Its Not Pay to win that i can assure you, as you can get most of the items in the game for in game SILVER.For more info ill be making an Update guide on my Up coming Youtube Channel. =D \"\n        ],\n        \"semantic_type\": \"\",\n        \"description\": \"\"\n      }\n    },\n    {\n      \"column\": \"user_suggestion\",\n      \"properties\": {\n        \"dtype\": \"number\",\n        \"std\": 0,\n        \"min\": 0,\n        \"max\": 1,\n        \"num_unique_values\": 2,\n        \"samples\": [\n          0,\n          1\n        ],\n        \"semantic_type\": \"\",\n        \"description\": \"\"\n      }\n    }\n  ]\n}"
            }
          },
          "metadata": {},
          "execution_count": 4
        }
      ]
    },
    {
      "cell_type": "code",
      "source": [
        "# # Load pre-trained BERT model and tokenizer\n",
        "# model_name = 'bert-base-uncased'\n",
        "# tokenizer = BertTokenizer.from_pretrained(model_name)\n",
        "# model = BertForSequenceClassification.from_pretrained(model_name)"
      ],
      "metadata": {
        "id": "XojmLXN2pvF0",
        "execution": {
          "iopub.status.busy": "2024-05-06T09:04:17.578784Z",
          "iopub.execute_input": "2024-05-06T09:04:17.579523Z",
          "iopub.status.idle": "2024-05-06T09:04:17.583458Z",
          "shell.execute_reply.started": "2024-05-06T09:04:17.579492Z",
          "shell.execute_reply": "2024-05-06T09:04:17.582426Z"
        },
        "trusted": true
      },
      "execution_count": null,
      "outputs": []
    },
    {
      "cell_type": "code",
      "source": [
        "model_name = 'textattack/albert-base-v2-imdb'\n",
        "tokenizer = AlbertTokenizer.from_pretrained(model_name)\n",
        "model = AlbertForSequenceClassification.from_pretrained(model_name)"
      ],
      "metadata": {
        "id": "QBK67nhgX4s2",
        "execution": {
          "iopub.status.busy": "2024-05-06T09:04:17.928053Z",
          "iopub.execute_input": "2024-05-06T09:04:17.928418Z",
          "iopub.status.idle": "2024-05-06T09:04:18.870423Z",
          "shell.execute_reply.started": "2024-05-06T09:04:17.928390Z",
          "shell.execute_reply": "2024-05-06T09:04:18.869305Z"
        },
        "trusted": true
      },
      "execution_count": 6,
      "outputs": []
    },
    {
      "cell_type": "code",
      "source": [
        "class CustomDataset(Dataset):\n",
        "    def __init__(self, texts, labels, tokenizer, max_len):\n",
        "        self.texts = texts\n",
        "        self.labels = labels\n",
        "        self.tokenizer = tokenizer\n",
        "        self.max_len = max_len\n",
        "\n",
        "    def __len__(self):\n",
        "        return len(self.texts)\n",
        "\n",
        "    def __getitem__(self, idx):\n",
        "        text = str(self.texts.iloc[idx])\n",
        "        label = self.labels.iloc[idx]\n",
        "\n",
        "        encoding = self.tokenizer.encode_plus(\n",
        "            text,\n",
        "            add_special_tokens=True,\n",
        "            max_length=self.max_len,\n",
        "            return_token_type_ids=False,\n",
        "            padding='max_length',\n",
        "            truncation=True,\n",
        "            return_attention_mask=True,\n",
        "            return_tensors='pt',\n",
        "        )\n",
        "\n",
        "        return {\n",
        "            'text': text,\n",
        "            'input_ids': encoding['input_ids'].flatten(),\n",
        "            'attention_mask': encoding['attention_mask'].flatten(),\n",
        "            'label': torch.tensor(label, dtype=torch.long)\n",
        "        }\n"
      ],
      "metadata": {
        "id": "q0HkMTb6pvF0",
        "execution": {
          "iopub.status.busy": "2024-05-06T09:04:20.278073Z",
          "iopub.execute_input": "2024-05-06T09:04:20.278758Z",
          "iopub.status.idle": "2024-05-06T09:04:20.288121Z",
          "shell.execute_reply.started": "2024-05-06T09:04:20.278722Z",
          "shell.execute_reply": "2024-05-06T09:04:20.286953Z"
        },
        "trusted": true
      },
      "execution_count": 7,
      "outputs": []
    },
    {
      "cell_type": "code",
      "source": [
        "# Set maximum sequence length\n",
        "MAX_LEN = 128"
      ],
      "metadata": {
        "id": "NLQuPrZbpvF1",
        "execution": {
          "iopub.status.busy": "2024-05-06T09:04:20.857939Z",
          "iopub.execute_input": "2024-05-06T09:04:20.858328Z",
          "iopub.status.idle": "2024-05-06T09:04:20.863867Z",
          "shell.execute_reply.started": "2024-05-06T09:04:20.858298Z",
          "shell.execute_reply": "2024-05-06T09:04:20.862944Z"
        },
        "trusted": true
      },
      "execution_count": 8,
      "outputs": []
    },
    {
      "cell_type": "code",
      "source": [
        "# Create DataLoaders for train and val sets\n",
        "train_dataset = CustomDataset(df_train['user_review'], df_train['user_suggestion'], tokenizer, MAX_LEN)\n",
        "val_dataset = CustomDataset(df_validation['user_review'], df_validation['user_suggestion'], tokenizer, MAX_LEN)\n",
        "test_dataset = CustomDataset(df_test['user_review'], df_test['user_suggestion'], tokenizer, MAX_LEN)"
      ],
      "metadata": {
        "id": "YYnma5smpvF2",
        "execution": {
          "iopub.status.busy": "2024-05-06T09:04:21.624062Z",
          "iopub.execute_input": "2024-05-06T09:04:21.624749Z",
          "iopub.status.idle": "2024-05-06T09:04:21.630198Z",
          "shell.execute_reply.started": "2024-05-06T09:04:21.624715Z",
          "shell.execute_reply": "2024-05-06T09:04:21.629143Z"
        },
        "trusted": true
      },
      "execution_count": 9,
      "outputs": []
    },
    {
      "cell_type": "code",
      "source": [
        "# Define training parameters\n",
        "batch_size = 32\n",
        "epochs = 5\n",
        "lr = 2e-5\n",
        "optimizer = torch.optim.Adam(model.parameters(), lr=lr)"
      ],
      "metadata": {
        "id": "wYJCphGYpvF3",
        "execution": {
          "iopub.status.busy": "2024-05-06T09:04:27.171438Z",
          "iopub.execute_input": "2024-05-06T09:04:27.171823Z",
          "iopub.status.idle": "2024-05-06T09:04:27.177348Z",
          "shell.execute_reply.started": "2024-05-06T09:04:27.171794Z",
          "shell.execute_reply": "2024-05-06T09:04:27.176456Z"
        },
        "trusted": true
      },
      "execution_count": 18,
      "outputs": []
    },
    {
      "cell_type": "code",
      "source": [
        "train_loader = DataLoader(train_dataset, batch_size=batch_size, shuffle=True)\n",
        "val_loader = DataLoader(val_dataset, batch_size=batch_size, shuffle=False)\n",
        "test_loader = DataLoader(test_dataset, batch_size=batch_size, shuffle=False)"
      ],
      "metadata": {
        "id": "_RjzaXh2pvF4",
        "execution": {
          "iopub.status.busy": "2024-05-06T09:04:28.390821Z",
          "iopub.execute_input": "2024-05-06T09:04:28.391745Z",
          "iopub.status.idle": "2024-05-06T09:04:28.405379Z",
          "shell.execute_reply.started": "2024-05-06T09:04:28.391711Z",
          "shell.execute_reply": "2024-05-06T09:04:28.403968Z"
        },
        "trusted": true
      },
      "execution_count": 19,
      "outputs": []
    },
    {
      "cell_type": "code",
      "source": [
        "# Training loop\n",
        "device = torch.device('cuda' if torch.cuda.is_available() else 'cpu')\n",
        "model = model.to(device)"
      ],
      "metadata": {
        "id": "VmZua7bIpvF4",
        "execution": {
          "iopub.status.busy": "2024-05-06T09:04:29.393146Z",
          "iopub.execute_input": "2024-05-06T09:04:29.393505Z",
          "iopub.status.idle": "2024-05-06T09:04:29.410915Z",
          "shell.execute_reply.started": "2024-05-06T09:04:29.393478Z",
          "shell.execute_reply": "2024-05-06T09:04:29.410080Z"
        },
        "trusted": true
      },
      "execution_count": 20,
      "outputs": []
    },
    {
      "cell_type": "code",
      "source": [
        "# Freeze all layers except the classification layer\n",
        "for param in model.parameters():\n",
        "    param.requires_grad = False\n",
        "\n",
        "# Unfreeze the classification layer\n",
        "for param in model.classifier.parameters():\n",
        "    param.requires_grad = True"
      ],
      "metadata": {
        "id": "d2cbLwi7pvF5",
        "execution": {
          "iopub.status.busy": "2024-05-06T09:04:31.183949Z",
          "iopub.execute_input": "2024-05-06T09:04:31.184600Z",
          "iopub.status.idle": "2024-05-06T09:04:31.189437Z",
          "shell.execute_reply.started": "2024-05-06T09:04:31.184570Z",
          "shell.execute_reply": "2024-05-06T09:04:31.188422Z"
        },
        "trusted": true
      },
      "execution_count": 21,
      "outputs": []
    },
    {
      "cell_type": "code",
      "source": [
        "device"
      ],
      "metadata": {
        "colab": {
          "base_uri": "https://localhost:8080/"
        },
        "id": "fWsCacy2WvSm",
        "outputId": "4eb55c2f-9409-4a95-9620-efff612510ee"
      },
      "execution_count": 22,
      "outputs": [
        {
          "output_type": "execute_result",
          "data": {
            "text/plain": [
              "device(type='cuda')"
            ]
          },
          "metadata": {},
          "execution_count": 22
        }
      ]
    },
    {
      "cell_type": "code",
      "source": [
        "def calculate_accuracy(model, loader, device):\n",
        "    model.eval()\n",
        "    correct, total = 0, 0\n",
        "    with torch.no_grad():\n",
        "        for batch in loader:\n",
        "            input_ids = batch['input_ids'].to(device)\n",
        "            attention_mask = batch['attention_mask'].to(device)\n",
        "            labels = batch['label'].to(device)\n",
        "\n",
        "            outputs = model(input_ids, attention_mask=attention_mask)\n",
        "            predictions = torch.argmax(outputs.logits, dim=1)\n",
        "            correct += (predictions == labels).sum().item()\n",
        "            total += labels.size(0)\n",
        "\n",
        "    return 100 * correct / total\n"
      ],
      "metadata": {
        "execution": {
          "iopub.status.busy": "2024-05-06T09:04:32.479789Z",
          "iopub.execute_input": "2024-05-06T09:04:32.480658Z",
          "iopub.status.idle": "2024-05-06T09:04:32.487404Z",
          "shell.execute_reply.started": "2024-05-06T09:04:32.480626Z",
          "shell.execute_reply": "2024-05-06T09:04:32.486344Z"
        },
        "trusted": true,
        "id": "VgwT17zIuJ-E"
      },
      "execution_count": 23,
      "outputs": []
    },
    {
      "cell_type": "code",
      "source": [
        "best_val_loss = float('inf')  # Initialize best_val_loss to a very high value\n",
        "best_epoch = -1  # Initialize best_epoch to an invalid value to track the epoch of the best validation loss\n",
        "\n",
        "for epoch in range(epochs):\n",
        "    model.train()\n",
        "    total_train_loss = 0\n",
        "    total_val_loss = 0\n",
        "\n",
        "    # Training\n",
        "    for batch in train_loader:\n",
        "        input_ids = batch['input_ids'].to(device)\n",
        "        attention_mask = batch['attention_mask'].to(device)\n",
        "        labels = batch['label'].to(device)\n",
        "\n",
        "        optimizer.zero_grad()\n",
        "        outputs = model(input_ids, attention_mask=attention_mask, labels=labels)\n",
        "        loss = outputs.loss\n",
        "        loss.backward()\n",
        "        optimizer.step()\n",
        "\n",
        "        total_train_loss += loss.item()\n",
        "\n",
        "    avg_train_loss = total_train_loss / len(train_loader)\n",
        "\n",
        "    # Validation\n",
        "    model.eval()\n",
        "    with torch.no_grad():\n",
        "        for batch in val_loader:\n",
        "            input_ids = batch['input_ids'].to(device)\n",
        "            attention_mask = batch['attention_mask'].to(device)\n",
        "            labels = batch['label'].to(device)\n",
        "\n",
        "            outputs = model(input_ids, attention_mask=attention_mask, labels=labels)\n",
        "            loss = outputs.loss\n",
        "            total_val_loss += loss.item()\n",
        "\n",
        "    avg_val_loss = total_val_loss / len(val_loader)\n",
        "\n",
        "    # Check if the current validation loss is the lowest; if so, save the model\n",
        "    if avg_val_loss < best_val_loss:\n",
        "        best_val_loss = avg_val_loss\n",
        "        best_epoch = epoch\n",
        "        torch.save(model.state_dict(), 'best_model.pth')  # Save the best model\n",
        "\n",
        "    print(f\"Epoch {epoch + 1}/{epochs}, Training Loss: {avg_train_loss:.4f}, Validation Loss: {avg_val_loss:.4f}\")\n",
        "\n",
        "# Print the best epoch and its validation loss\n",
        "print(f\"The lowest validation loss was {best_val_loss:.4f} at epoch {best_epoch + 1}\")\n",
        "\n",
        "# Load the best model and calculate accuracy\n",
        "model.load_state_dict(torch.load('best_model.pth'))\n",
        "train_accuracy = calculate_accuracy(model, train_loader, device)\n",
        "val_accuracy = calculate_accuracy(model, val_loader, device)\n",
        "\n",
        "print(f'Best Model Training Accuracy: {train_accuracy:.2f}%')\n",
        "print(f'Best Model Validation Accuracy: {val_accuracy:.2f}%')\n"
      ],
      "metadata": {
        "execution": {
          "iopub.status.busy": "2024-05-06T09:04:33.866557Z",
          "iopub.execute_input": "2024-05-06T09:04:33.866929Z",
          "iopub.status.idle": "2024-05-06T10:15:02.073002Z",
          "shell.execute_reply.started": "2024-05-06T09:04:33.866888Z",
          "shell.execute_reply": "2024-05-06T10:15:02.072066Z"
        },
        "trusted": true,
        "id": "AiuH5tfiuJ-E",
        "outputId": "9e04a1ea-6a99-4e44-a3e6-6a4948ba1e36",
        "colab": {
          "base_uri": "https://localhost:8080/"
        }
      },
      "execution_count": 24,
      "outputs": [
        {
          "output_type": "stream",
          "name": "stdout",
          "text": [
            "Epoch 1/5, Training Loss: 0.3820, Validation Loss: 0.3717\n",
            "Epoch 2/5, Training Loss: 0.3792, Validation Loss: 0.3702\n",
            "Epoch 3/5, Training Loss: 0.3762, Validation Loss: 0.3679\n",
            "Epoch 4/5, Training Loss: 0.3751, Validation Loss: 0.3671\n",
            "Epoch 5/5, Training Loss: 0.3731, Validation Loss: 0.3647\n",
            "The lowest validation loss was 0.3647 at epoch 5\n",
            "Best Model Training Accuracy: 83.95%\n",
            "Best Model Validation Accuracy: 83.69%\n"
          ]
        }
      ]
    },
    {
      "cell_type": "code",
      "source": [
        "model.load_state_dict(torch.load('best_model.pth'))\n",
        "test_accuracy = calculate_accuracy(model,test_loader, device)\n",
        "print(f'Test Accuracy: {test_accuracy}%')"
      ],
      "metadata": {
        "id": "L9uS-8TVpvF6",
        "execution": {
          "iopub.status.busy": "2024-05-06T10:24:23.726196Z",
          "iopub.execute_input": "2024-05-06T10:24:23.727028Z",
          "iopub.status.idle": "2024-05-06T10:24:47.712696Z",
          "shell.execute_reply.started": "2024-05-06T10:24:23.726995Z",
          "shell.execute_reply": "2024-05-06T10:24:47.711767Z"
        },
        "trusted": true,
        "outputId": "85daba70-4666-4173-cbc3-d478d3c8d1c0",
        "colab": {
          "base_uri": "https://localhost:8080/"
        }
      },
      "execution_count": 25,
      "outputs": [
        {
          "output_type": "stream",
          "name": "stdout",
          "text": [
            "Test Accuracy: 84.44270425476377%\n"
          ]
        }
      ]
    }
  ]
}