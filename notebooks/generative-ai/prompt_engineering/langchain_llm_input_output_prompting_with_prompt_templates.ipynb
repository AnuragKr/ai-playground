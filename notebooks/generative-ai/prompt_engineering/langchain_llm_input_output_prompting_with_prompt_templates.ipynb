{
  "cells": [
    {
      "cell_type": "markdown",
      "metadata": {
        "id": "TVraWpDTW8i0"
      },
      "source": [
        "# Prompting with Prompt Templates for LLM Input / Output with LangChain"
      ]
    },
    {
      "cell_type": "markdown",
      "metadata": {
        "id": "L1KvMtf54l0d"
      },
      "source": [
        "## Install OpenAI, HuggingFace and LangChain dependencies"
      ]
    },
    {
      "cell_type": "code",
      "execution_count": 1,
      "metadata": {
        "colab": {
          "base_uri": "https://localhost:8080/"
        },
        "id": "5tHpdH8nWE17",
        "outputId": "edbfe7cb-262a-4897-aae3-16258e0b9706"
      },
      "outputs": [
        {
          "output_type": "stream",
          "name": "stdout",
          "text": [
            "Collecting langchain==0.3.11\n",
            "  Downloading langchain-0.3.11-py3-none-any.whl.metadata (7.1 kB)\n",
            "Requirement already satisfied: PyYAML>=5.3 in /usr/local/lib/python3.11/dist-packages (from langchain==0.3.11) (6.0.2)\n",
            "Requirement already satisfied: SQLAlchemy<3,>=1.4 in /usr/local/lib/python3.11/dist-packages (from langchain==0.3.11) (2.0.41)\n",
            "Requirement already satisfied: aiohttp<4.0.0,>=3.8.3 in /usr/local/lib/python3.11/dist-packages (from langchain==0.3.11) (3.11.15)\n",
            "Requirement already satisfied: langchain-core<0.4.0,>=0.3.24 in /usr/local/lib/python3.11/dist-packages (from langchain==0.3.11) (0.3.60)\n",
            "Requirement already satisfied: langchain-text-splitters<0.4.0,>=0.3.0 in /usr/local/lib/python3.11/dist-packages (from langchain==0.3.11) (0.3.8)\n",
            "Collecting langsmith<0.3,>=0.1.17 (from langchain==0.3.11)\n",
            "  Downloading langsmith-0.2.11-py3-none-any.whl.metadata (14 kB)\n",
            "Collecting numpy<2,>=1.22.4 (from langchain==0.3.11)\n",
            "  Downloading numpy-1.26.4-cp311-cp311-manylinux_2_17_x86_64.manylinux2014_x86_64.whl.metadata (61 kB)\n",
            "\u001b[2K     \u001b[90m━━━━━━━━━━━━━━━━━━━━━━━━━━━━━━━━━━━━━━━━\u001b[0m \u001b[32m61.0/61.0 kB\u001b[0m \u001b[31m1.5 MB/s\u001b[0m eta \u001b[36m0:00:00\u001b[0m\n",
            "\u001b[?25hRequirement already satisfied: pydantic<3.0.0,>=2.7.4 in /usr/local/lib/python3.11/dist-packages (from langchain==0.3.11) (2.11.4)\n",
            "Requirement already satisfied: requests<3,>=2 in /usr/local/lib/python3.11/dist-packages (from langchain==0.3.11) (2.32.3)\n",
            "Requirement already satisfied: tenacity!=8.4.0,<10,>=8.1.0 in /usr/local/lib/python3.11/dist-packages (from langchain==0.3.11) (9.1.2)\n",
            "Requirement already satisfied: aiohappyeyeballs>=2.3.0 in /usr/local/lib/python3.11/dist-packages (from aiohttp<4.0.0,>=3.8.3->langchain==0.3.11) (2.6.1)\n",
            "Requirement already satisfied: aiosignal>=1.1.2 in /usr/local/lib/python3.11/dist-packages (from aiohttp<4.0.0,>=3.8.3->langchain==0.3.11) (1.3.2)\n",
            "Requirement already satisfied: attrs>=17.3.0 in /usr/local/lib/python3.11/dist-packages (from aiohttp<4.0.0,>=3.8.3->langchain==0.3.11) (25.3.0)\n",
            "Requirement already satisfied: frozenlist>=1.1.1 in /usr/local/lib/python3.11/dist-packages (from aiohttp<4.0.0,>=3.8.3->langchain==0.3.11) (1.6.0)\n",
            "Requirement already satisfied: multidict<7.0,>=4.5 in /usr/local/lib/python3.11/dist-packages (from aiohttp<4.0.0,>=3.8.3->langchain==0.3.11) (6.4.4)\n",
            "Requirement already satisfied: propcache>=0.2.0 in /usr/local/lib/python3.11/dist-packages (from aiohttp<4.0.0,>=3.8.3->langchain==0.3.11) (0.3.1)\n",
            "Requirement already satisfied: yarl<2.0,>=1.17.0 in /usr/local/lib/python3.11/dist-packages (from aiohttp<4.0.0,>=3.8.3->langchain==0.3.11) (1.20.0)\n",
            "Requirement already satisfied: jsonpatch<2.0,>=1.33 in /usr/local/lib/python3.11/dist-packages (from langchain-core<0.4.0,>=0.3.24->langchain==0.3.11) (1.33)\n",
            "Requirement already satisfied: packaging<25,>=23.2 in /usr/local/lib/python3.11/dist-packages (from langchain-core<0.4.0,>=0.3.24->langchain==0.3.11) (24.2)\n",
            "Requirement already satisfied: typing-extensions>=4.7 in /usr/local/lib/python3.11/dist-packages (from langchain-core<0.4.0,>=0.3.24->langchain==0.3.11) (4.13.2)\n",
            "Requirement already satisfied: httpx<1,>=0.23.0 in /usr/local/lib/python3.11/dist-packages (from langsmith<0.3,>=0.1.17->langchain==0.3.11) (0.28.1)\n",
            "Requirement already satisfied: orjson<4.0.0,>=3.9.14 in /usr/local/lib/python3.11/dist-packages (from langsmith<0.3,>=0.1.17->langchain==0.3.11) (3.10.18)\n",
            "Requirement already satisfied: requests-toolbelt<2.0.0,>=1.0.0 in /usr/local/lib/python3.11/dist-packages (from langsmith<0.3,>=0.1.17->langchain==0.3.11) (1.0.0)\n",
            "Requirement already satisfied: annotated-types>=0.6.0 in /usr/local/lib/python3.11/dist-packages (from pydantic<3.0.0,>=2.7.4->langchain==0.3.11) (0.7.0)\n",
            "Requirement already satisfied: pydantic-core==2.33.2 in /usr/local/lib/python3.11/dist-packages (from pydantic<3.0.0,>=2.7.4->langchain==0.3.11) (2.33.2)\n",
            "Requirement already satisfied: typing-inspection>=0.4.0 in /usr/local/lib/python3.11/dist-packages (from pydantic<3.0.0,>=2.7.4->langchain==0.3.11) (0.4.1)\n",
            "Requirement already satisfied: charset-normalizer<4,>=2 in /usr/local/lib/python3.11/dist-packages (from requests<3,>=2->langchain==0.3.11) (3.4.2)\n",
            "Requirement already satisfied: idna<4,>=2.5 in /usr/local/lib/python3.11/dist-packages (from requests<3,>=2->langchain==0.3.11) (3.10)\n",
            "Requirement already satisfied: urllib3<3,>=1.21.1 in /usr/local/lib/python3.11/dist-packages (from requests<3,>=2->langchain==0.3.11) (2.4.0)\n",
            "Requirement already satisfied: certifi>=2017.4.17 in /usr/local/lib/python3.11/dist-packages (from requests<3,>=2->langchain==0.3.11) (2025.4.26)\n",
            "Requirement already satisfied: greenlet>=1 in /usr/local/lib/python3.11/dist-packages (from SQLAlchemy<3,>=1.4->langchain==0.3.11) (3.2.2)\n",
            "Requirement already satisfied: anyio in /usr/local/lib/python3.11/dist-packages (from httpx<1,>=0.23.0->langsmith<0.3,>=0.1.17->langchain==0.3.11) (4.9.0)\n",
            "Requirement already satisfied: httpcore==1.* in /usr/local/lib/python3.11/dist-packages (from httpx<1,>=0.23.0->langsmith<0.3,>=0.1.17->langchain==0.3.11) (1.0.9)\n",
            "Requirement already satisfied: h11>=0.16 in /usr/local/lib/python3.11/dist-packages (from httpcore==1.*->httpx<1,>=0.23.0->langsmith<0.3,>=0.1.17->langchain==0.3.11) (0.16.0)\n",
            "Requirement already satisfied: jsonpointer>=1.9 in /usr/local/lib/python3.11/dist-packages (from jsonpatch<2.0,>=1.33->langchain-core<0.4.0,>=0.3.24->langchain==0.3.11) (3.0.0)\n",
            "Requirement already satisfied: sniffio>=1.1 in /usr/local/lib/python3.11/dist-packages (from anyio->httpx<1,>=0.23.0->langsmith<0.3,>=0.1.17->langchain==0.3.11) (1.3.1)\n",
            "Downloading langchain-0.3.11-py3-none-any.whl (1.0 MB)\n",
            "\u001b[2K   \u001b[90m━━━━━━━━━━━━━━━━━━━━━━━━━━━━━━━━━━━━━━━━\u001b[0m \u001b[32m1.0/1.0 MB\u001b[0m \u001b[31m19.3 MB/s\u001b[0m eta \u001b[36m0:00:00\u001b[0m\n",
            "\u001b[?25hDownloading langsmith-0.2.11-py3-none-any.whl (326 kB)\n",
            "\u001b[2K   \u001b[90m━━━━━━━━━━━━━━━━━━━━━━━━━━━━━━━━━━━━━━━━\u001b[0m \u001b[32m326.9/326.9 kB\u001b[0m \u001b[31m9.8 MB/s\u001b[0m eta \u001b[36m0:00:00\u001b[0m\n",
            "\u001b[?25hDownloading numpy-1.26.4-cp311-cp311-manylinux_2_17_x86_64.manylinux2014_x86_64.whl (18.3 MB)\n",
            "\u001b[2K   \u001b[90m━━━━━━━━━━━━━━━━━━━━━━━━━━━━━━━━━━━━━━━━\u001b[0m \u001b[32m18.3/18.3 MB\u001b[0m \u001b[31m41.8 MB/s\u001b[0m eta \u001b[36m0:00:00\u001b[0m\n",
            "\u001b[?25hInstalling collected packages: numpy, langsmith, langchain\n",
            "  Attempting uninstall: numpy\n",
            "    Found existing installation: numpy 2.0.2\n",
            "    Uninstalling numpy-2.0.2:\n",
            "      Successfully uninstalled numpy-2.0.2\n",
            "  Attempting uninstall: langsmith\n",
            "    Found existing installation: langsmith 0.3.42\n",
            "    Uninstalling langsmith-0.3.42:\n",
            "      Successfully uninstalled langsmith-0.3.42\n",
            "  Attempting uninstall: langchain\n",
            "    Found existing installation: langchain 0.3.25\n",
            "    Uninstalling langchain-0.3.25:\n",
            "      Successfully uninstalled langchain-0.3.25\n",
            "\u001b[31mERROR: pip's dependency resolver does not currently take into account all the packages that are installed. This behaviour is the source of the following dependency conflicts.\n",
            "thinc 8.3.6 requires numpy<3.0.0,>=2.0.0, but you have numpy 1.26.4 which is incompatible.\u001b[0m\u001b[31m\n",
            "\u001b[0mSuccessfully installed langchain-0.3.11 langsmith-0.2.11 numpy-1.26.4\n",
            "Collecting langchain-openai==0.2.12\n",
            "  Downloading langchain_openai-0.2.12-py3-none-any.whl.metadata (2.7 kB)\n",
            "Requirement already satisfied: langchain-core<0.4.0,>=0.3.21 in /usr/local/lib/python3.11/dist-packages (from langchain-openai==0.2.12) (0.3.60)\n",
            "Requirement already satisfied: openai<2.0.0,>=1.55.3 in /usr/local/lib/python3.11/dist-packages (from langchain-openai==0.2.12) (1.81.0)\n",
            "Requirement already satisfied: tiktoken<1,>=0.7 in /usr/local/lib/python3.11/dist-packages (from langchain-openai==0.2.12) (0.9.0)\n",
            "Requirement already satisfied: langsmith<0.4,>=0.1.126 in /usr/local/lib/python3.11/dist-packages (from langchain-core<0.4.0,>=0.3.21->langchain-openai==0.2.12) (0.2.11)\n",
            "Requirement already satisfied: tenacity!=8.4.0,<10.0.0,>=8.1.0 in /usr/local/lib/python3.11/dist-packages (from langchain-core<0.4.0,>=0.3.21->langchain-openai==0.2.12) (9.1.2)\n",
            "Requirement already satisfied: jsonpatch<2.0,>=1.33 in /usr/local/lib/python3.11/dist-packages (from langchain-core<0.4.0,>=0.3.21->langchain-openai==0.2.12) (1.33)\n",
            "Requirement already satisfied: PyYAML>=5.3 in /usr/local/lib/python3.11/dist-packages (from langchain-core<0.4.0,>=0.3.21->langchain-openai==0.2.12) (6.0.2)\n",
            "Requirement already satisfied: packaging<25,>=23.2 in /usr/local/lib/python3.11/dist-packages (from langchain-core<0.4.0,>=0.3.21->langchain-openai==0.2.12) (24.2)\n",
            "Requirement already satisfied: typing-extensions>=4.7 in /usr/local/lib/python3.11/dist-packages (from langchain-core<0.4.0,>=0.3.21->langchain-openai==0.2.12) (4.13.2)\n",
            "Requirement already satisfied: pydantic>=2.7.4 in /usr/local/lib/python3.11/dist-packages (from langchain-core<0.4.0,>=0.3.21->langchain-openai==0.2.12) (2.11.4)\n",
            "Requirement already satisfied: anyio<5,>=3.5.0 in /usr/local/lib/python3.11/dist-packages (from openai<2.0.0,>=1.55.3->langchain-openai==0.2.12) (4.9.0)\n",
            "Requirement already satisfied: distro<2,>=1.7.0 in /usr/local/lib/python3.11/dist-packages (from openai<2.0.0,>=1.55.3->langchain-openai==0.2.12) (1.9.0)\n",
            "Requirement already satisfied: httpx<1,>=0.23.0 in /usr/local/lib/python3.11/dist-packages (from openai<2.0.0,>=1.55.3->langchain-openai==0.2.12) (0.28.1)\n",
            "Requirement already satisfied: jiter<1,>=0.4.0 in /usr/local/lib/python3.11/dist-packages (from openai<2.0.0,>=1.55.3->langchain-openai==0.2.12) (0.10.0)\n",
            "Requirement already satisfied: sniffio in /usr/local/lib/python3.11/dist-packages (from openai<2.0.0,>=1.55.3->langchain-openai==0.2.12) (1.3.1)\n",
            "Requirement already satisfied: tqdm>4 in /usr/local/lib/python3.11/dist-packages (from openai<2.0.0,>=1.55.3->langchain-openai==0.2.12) (4.67.1)\n",
            "Requirement already satisfied: regex>=2022.1.18 in /usr/local/lib/python3.11/dist-packages (from tiktoken<1,>=0.7->langchain-openai==0.2.12) (2024.11.6)\n",
            "Requirement already satisfied: requests>=2.26.0 in /usr/local/lib/python3.11/dist-packages (from tiktoken<1,>=0.7->langchain-openai==0.2.12) (2.32.3)\n",
            "Requirement already satisfied: idna>=2.8 in /usr/local/lib/python3.11/dist-packages (from anyio<5,>=3.5.0->openai<2.0.0,>=1.55.3->langchain-openai==0.2.12) (3.10)\n",
            "Requirement already satisfied: certifi in /usr/local/lib/python3.11/dist-packages (from httpx<1,>=0.23.0->openai<2.0.0,>=1.55.3->langchain-openai==0.2.12) (2025.4.26)\n",
            "Requirement already satisfied: httpcore==1.* in /usr/local/lib/python3.11/dist-packages (from httpx<1,>=0.23.0->openai<2.0.0,>=1.55.3->langchain-openai==0.2.12) (1.0.9)\n",
            "Requirement already satisfied: h11>=0.16 in /usr/local/lib/python3.11/dist-packages (from httpcore==1.*->httpx<1,>=0.23.0->openai<2.0.0,>=1.55.3->langchain-openai==0.2.12) (0.16.0)\n",
            "Requirement already satisfied: jsonpointer>=1.9 in /usr/local/lib/python3.11/dist-packages (from jsonpatch<2.0,>=1.33->langchain-core<0.4.0,>=0.3.21->langchain-openai==0.2.12) (3.0.0)\n",
            "Requirement already satisfied: orjson<4.0.0,>=3.9.14 in /usr/local/lib/python3.11/dist-packages (from langsmith<0.4,>=0.1.126->langchain-core<0.4.0,>=0.3.21->langchain-openai==0.2.12) (3.10.18)\n",
            "Requirement already satisfied: requests-toolbelt<2.0.0,>=1.0.0 in /usr/local/lib/python3.11/dist-packages (from langsmith<0.4,>=0.1.126->langchain-core<0.4.0,>=0.3.21->langchain-openai==0.2.12) (1.0.0)\n",
            "Requirement already satisfied: annotated-types>=0.6.0 in /usr/local/lib/python3.11/dist-packages (from pydantic>=2.7.4->langchain-core<0.4.0,>=0.3.21->langchain-openai==0.2.12) (0.7.0)\n",
            "Requirement already satisfied: pydantic-core==2.33.2 in /usr/local/lib/python3.11/dist-packages (from pydantic>=2.7.4->langchain-core<0.4.0,>=0.3.21->langchain-openai==0.2.12) (2.33.2)\n",
            "Requirement already satisfied: typing-inspection>=0.4.0 in /usr/local/lib/python3.11/dist-packages (from pydantic>=2.7.4->langchain-core<0.4.0,>=0.3.21->langchain-openai==0.2.12) (0.4.1)\n",
            "Requirement already satisfied: charset-normalizer<4,>=2 in /usr/local/lib/python3.11/dist-packages (from requests>=2.26.0->tiktoken<1,>=0.7->langchain-openai==0.2.12) (3.4.2)\n",
            "Requirement already satisfied: urllib3<3,>=1.21.1 in /usr/local/lib/python3.11/dist-packages (from requests>=2.26.0->tiktoken<1,>=0.7->langchain-openai==0.2.12) (2.4.0)\n",
            "Downloading langchain_openai-0.2.12-py3-none-any.whl (50 kB)\n",
            "\u001b[2K   \u001b[90m━━━━━━━━━━━━━━━━━━━━━━━━━━━━━━━━━━━━━━━━\u001b[0m \u001b[32m50.7/50.7 kB\u001b[0m \u001b[31m2.5 MB/s\u001b[0m eta \u001b[36m0:00:00\u001b[0m\n",
            "\u001b[?25hInstalling collected packages: langchain-openai\n",
            "Successfully installed langchain-openai-0.2.12\n",
            "Collecting langchain-community==0.3.11\n",
            "  Downloading langchain_community-0.3.11-py3-none-any.whl.metadata (2.9 kB)\n",
            "Requirement already satisfied: PyYAML>=5.3 in /usr/local/lib/python3.11/dist-packages (from langchain-community==0.3.11) (6.0.2)\n",
            "Requirement already satisfied: SQLAlchemy<3,>=1.4 in /usr/local/lib/python3.11/dist-packages (from langchain-community==0.3.11) (2.0.41)\n",
            "Requirement already satisfied: aiohttp<4.0.0,>=3.8.3 in /usr/local/lib/python3.11/dist-packages (from langchain-community==0.3.11) (3.11.15)\n",
            "Collecting dataclasses-json<0.7,>=0.5.7 (from langchain-community==0.3.11)\n",
            "  Downloading dataclasses_json-0.6.7-py3-none-any.whl.metadata (25 kB)\n",
            "Collecting httpx-sse<0.5.0,>=0.4.0 (from langchain-community==0.3.11)\n",
            "  Downloading httpx_sse-0.4.0-py3-none-any.whl.metadata (9.0 kB)\n",
            "Requirement already satisfied: langchain<0.4.0,>=0.3.11 in /usr/local/lib/python3.11/dist-packages (from langchain-community==0.3.11) (0.3.11)\n",
            "Requirement already satisfied: langchain-core<0.4.0,>=0.3.24 in /usr/local/lib/python3.11/dist-packages (from langchain-community==0.3.11) (0.3.60)\n",
            "Requirement already satisfied: langsmith<0.3,>=0.1.125 in /usr/local/lib/python3.11/dist-packages (from langchain-community==0.3.11) (0.2.11)\n",
            "Requirement already satisfied: numpy<2,>=1.22.4 in /usr/local/lib/python3.11/dist-packages (from langchain-community==0.3.11) (1.26.4)\n",
            "Collecting pydantic-settings<3.0.0,>=2.4.0 (from langchain-community==0.3.11)\n",
            "  Downloading pydantic_settings-2.9.1-py3-none-any.whl.metadata (3.8 kB)\n",
            "Requirement already satisfied: requests<3,>=2 in /usr/local/lib/python3.11/dist-packages (from langchain-community==0.3.11) (2.32.3)\n",
            "Requirement already satisfied: tenacity!=8.4.0,<10,>=8.1.0 in /usr/local/lib/python3.11/dist-packages (from langchain-community==0.3.11) (9.1.2)\n",
            "Requirement already satisfied: aiohappyeyeballs>=2.3.0 in /usr/local/lib/python3.11/dist-packages (from aiohttp<4.0.0,>=3.8.3->langchain-community==0.3.11) (2.6.1)\n",
            "Requirement already satisfied: aiosignal>=1.1.2 in /usr/local/lib/python3.11/dist-packages (from aiohttp<4.0.0,>=3.8.3->langchain-community==0.3.11) (1.3.2)\n",
            "Requirement already satisfied: attrs>=17.3.0 in /usr/local/lib/python3.11/dist-packages (from aiohttp<4.0.0,>=3.8.3->langchain-community==0.3.11) (25.3.0)\n",
            "Requirement already satisfied: frozenlist>=1.1.1 in /usr/local/lib/python3.11/dist-packages (from aiohttp<4.0.0,>=3.8.3->langchain-community==0.3.11) (1.6.0)\n",
            "Requirement already satisfied: multidict<7.0,>=4.5 in /usr/local/lib/python3.11/dist-packages (from aiohttp<4.0.0,>=3.8.3->langchain-community==0.3.11) (6.4.4)\n",
            "Requirement already satisfied: propcache>=0.2.0 in /usr/local/lib/python3.11/dist-packages (from aiohttp<4.0.0,>=3.8.3->langchain-community==0.3.11) (0.3.1)\n",
            "Requirement already satisfied: yarl<2.0,>=1.17.0 in /usr/local/lib/python3.11/dist-packages (from aiohttp<4.0.0,>=3.8.3->langchain-community==0.3.11) (1.20.0)\n",
            "Collecting marshmallow<4.0.0,>=3.18.0 (from dataclasses-json<0.7,>=0.5.7->langchain-community==0.3.11)\n",
            "  Downloading marshmallow-3.26.1-py3-none-any.whl.metadata (7.3 kB)\n",
            "Collecting typing-inspect<1,>=0.4.0 (from dataclasses-json<0.7,>=0.5.7->langchain-community==0.3.11)\n",
            "  Downloading typing_inspect-0.9.0-py3-none-any.whl.metadata (1.5 kB)\n",
            "Requirement already satisfied: langchain-text-splitters<0.4.0,>=0.3.0 in /usr/local/lib/python3.11/dist-packages (from langchain<0.4.0,>=0.3.11->langchain-community==0.3.11) (0.3.8)\n",
            "Requirement already satisfied: pydantic<3.0.0,>=2.7.4 in /usr/local/lib/python3.11/dist-packages (from langchain<0.4.0,>=0.3.11->langchain-community==0.3.11) (2.11.4)\n",
            "Requirement already satisfied: jsonpatch<2.0,>=1.33 in /usr/local/lib/python3.11/dist-packages (from langchain-core<0.4.0,>=0.3.24->langchain-community==0.3.11) (1.33)\n",
            "Requirement already satisfied: packaging<25,>=23.2 in /usr/local/lib/python3.11/dist-packages (from langchain-core<0.4.0,>=0.3.24->langchain-community==0.3.11) (24.2)\n",
            "Requirement already satisfied: typing-extensions>=4.7 in /usr/local/lib/python3.11/dist-packages (from langchain-core<0.4.0,>=0.3.24->langchain-community==0.3.11) (4.13.2)\n",
            "Requirement already satisfied: httpx<1,>=0.23.0 in /usr/local/lib/python3.11/dist-packages (from langsmith<0.3,>=0.1.125->langchain-community==0.3.11) (0.28.1)\n",
            "Requirement already satisfied: orjson<4.0.0,>=3.9.14 in /usr/local/lib/python3.11/dist-packages (from langsmith<0.3,>=0.1.125->langchain-community==0.3.11) (3.10.18)\n",
            "Requirement already satisfied: requests-toolbelt<2.0.0,>=1.0.0 in /usr/local/lib/python3.11/dist-packages (from langsmith<0.3,>=0.1.125->langchain-community==0.3.11) (1.0.0)\n",
            "Collecting python-dotenv>=0.21.0 (from pydantic-settings<3.0.0,>=2.4.0->langchain-community==0.3.11)\n",
            "  Downloading python_dotenv-1.1.0-py3-none-any.whl.metadata (24 kB)\n",
            "Requirement already satisfied: typing-inspection>=0.4.0 in /usr/local/lib/python3.11/dist-packages (from pydantic-settings<3.0.0,>=2.4.0->langchain-community==0.3.11) (0.4.1)\n",
            "Requirement already satisfied: charset-normalizer<4,>=2 in /usr/local/lib/python3.11/dist-packages (from requests<3,>=2->langchain-community==0.3.11) (3.4.2)\n",
            "Requirement already satisfied: idna<4,>=2.5 in /usr/local/lib/python3.11/dist-packages (from requests<3,>=2->langchain-community==0.3.11) (3.10)\n",
            "Requirement already satisfied: urllib3<3,>=1.21.1 in /usr/local/lib/python3.11/dist-packages (from requests<3,>=2->langchain-community==0.3.11) (2.4.0)\n",
            "Requirement already satisfied: certifi>=2017.4.17 in /usr/local/lib/python3.11/dist-packages (from requests<3,>=2->langchain-community==0.3.11) (2025.4.26)\n",
            "Requirement already satisfied: greenlet>=1 in /usr/local/lib/python3.11/dist-packages (from SQLAlchemy<3,>=1.4->langchain-community==0.3.11) (3.2.2)\n",
            "Requirement already satisfied: anyio in /usr/local/lib/python3.11/dist-packages (from httpx<1,>=0.23.0->langsmith<0.3,>=0.1.125->langchain-community==0.3.11) (4.9.0)\n",
            "Requirement already satisfied: httpcore==1.* in /usr/local/lib/python3.11/dist-packages (from httpx<1,>=0.23.0->langsmith<0.3,>=0.1.125->langchain-community==0.3.11) (1.0.9)\n",
            "Requirement already satisfied: h11>=0.16 in /usr/local/lib/python3.11/dist-packages (from httpcore==1.*->httpx<1,>=0.23.0->langsmith<0.3,>=0.1.125->langchain-community==0.3.11) (0.16.0)\n",
            "Requirement already satisfied: jsonpointer>=1.9 in /usr/local/lib/python3.11/dist-packages (from jsonpatch<2.0,>=1.33->langchain-core<0.4.0,>=0.3.24->langchain-community==0.3.11) (3.0.0)\n",
            "Requirement already satisfied: annotated-types>=0.6.0 in /usr/local/lib/python3.11/dist-packages (from pydantic<3.0.0,>=2.7.4->langchain<0.4.0,>=0.3.11->langchain-community==0.3.11) (0.7.0)\n",
            "Requirement already satisfied: pydantic-core==2.33.2 in /usr/local/lib/python3.11/dist-packages (from pydantic<3.0.0,>=2.7.4->langchain<0.4.0,>=0.3.11->langchain-community==0.3.11) (2.33.2)\n",
            "Collecting mypy-extensions>=0.3.0 (from typing-inspect<1,>=0.4.0->dataclasses-json<0.7,>=0.5.7->langchain-community==0.3.11)\n",
            "  Downloading mypy_extensions-1.1.0-py3-none-any.whl.metadata (1.1 kB)\n",
            "Requirement already satisfied: sniffio>=1.1 in /usr/local/lib/python3.11/dist-packages (from anyio->httpx<1,>=0.23.0->langsmith<0.3,>=0.1.125->langchain-community==0.3.11) (1.3.1)\n",
            "Downloading langchain_community-0.3.11-py3-none-any.whl (2.5 MB)\n",
            "\u001b[2K   \u001b[90m━━━━━━━━━━━━━━━━━━━━━━━━━━━━━━━━━━━━━━━━\u001b[0m \u001b[32m2.5/2.5 MB\u001b[0m \u001b[31m28.0 MB/s\u001b[0m eta \u001b[36m0:00:00\u001b[0m\n",
            "\u001b[?25hDownloading dataclasses_json-0.6.7-py3-none-any.whl (28 kB)\n",
            "Downloading httpx_sse-0.4.0-py3-none-any.whl (7.8 kB)\n",
            "Downloading pydantic_settings-2.9.1-py3-none-any.whl (44 kB)\n",
            "\u001b[2K   \u001b[90m━━━━━━━━━━━━━━━━━━━━━━━━━━━━━━━━━━━━━━━━\u001b[0m \u001b[32m44.4/44.4 kB\u001b[0m \u001b[31m2.5 MB/s\u001b[0m eta \u001b[36m0:00:00\u001b[0m\n",
            "\u001b[?25hDownloading marshmallow-3.26.1-py3-none-any.whl (50 kB)\n",
            "\u001b[2K   \u001b[90m━━━━━━━━━━━━━━━━━━━━━━━━━━━━━━━━━━━━━━━━\u001b[0m \u001b[32m50.9/50.9 kB\u001b[0m \u001b[31m3.2 MB/s\u001b[0m eta \u001b[36m0:00:00\u001b[0m\n",
            "\u001b[?25hDownloading python_dotenv-1.1.0-py3-none-any.whl (20 kB)\n",
            "Downloading typing_inspect-0.9.0-py3-none-any.whl (8.8 kB)\n",
            "Downloading mypy_extensions-1.1.0-py3-none-any.whl (5.0 kB)\n",
            "Installing collected packages: python-dotenv, mypy-extensions, marshmallow, httpx-sse, typing-inspect, pydantic-settings, dataclasses-json, langchain-community\n",
            "Successfully installed dataclasses-json-0.6.7 httpx-sse-0.4.0 langchain-community-0.3.11 marshmallow-3.26.1 mypy-extensions-1.1.0 pydantic-settings-2.9.1 python-dotenv-1.1.0 typing-inspect-0.9.0\n"
          ]
        }
      ],
      "source": [
        "!pip install langchain==0.3.11\n",
        "!pip install langchain-openai==0.2.12\n",
        "!pip install langchain-community==0.3.11"
      ]
    },
    {
      "cell_type": "markdown",
      "metadata": {
        "id": "PtBa7rlWJWH3"
      },
      "source": [
        "## Enter API Tokens"
      ]
    },
    {
      "cell_type": "markdown",
      "metadata": {
        "id": "Y6RD7As2sm8G"
      },
      "source": [
        "#### Enter your Open AI Key here\n",
        "\n",
        "You can get the key from [here](https://platform.openai.com/api-keys) after creating an account or signing in"
      ]
    },
    {
      "cell_type": "code",
      "execution_count": 2,
      "metadata": {
        "id": "cKlax-updNW-"
      },
      "outputs": [],
      "source": [
        "from google.colab import userdata\n",
        "import os\n",
        "\n",
        "os.environ['HUGGINGFACEHUB_API_TOKEN'] = userdata.get('HF_TOKEN')\n",
        "os.environ['OPENAI_API_KEY'] = userdata.get('OPENAI_API_KEY')"
      ]
    },
    {
      "cell_type": "markdown",
      "metadata": {
        "id": "_4h0xywyJ3v7"
      },
      "source": [
        "## Chat Models and LLMs\n",
        "\n",
        "Large Language Models (LLMs) are a core component of LangChain. LangChain does not implement or build its own LLMs. It provides a standard API for interacting with almost every LLM out there.\n",
        "\n",
        "There are lots of LLM providers (OpenAI, Hugging Face, etc) - the LLM class is designed to provide a standard interface for all of them."
      ]
    },
    {
      "cell_type": "markdown",
      "metadata": {
        "id": "cSdF6_R7J45Z"
      },
      "source": [
        "## Accessing Commercial LLMs like ChatGPT"
      ]
    },
    {
      "cell_type": "code",
      "execution_count": 3,
      "metadata": {
        "id": "v8nnrOGxZ2uZ"
      },
      "outputs": [],
      "source": [
        "from langchain_openai import ChatOpenAI\n",
        "\n",
        "chatgpt = ChatOpenAI(model_name=\"gpt-4o-mini\", temperature=0)"
      ]
    },
    {
      "cell_type": "markdown",
      "metadata": {
        "id": "8i8KIVTwnD6Y"
      },
      "source": [
        "## Prompt Templates\n",
        "Prompt templates are pre-designed formats used to generate prompts for language models. These templates can include instructions, few-shot examples, and specific contexts and questions suited for particular tasks.\n",
        "\n",
        "LangChain provides tools for creating and using prompt templates. It aims to develop model-agnostic templates to facilitate the reuse of existing templates across different language models. Typically, these models expect prompts in the form of either a string or a list of chat messages.\n",
        "\n",
        "### Types of Prompt Templates\n",
        "\n",
        "- **PromptTemplate:**\n",
        "  - Used for creating string-based prompts.\n",
        "  - Utilizes Python's `str.format` syntax for templating, supporting any number of variables, including scenarios with no variables.\n",
        "\n",
        "- **ChatPromptTemplate:**\n",
        "  - Designed for chat models, where the prompt consists of a list of chat messages.\n",
        "  - Each chat message includes content and a role parameter. For instance, in the OpenAI Chat Completions API, a chat message could be assigned to an AI assistant, a human, or a system role.\n",
        "- **FewShotChatMessagePromptTemplate**\n",
        "  - A few-shot prompt template can be constructed from a set of examples\n"
      ]
    },
    {
      "cell_type": "markdown",
      "metadata": {
        "id": "7Oh9UiTNqaPf"
      },
      "source": [
        "### PromptTemplate\n",
        "\n",
        "We can use `PromptTemplate` to create a template for a string prompt.\n",
        "\n",
        "By default, `PromptTemplate` uses Python's `str.format` syntax for templating.\n",
        "\n",
        "We can create custom prompt templates that format the prompt in any way we want. For more information, see [Prompt Template Composition](https://python.langchain.com/v0.1/docs/modules/model_io/prompts/composition/)."
      ]
    },
    {
      "cell_type": "code",
      "execution_count": 4,
      "metadata": {
        "colab": {
          "base_uri": "https://localhost:8080/"
        },
        "id": "xoUCbb4FkaIW",
        "outputId": "63a6321d-c193-423f-8198-c201addd39c3"
      },
      "outputs": [
        {
          "output_type": "execute_result",
          "data": {
            "text/plain": [
              "PromptTemplate(input_variables=[], input_types={}, partial_variables={}, template='Explain to me what is Generative AI in 3 bullet points?')"
            ]
          },
          "metadata": {},
          "execution_count": 4
        }
      ],
      "source": [
        "from langchain.prompts import PromptTemplate\n",
        "\n",
        "# Simple prompt\n",
        "\n",
        "prompt = \"\"\"Explain to me what is Generative AI in 3 bullet points?\"\"\"\n",
        "prompt_template = PromptTemplate.from_template(prompt)\n",
        "prompt_template"
      ]
    },
    {
      "cell_type": "code",
      "execution_count": 5,
      "metadata": {
        "colab": {
          "base_uri": "https://localhost:8080/",
          "height": 35
        },
        "id": "nPNs1Efsn2Zf",
        "outputId": "43817d48-d559-4975-ec67-ba6c5b8374ce"
      },
      "outputs": [
        {
          "output_type": "execute_result",
          "data": {
            "text/plain": [
              "'Explain to me what is Generative AI in 3 bullet points?'"
            ],
            "application/vnd.google.colaboratory.intrinsic+json": {
              "type": "string"
            }
          },
          "metadata": {},
          "execution_count": 5
        }
      ],
      "source": [
        "prompt_template.format()"
      ]
    },
    {
      "cell_type": "code",
      "execution_count": 6,
      "metadata": {
        "colab": {
          "base_uri": "https://localhost:8080/"
        },
        "id": "iM5oNvXpnSq7",
        "outputId": "53c072b8-6c77-4d58-d65d-bd1ea21f7b39"
      },
      "outputs": [
        {
          "output_type": "stream",
          "name": "stdout",
          "text": [
            "- **Definition**: Generative AI refers to a class of artificial intelligence models that can create new content, such as text, images, music, or videos, by learning patterns and structures from existing data.\n",
            "\n",
            "- **Techniques**: It often employs advanced techniques like deep learning, particularly neural networks such as Generative Adversarial Networks (GANs) and transformer models, to generate high-quality and coherent outputs.\n",
            "\n",
            "- **Applications**: Generative AI is used in various fields, including creative arts (e.g., art and music generation), natural language processing (e.g., chatbots and content creation), and even in scientific research for drug discovery and simulation of complex systems.\n"
          ]
        }
      ],
      "source": [
        "response = chatgpt.invoke(prompt_template.format())\n",
        "print(response.content)"
      ]
    },
    {
      "cell_type": "code",
      "execution_count": 7,
      "metadata": {
        "colab": {
          "base_uri": "https://localhost:8080/"
        },
        "id": "2VTvciVcnajD",
        "outputId": "c5b0468f-838a-4426-8aa0-583bd9468109"
      },
      "outputs": [
        {
          "output_type": "execute_result",
          "data": {
            "text/plain": [
              "PromptTemplate(input_variables=['language', 'topic'], input_types={}, partial_variables={}, template='Explain to me briefly about {topic} in {language}.')"
            ]
          },
          "metadata": {},
          "execution_count": 7
        }
      ],
      "source": [
        "# more complex prompt with placeholders\n",
        "prompt = \"\"\"Explain to me briefly about {topic} in {language}.\"\"\"\n",
        "\n",
        "prompt_template = PromptTemplate.from_template(prompt)\n",
        "prompt_template"
      ]
    },
    {
      "cell_type": "code",
      "execution_count": 8,
      "metadata": {
        "colab": {
          "base_uri": "https://localhost:8080/"
        },
        "id": "FyXhUhbapZ7T",
        "outputId": "a5436597-734f-4aae-fd36-8111a192c4ee"
      },
      "outputs": [
        {
          "output_type": "execute_result",
          "data": {
            "text/plain": [
              "['Explain to me briefly about Generative AI in english.',\n",
              " 'Explain to me briefly about Artificial Intelligence in hindi.',\n",
              " 'Explain to me briefly about Deep Learning in german.']"
            ]
          },
          "metadata": {},
          "execution_count": 8
        }
      ],
      "source": [
        "inputs = [(\"Generative AI\", \"english\"),\n",
        "          (\"Artificial Intelligence\", \"hindi\"),\n",
        "          (\"Deep Learning\", \"german\")]\n",
        "\n",
        "prompts = [prompt_template.format(topic=topic, language=language) for topic, language in inputs]\n",
        "prompts"
      ]
    },
    {
      "cell_type": "code",
      "execution_count": 9,
      "metadata": {
        "id": "edPyCf_Aps9Q"
      },
      "outputs": [],
      "source": [
        "# use map to run on multiple prompts in one go\n",
        "responses = chatgpt.map().invoke(prompts)"
      ]
    },
    {
      "cell_type": "code",
      "execution_count": 10,
      "metadata": {
        "colab": {
          "base_uri": "https://localhost:8080/"
        },
        "id": "wZ8cDck4ck_g",
        "outputId": "a625eb35-8011-4149-bc7c-184fa1287d29"
      },
      "outputs": [
        {
          "output_type": "execute_result",
          "data": {
            "text/plain": [
              "[AIMessage(content='Generative AI refers to a class of artificial intelligence models that can create new content, such as text, images, music, or even videos, based on the data they have been trained on. These models learn patterns and structures from existing data and use that knowledge to generate original outputs that resemble the training data. Examples of generative AI include language models like GPT-3, which can write essays or answer questions, and image generation models like DALL-E, which can create images from textual descriptions. Generative AI has applications in various fields, including art, entertainment, marketing, and more, but it also raises ethical considerations regarding authenticity and copyright.', additional_kwargs={'refusal': None}, response_metadata={'token_usage': {'completion_tokens': 130, 'prompt_tokens': 18, 'total_tokens': 148, 'completion_tokens_details': {'accepted_prediction_tokens': 0, 'audio_tokens': 0, 'reasoning_tokens': 0, 'rejected_prediction_tokens': 0}, 'prompt_tokens_details': {'audio_tokens': 0, 'cached_tokens': 0}}, 'model_name': 'gpt-4o-mini-2024-07-18', 'system_fingerprint': 'fp_34a54ae93c', 'finish_reason': 'stop', 'logprobs': None}, id='run--9c9adea0-8b86-422c-a674-6717ee257af0-0', usage_metadata={'input_tokens': 18, 'output_tokens': 130, 'total_tokens': 148, 'input_token_details': {'audio': 0, 'cache_read': 0}, 'output_token_details': {'audio': 0, 'reasoning': 0}}),\n",
              " AIMessage(content='कृत्रिम बुद्धिमत्ता (Artificial Intelligence या AI) एक तकनीक है जो मशीनों और कंप्यूटरों को मानव जैसी बुद्धिमत्ता और सोचने की क्षमता प्रदान करती है। इसका उद्देश्य मशीनों को ऐसे कार्य करने में सक्षम बनाना है जो सामान्यतः मानव बुद्धि की आवश्यकता होती है, जैसे कि समस्या समाधान, निर्णय लेना, भाषा समझना, और सीखना।\\n\\nAI के विभिन्न प्रकार हैं, जैसे कि:\\n\\n1. **नैरो AI (Narrow AI)**: यह विशेष कार्यों के लिए डिज़ाइन किया गया है, जैसे कि वॉयस असिस्टेंट (जैसे कि सिरी या एलेक्सा) या छवि पहचान।\\n\\n2. **जनरल AI (General AI)**: यह मानव जैसी बुद्धिमत्ता को दर्शाता है, जो विभिन्न कार्यों को समझने और करने में सक्षम है। यह अभी तक पूरी तरह से विकसित नहीं हुआ है।\\n\\nAI का उपयोग कई क्षेत्रों में किया जा रहा है, जैसे कि स्वास्थ्य, वित्त, परिवहन, और मनोरंजन। यह तकनीक हमारे जीवन को सरल और अधिक प्रभावी बनाने में मदद कर रही है।', additional_kwargs={'refusal': None}, response_metadata={'token_usage': {'completion_tokens': 228, 'prompt_tokens': 17, 'total_tokens': 245, 'completion_tokens_details': {'accepted_prediction_tokens': 0, 'audio_tokens': 0, 'reasoning_tokens': 0, 'rejected_prediction_tokens': 0}, 'prompt_tokens_details': {'audio_tokens': 0, 'cached_tokens': 0}}, 'model_name': 'gpt-4o-mini-2024-07-18', 'system_fingerprint': 'fp_54eb4bd693', 'finish_reason': 'stop', 'logprobs': None}, id='run--120de7e5-b9ad-4274-bb78-210103f241cf-0', usage_metadata={'input_tokens': 17, 'output_tokens': 228, 'total_tokens': 245, 'input_token_details': {'audio': 0, 'cache_read': 0}, 'output_token_details': {'audio': 0, 'reasoning': 0}}),\n",
              " AIMessage(content='Deep Learning ist ein Teilbereich des maschinellen Lernens, der auf künstlichen neuronalen Netzen basiert. Es ermöglicht Computern, aus großen Datenmengen zu lernen und komplexe Muster zu erkennen. Deep Learning wird häufig in Anwendungen wie Bild- und Spracherkennung, natürlicher Sprachverarbeitung und autonomen Fahrzeugen eingesetzt. Durch die Verwendung mehrerer Schichten von Neuronen kann das Modell hierarchische Merkmale aus den Daten extrahieren, was zu einer hohen Genauigkeit bei der Vorhersage und Klassifizierung führt.', additional_kwargs={'refusal': None}, response_metadata={'token_usage': {'completion_tokens': 111, 'prompt_tokens': 17, 'total_tokens': 128, 'completion_tokens_details': {'accepted_prediction_tokens': 0, 'audio_tokens': 0, 'reasoning_tokens': 0, 'rejected_prediction_tokens': 0}, 'prompt_tokens_details': {'audio_tokens': 0, 'cached_tokens': 0}}, 'model_name': 'gpt-4o-mini-2024-07-18', 'system_fingerprint': 'fp_34a54ae93c', 'finish_reason': 'stop', 'logprobs': None}, id='run--db5e9501-afc1-4a54-b564-71fb2dcce184-0', usage_metadata={'input_tokens': 17, 'output_tokens': 111, 'total_tokens': 128, 'input_token_details': {'audio': 0, 'cache_read': 0}, 'output_token_details': {'audio': 0, 'reasoning': 0}})]"
            ]
          },
          "metadata": {},
          "execution_count": 10
        }
      ],
      "source": [
        "responses"
      ]
    },
    {
      "cell_type": "code",
      "execution_count": 11,
      "metadata": {
        "colab": {
          "base_uri": "https://localhost:8080/"
        },
        "id": "tRWUf9eTqEMU",
        "outputId": "2f21a4ce-5f49-4b7a-8718-9c41b459575c"
      },
      "outputs": [
        {
          "output_type": "stream",
          "name": "stdout",
          "text": [
            "Generative AI refers to a class of artificial intelligence models that can create new content, such as text, images, music, or even videos, based on the data they have been trained on. These models learn patterns and structures from existing data and use that knowledge to generate original outputs that resemble the training data. Examples of generative AI include language models like GPT-3, which can write essays or answer questions, and image generation models like DALL-E, which can create images from textual descriptions. Generative AI has applications in various fields, including art, entertainment, marketing, and more, but it also raises ethical considerations regarding authenticity and copyright.\n",
            "-----\n",
            "कृत्रिम बुद्धिमत्ता (Artificial Intelligence या AI) एक तकनीक है जो मशीनों और कंप्यूटरों को मानव जैसी बुद्धिमत्ता और सोचने की क्षमता प्रदान करती है। इसका उद्देश्य मशीनों को ऐसे कार्य करने में सक्षम बनाना है जो सामान्यतः मानव बुद्धि की आवश्यकता होती है, जैसे कि समस्या समाधान, निर्णय लेना, भाषा समझना, और सीखना।\n",
            "\n",
            "AI के विभिन्न प्रकार हैं, जैसे कि:\n",
            "\n",
            "1. **नैरो AI (Narrow AI)**: यह विशेष कार्यों के लिए डिज़ाइन किया गया है, जैसे कि वॉयस असिस्टेंट (जैसे कि सिरी या एलेक्सा) या छवि पहचान।\n",
            "\n",
            "2. **जनरल AI (General AI)**: यह मानव जैसी बुद्धिमत्ता को दर्शाता है, जो विभिन्न कार्यों को समझने और करने में सक्षम है। यह अभी तक पूरी तरह से विकसित नहीं हुआ है।\n",
            "\n",
            "AI का उपयोग कई क्षेत्रों में किया जा रहा है, जैसे कि स्वास्थ्य, वित्त, परिवहन, और मनोरंजन। यह तकनीक हमारे जीवन को सरल और अधिक प्रभावी बनाने में मदद कर रही है।\n",
            "-----\n",
            "Deep Learning ist ein Teilbereich des maschinellen Lernens, der auf künstlichen neuronalen Netzen basiert. Es ermöglicht Computern, aus großen Datenmengen zu lernen und komplexe Muster zu erkennen. Deep Learning wird häufig in Anwendungen wie Bild- und Spracherkennung, natürlicher Sprachverarbeitung und autonomen Fahrzeugen eingesetzt. Durch die Verwendung mehrerer Schichten von Neuronen kann das Modell hierarchische Merkmale aus den Daten extrahieren, was zu einer hohen Genauigkeit bei der Vorhersage und Klassifizierung führt.\n",
            "-----\n"
          ]
        }
      ],
      "source": [
        "for response in responses:\n",
        "  print(response.content)\n",
        "  print('-----')"
      ]
    },
    {
      "cell_type": "markdown",
      "metadata": {
        "id": "VAGmjR-tqfmV"
      },
      "source": [
        "### ChatPromptTemplate\n",
        "\n",
        "The standard prompt format to [chat models](https://python.langchain.com/v0.1/docs/modules/model_io/chat/) is a list of [chat messages](https://python.langchain.com/v0.1/docs/modules/model_io/chat/message_types/).\n",
        "\n",
        "Each chat message is associated with content, and an additional parameter called `role`. For example, in the OpenAI Chat Completions API, a chat message can be associated with an AI assistant, a human or a system role."
      ]
    },
    {
      "cell_type": "code",
      "execution_count": 12,
      "metadata": {
        "colab": {
          "base_uri": "https://localhost:8080/"
        },
        "id": "tawdWLueqHG6",
        "outputId": "46d2fdca-fa5a-4822-f835-781126463a1f"
      },
      "outputs": [
        {
          "output_type": "execute_result",
          "data": {
            "text/plain": [
              "ChatPromptTemplate(input_variables=['topic'], input_types={}, partial_variables={}, messages=[HumanMessagePromptTemplate(prompt=PromptTemplate(input_variables=['topic'], input_types={}, partial_variables={}, template='Explain to me briefly about {topic}.'), additional_kwargs={})])"
            ]
          },
          "metadata": {},
          "execution_count": 12
        }
      ],
      "source": [
        "from langchain_core.prompts import ChatPromptTemplate\n",
        "\n",
        "# simple prompt with placeholders\n",
        "prompt = \"\"\"Explain to me briefly about {topic}.\"\"\"\n",
        "\n",
        "chat_template = ChatPromptTemplate.from_template(prompt)\n",
        "chat_template"
      ]
    },
    {
      "cell_type": "code",
      "execution_count": 13,
      "metadata": {
        "colab": {
          "base_uri": "https://localhost:8080/"
        },
        "id": "Hr0sC7xHqxOp",
        "outputId": "f042df74-45b3-42b0-9a16-2079d5c6b6b7"
      },
      "outputs": [
        {
          "output_type": "execute_result",
          "data": {
            "text/plain": [
              "['Human: Explain to me briefly about mortgage.',\n",
              " 'Human: Explain to me briefly about fractional real estate.',\n",
              " 'Human: Explain to me briefly about commercial real estate.']"
            ]
          },
          "metadata": {},
          "execution_count": 13
        }
      ],
      "source": [
        "topics = ['mortgage', 'fractional real estate', 'commercial real estate']\n",
        "prompts = [chat_template.format(topic=topic) for topic in topics]\n",
        "prompts"
      ]
    },
    {
      "cell_type": "code",
      "execution_count": 14,
      "metadata": {
        "colab": {
          "base_uri": "https://localhost:8080/"
        },
        "id": "cU9YObv9rY4P",
        "outputId": "1bfab41d-f9cc-4f87-a4ba-17e261e04a9f"
      },
      "outputs": [
        {
          "output_type": "stream",
          "name": "stdout",
          "text": [
            "A mortgage is a type of loan specifically used to purchase real estate. In a mortgage agreement, the borrower receives funds from a lender (usually a bank or financial institution) to buy a home or property. The borrower agrees to repay the loan amount, plus interest, over a specified period, typically 15 to 30 years. The property itself serves as collateral, meaning if the borrower fails to make payments, the lender can take possession of the property through a process called foreclosure. Mortgages often come with various terms, including fixed or adjustable interest rates, and may require a down payment.\n",
            "-----\n",
            "Fractional real estate refers to a model of property ownership where multiple investors share ownership of a single property. This approach allows individuals to invest in real estate without having to purchase an entire property on their own, making it more accessible and affordable. Each owner holds a fraction of the property, which entitles them to a proportional share of the income generated (such as rental income) and any appreciation in value. Fractional ownership can be structured in various ways, including through limited liability companies (LLCs) or real estate investment trusts (REITs), and is often used for vacation homes, commercial properties, or luxury real estate. This model can provide diversification and lower risk for investors while also allowing for shared use of the property.\n",
            "-----\n",
            "Commercial real estate (CRE) refers to properties that are used for business purposes rather than residential living. This category includes various types of properties, such as office buildings, retail spaces, industrial warehouses, hotels, and multifamily housing (like apartment complexes). \n",
            "\n",
            "Investing in commercial real estate can provide income through leasing space to tenants and potential appreciation in property value over time. CRE transactions typically involve larger sums of money and longer lease terms compared to residential real estate, and they often require a deeper understanding of market dynamics, zoning laws, and property management. \n",
            "\n",
            "Overall, commercial real estate plays a crucial role in the economy by providing spaces for businesses to operate and grow.\n",
            "-----\n"
          ]
        }
      ],
      "source": [
        "responses = chatgpt.map().invoke(prompts)\n",
        "for response in responses:\n",
        "  print(response.content)\n",
        "  print('-----')"
      ]
    },
    {
      "cell_type": "code",
      "execution_count": 15,
      "metadata": {
        "colab": {
          "base_uri": "https://localhost:8080/"
        },
        "id": "8NHhUa48rm_g",
        "outputId": "8868f1d5-ccc5-42fd-9710-0484f6d27975"
      },
      "outputs": [
        {
          "output_type": "execute_result",
          "data": {
            "text/plain": [
              "AIMessage(content='A mortgage is a type of loan specifically used to purchase real estate. In a mortgage agreement, the borrower receives funds from a lender (usually a bank or financial institution) to buy a home or property. The borrower agrees to repay the loan amount, plus interest, over a specified period, typically 15 to 30 years. The property itself serves as collateral, meaning if the borrower fails to make payments, the lender can take possession of the property through a process called foreclosure. Mortgages often come with various terms, including fixed or adjustable interest rates, and may require a down payment.', additional_kwargs={'refusal': None}, response_metadata={'token_usage': {'completion_tokens': 118, 'prompt_tokens': 16, 'total_tokens': 134, 'completion_tokens_details': {'accepted_prediction_tokens': 0, 'audio_tokens': 0, 'reasoning_tokens': 0, 'rejected_prediction_tokens': 0}, 'prompt_tokens_details': {'audio_tokens': 0, 'cached_tokens': 0}}, 'model_name': 'gpt-4o-mini-2024-07-18', 'system_fingerprint': 'fp_34a54ae93c', 'finish_reason': 'stop', 'logprobs': None}, id='run--736d83ef-a21a-4ff9-b1d3-53fb69c14cc3-0', usage_metadata={'input_tokens': 16, 'output_tokens': 118, 'total_tokens': 134, 'input_token_details': {'audio': 0, 'cache_read': 0}, 'output_token_details': {'audio': 0, 'reasoning': 0}})"
            ]
          },
          "metadata": {},
          "execution_count": 15
        }
      ],
      "source": [
        "responses[0]"
      ]
    },
    {
      "cell_type": "code",
      "execution_count": 16,
      "metadata": {
        "colab": {
          "base_uri": "https://localhost:8080/"
        },
        "id": "1PSkafcfsme2",
        "outputId": "29dbe9db-3ef0-4c31-8c37-919db4a408a2"
      },
      "outputs": [
        {
          "output_type": "execute_result",
          "data": {
            "text/plain": [
              "ChatPromptTemplate(input_variables=['user_prompt'], input_types={}, partial_variables={}, messages=[SystemMessagePromptTemplate(prompt=PromptTemplate(input_variables=[], input_types={}, partial_variables={}, template='Act as an expert in real estate and provide brief answers'), additional_kwargs={}), HumanMessagePromptTemplate(prompt=PromptTemplate(input_variables=[], input_types={}, partial_variables={}, template='what is your name?'), additional_kwargs={}), AIMessagePromptTemplate(prompt=PromptTemplate(input_variables=[], input_types={}, partial_variables={}, template='my name is AIBot'), additional_kwargs={}), HumanMessagePromptTemplate(prompt=PromptTemplate(input_variables=['user_prompt'], input_types={}, partial_variables={}, template='{user_prompt}'), additional_kwargs={})])"
            ]
          },
          "metadata": {},
          "execution_count": 16
        }
      ],
      "source": [
        "# more complex prompt with a series of messages\n",
        "messages = [\n",
        "        (\"system\", \"Act as an expert in real estate and provide brief answers\"),\n",
        "        (\"human\", \"what is your name?\"),\n",
        "        (\"ai\", \"my name is AIBot\"),\n",
        "        (\"human\", \"{user_prompt}\"),\n",
        "]\n",
        "chat_template = ChatPromptTemplate.from_messages(messages)\n",
        "chat_template"
      ]
    },
    {
      "cell_type": "code",
      "execution_count": 17,
      "metadata": {
        "colab": {
          "base_uri": "https://localhost:8080/"
        },
        "id": "N5ncYrVVtUWU",
        "outputId": "976c10bf-2c86-4cbf-a833-31322880c149"
      },
      "outputs": [
        {
          "output_type": "execute_result",
          "data": {
            "text/plain": [
              "['System: Act as an expert in real estate and provide brief answers\\nHuman: what is your name?\\nAI: my name is AIBot\\nHuman: what is your name?',\n",
              " 'System: Act as an expert in real estate and provide brief answers\\nHuman: what is your name?\\nAI: my name is AIBot\\nHuman: explain commercial real estate to me']"
            ]
          },
          "metadata": {},
          "execution_count": 17
        }
      ],
      "source": [
        "text_prompts = [\"what is your name?\",\n",
        "                \"explain commercial real estate to me\"]\n",
        "chat_prompts = [chat_template.format(user_prompt=prompt) for prompt in text_prompts]\n",
        "chat_prompts"
      ]
    },
    {
      "cell_type": "code",
      "execution_count": 18,
      "metadata": {
        "colab": {
          "base_uri": "https://localhost:8080/"
        },
        "id": "vQd1Bk_Td2mM",
        "outputId": "7dccfa11-8c34-4126-e6b4-fb134be065ef"
      },
      "outputs": [
        {
          "output_type": "stream",
          "name": "stdout",
          "text": [
            "System: Act as an expert in real estate and provide brief answers\n",
            "Human: what is your name?\n",
            "AI: my name is AIBot\n",
            "Human: what is your name?\n"
          ]
        }
      ],
      "source": [
        "print(chat_prompts[0])"
      ]
    },
    {
      "cell_type": "code",
      "execution_count": 19,
      "metadata": {
        "colab": {
          "base_uri": "https://localhost:8080/"
        },
        "id": "xQnrzTfj59gv",
        "outputId": "7be34e3d-232f-45b7-defe-6a4df141c430"
      },
      "outputs": [
        {
          "output_type": "stream",
          "name": "stdout",
          "text": [
            "System: Act as an expert in real estate and provide brief answers\n",
            "Human: what is your name?\n",
            "AI: my name is AIBot\n",
            "Human: explain commercial real estate to me\n"
          ]
        }
      ],
      "source": [
        "print(chat_prompts[1])"
      ]
    },
    {
      "cell_type": "code",
      "execution_count": 20,
      "metadata": {
        "colab": {
          "base_uri": "https://localhost:8080/"
        },
        "id": "73R370WTuAIR",
        "outputId": "a265e22b-68aa-4d52-969c-26845cf541b2"
      },
      "outputs": [
        {
          "output_type": "stream",
          "name": "stdout",
          "text": [
            "AI: I am AIBot, your real estate expert. How can I assist you today?\n",
            "-----\n",
            "Commercial real estate (CRE) refers to properties used for business purposes, including office buildings, retail spaces, warehouses, and industrial properties. Unlike residential real estate, which is primarily for living, CRE is intended to generate profit through rental income or capital appreciation. It often involves longer lease terms and can be more complex in terms of financing and management.\n",
            "-----\n"
          ]
        }
      ],
      "source": [
        "responses = chatgpt.map().invoke(chat_prompts)\n",
        "for response in responses:\n",
        "  print(response.content)\n",
        "  print('-----')"
      ]
    },
    {
      "cell_type": "code",
      "execution_count": 21,
      "metadata": {
        "colab": {
          "base_uri": "https://localhost:8080/"
        },
        "id": "qQJP-Q6SuLmV",
        "outputId": "e4022094-d141-4ab5-9242-14b4fc1296b4"
      },
      "outputs": [
        {
          "output_type": "execute_result",
          "data": {
            "text/plain": [
              "['System: Act as an expert in real estate and provide very detailed answers with examples\\nHuman: what is your name?\\nAI: my name is AIBot\\nHuman: what is your name?',\n",
              " 'System: Act as an expert in real estate and provide very detailed answers with examples\\nHuman: what is your name?\\nAI: my name is AIBot\\nHuman: explain commercial real estate to me']"
            ]
          },
          "metadata": {},
          "execution_count": 21
        }
      ],
      "source": [
        "messages = [\n",
        "        (\"system\", \"Act as an expert in real estate and provide very detailed answers with examples\"),\n",
        "        (\"human\", \"what is your name?\"),\n",
        "        (\"ai\", \"my name is AIBot\"),\n",
        "        (\"human\", \"{user_prompt}\"),\n",
        "]\n",
        "chat_template = ChatPromptTemplate.from_messages(messages)\n",
        "text_prompts = [\"what is your name?\", \"explain commercial real estate to me\"]\n",
        "chat_prompts = [chat_template.format(user_prompt=prompt) for prompt in text_prompts]\n",
        "chat_prompts"
      ]
    },
    {
      "cell_type": "code",
      "execution_count": 22,
      "metadata": {
        "colab": {
          "base_uri": "https://localhost:8080/"
        },
        "id": "JK9VxeObuTXj",
        "outputId": "2bfb1cf9-9208-4acb-ff00-ade9f5a82f35"
      },
      "outputs": [
        {
          "output_type": "stream",
          "name": "stdout",
          "text": [
            "AI: My name is AIBot, and I'm here to assist you with any questions you have about real estate. Whether you're looking for information on buying, selling, investing, or understanding market trends, feel free to ask!\n",
            "-----\n",
            "Commercial real estate (CRE) refers to properties that are used exclusively for business purposes. This sector of real estate is distinct from residential real estate, which involves properties designed for people to live in. Understanding commercial real estate involves recognizing its various types, investment strategies, market dynamics, and the factors that influence its value.\n",
            "\n",
            "### Types of Commercial Real Estate\n",
            "\n",
            "1. **Office Buildings**: These properties are designed for business operations and can range from single-tenant buildings to large skyscrapers. They are often categorized into:\n",
            "   - **Class A**: High-quality buildings in prime locations with top amenities (e.g., One World Trade Center in New York City).\n",
            "   - **Class B**: Good quality buildings that may need some renovations but are still desirable (e.g., older office buildings in suburban areas).\n",
            "   - **Class C**: Older buildings in less desirable locations, often requiring significant repairs (e.g., older office spaces in declining neighborhoods).\n",
            "\n",
            "2. **Retail Properties**: These include shopping centers, malls, and standalone stores. Retail properties can be further divided into:\n",
            "   - **Neighborhood Centers**: Small shopping areas that serve local communities (e.g., strip malls).\n",
            "   - **Regional Malls**: Larger shopping centers that attract customers from a wider area (e.g., Mall of America).\n",
            "   - **Power Centers**: Large retail spaces that typically include big-box retailers (e.g., Walmart, Target).\n",
            "\n",
            "3. **Industrial Properties**: These are used for manufacturing, production, distribution, and storage. Types include:\n",
            "   - **Warehouses**: Large spaces for storing goods (e.g., Amazon fulfillment centers).\n",
            "   - **Manufacturing Facilities**: Buildings where products are made (e.g., factories).\n",
            "   - **Flex Spaces**: Versatile properties that can be used for both office and industrial purposes.\n",
            "\n",
            "4. **Multifamily Properties**: While often considered residential, multifamily properties with five or more units are classified as commercial real estate. Examples include:\n",
            "   - **Apartment Complexes**: Large buildings or groups of buildings with multiple rental units (e.g., high-rise apartments).\n",
            "   - **Condominiums**: Individually owned units within a larger building.\n",
            "\n",
            "5. **Hospitality Properties**: This category includes hotels, motels, and resorts. Examples include:\n",
            "   - **Luxury Hotels**: High-end accommodations (e.g., The Ritz-Carlton).\n",
            "   - **Budget Hotels**: More affordable options (e.g., Motel 6).\n",
            "\n",
            "6. **Special Purpose Properties**: These are unique properties that do not fit into the other categories, such as:\n",
            "   - **Self-Storage Facilities**: Spaces rented out for personal or business storage.\n",
            "   - **Healthcare Facilities**: Hospitals, nursing homes, and medical offices.\n",
            "\n",
            "### Investment Strategies\n",
            "\n",
            "Investing in commercial real estate can be lucrative, but it requires a different approach than residential investing. Here are some common strategies:\n",
            "\n",
            "1. **Buy and Hold**: Investors purchase properties and hold them for long-term appreciation and rental income. For example, an investor might buy a multi-tenant office building, lease it to businesses, and benefit from both rental income and property value appreciation over time.\n",
            "\n",
            "2. **Value-Add Investments**: This strategy involves purchasing underperforming properties, making improvements (renovations, better management), and increasing their value. For instance, an investor might buy an outdated shopping center, renovate it, and attract new tenants, thereby increasing rental income.\n",
            "\n",
            "3. **Flipping**: Similar to residential flipping, this involves buying properties, making quick improvements, and selling them for a profit. This is more common in markets with rapid appreciation.\n",
            "\n",
            "4. **REITs (Real Estate Investment Trusts)**: For those who prefer not to directly manage properties, investing in REITs allows individuals to invest in a portfolio of commercial properties. For example, a publicly traded REIT might own a diverse range of properties, providing investors with dividends and potential capital appreciation.\n",
            "\n",
            "### Market Dynamics\n",
            "\n",
            "The commercial real estate market is influenced by various factors, including:\n",
            "\n",
            "- **Economic Conditions**: Economic growth typically leads to increased demand for commercial space, while recessions can lead to higher vacancy rates.\n",
            "- **Interest Rates**: Higher interest rates can increase borrowing costs, affecting property purchases and development.\n",
            "- **Location**: The adage \"location, location, location\" holds true in commercial real estate. Properties in prime locations tend to have higher demand and rental rates.\n",
            "- **Zoning Laws**: Local regulations can impact what types of businesses can operate in certain areas, affecting property values.\n",
            "\n",
            "### Conclusion\n",
            "\n",
            "Commercial real estate is a complex and diverse sector that offers various opportunities for investment and development. Understanding the different types of properties, investment strategies, and market dynamics is crucial for anyone looking to enter this field. Whether you are an investor, developer, or business owner, knowledge of commercial real estate can provide significant advantages in navigating this market.\n",
            "-----\n"
          ]
        }
      ],
      "source": [
        "responses = chatgpt.map().invoke(chat_prompts)\n",
        "for response in responses:\n",
        "  print(response.content)\n",
        "  print('-----')"
      ]
    },
    {
      "cell_type": "markdown",
      "metadata": {
        "id": "7PnxbHHoiDHZ"
      },
      "source": [
        "#### PromptTemplate and ChatPromptTemplate supports LCEL\n",
        "\n",
        "`PromptTemplate` and `ChatPromptTemplate` implement the [Runnable interface](https://python.langchain.com/v0.1/docs/expression_language/interface/), the basic building block of the LangChain Expression Language (LCEL). This means they support `invoke`, `ainvoke`, `stream`, `astream`, `batch`, `abatch`, `astream_log` calls.\n",
        "\n",
        "`PromptTemplate` accepts a dictionary (of the prompt variables) and returns a `StringPromptValue`. A `ChatPromptTemplate` accepts a dictionary and returns a `ChatPromptValue`."
      ]
    },
    {
      "cell_type": "code",
      "execution_count": 23,
      "metadata": {
        "colab": {
          "base_uri": "https://localhost:8080/"
        },
        "id": "Qxsx7a0xe2u6",
        "outputId": "8f0a2add-80ed-490f-d2b6-df4651fbf4a8"
      },
      "outputs": [
        {
          "output_type": "execute_result",
          "data": {
            "text/plain": [
              "[ChatPromptValue(messages=[SystemMessage(content='Act as an expert in real estate and provide very detailed answers with examples', additional_kwargs={}, response_metadata={}), HumanMessage(content='what is your name?', additional_kwargs={}, response_metadata={}), AIMessage(content='my name is AIBot', additional_kwargs={}, response_metadata={}), HumanMessage(content='what is your name?', additional_kwargs={}, response_metadata={})]),\n",
              " ChatPromptValue(messages=[SystemMessage(content='Act as an expert in real estate and provide very detailed answers with examples', additional_kwargs={}, response_metadata={}), HumanMessage(content='what is your name?', additional_kwargs={}, response_metadata={}), AIMessage(content='my name is AIBot', additional_kwargs={}, response_metadata={}), HumanMessage(content='explain commercial real estate to me', additional_kwargs={}, response_metadata={})])]"
            ]
          },
          "metadata": {},
          "execution_count": 23
        }
      ],
      "source": [
        "text_prompts = [\"what is your name?\", \"explain commercial real estate to me\"]\n",
        "chat_prompts = [chat_template.invoke({'user_prompt' : prompt}) for prompt in text_prompts]\n",
        "chat_prompts"
      ]
    },
    {
      "cell_type": "code",
      "execution_count": 24,
      "metadata": {
        "colab": {
          "base_uri": "https://localhost:8080/"
        },
        "id": "tCqy3Exuiuu0",
        "outputId": "e76909c3-4a5b-497d-c375-43f825a9f96e"
      },
      "outputs": [
        {
          "output_type": "execute_result",
          "data": {
            "text/plain": [
              "ChatPromptValue(messages=[SystemMessage(content='Act as an expert in real estate and provide very detailed answers with examples', additional_kwargs={}, response_metadata={}), HumanMessage(content='what is your name?', additional_kwargs={}, response_metadata={}), AIMessage(content='my name is AIBot', additional_kwargs={}, response_metadata={}), HumanMessage(content='explain commercial real estate to me', additional_kwargs={}, response_metadata={})])"
            ]
          },
          "metadata": {},
          "execution_count": 24
        }
      ],
      "source": [
        "chat_prompts[1]"
      ]
    },
    {
      "cell_type": "code",
      "execution_count": 25,
      "metadata": {
        "colab": {
          "base_uri": "https://localhost:8080/"
        },
        "id": "wND5o7kCiyKG",
        "outputId": "1448ec1e-b592-4bff-a269-b40eb7e46e87"
      },
      "outputs": [
        {
          "output_type": "stream",
          "name": "stdout",
          "text": [
            "System: Act as an expert in real estate and provide very detailed answers with examples\n",
            "Human: what is your name?\n",
            "AI: my name is AIBot\n",
            "Human: explain commercial real estate to me\n"
          ]
        }
      ],
      "source": [
        "print(chat_prompts[1].to_string())"
      ]
    },
    {
      "cell_type": "code",
      "execution_count": 26,
      "metadata": {
        "colab": {
          "base_uri": "https://localhost:8080/"
        },
        "id": "egsNrmqui6ls",
        "outputId": "b3678c89-68ea-4172-bc60-5445fb0ebb85"
      },
      "outputs": [
        {
          "output_type": "execute_result",
          "data": {
            "text/plain": [
              "[SystemMessage(content='Act as an expert in real estate and provide very detailed answers with examples', additional_kwargs={}, response_metadata={}),\n",
              " HumanMessage(content='what is your name?', additional_kwargs={}, response_metadata={}),\n",
              " AIMessage(content='my name is AIBot', additional_kwargs={}, response_metadata={}),\n",
              " HumanMessage(content='explain commercial real estate to me', additional_kwargs={}, response_metadata={})]"
            ]
          },
          "metadata": {},
          "execution_count": 26
        }
      ],
      "source": [
        "chat_prompts[1].to_messages()"
      ]
    },
    {
      "cell_type": "code",
      "execution_count": 27,
      "metadata": {
        "colab": {
          "base_uri": "https://localhost:8080/"
        },
        "id": "r_ywweDLflCq",
        "outputId": "53a57f59-cb1e-467d-803c-3e4230a76384"
      },
      "outputs": [
        {
          "output_type": "stream",
          "name": "stdout",
          "text": [
            "I am known as AIBot. How can I assist you with your real estate inquiries today?\n",
            "-----\n",
            "Commercial real estate (CRE) refers to properties that are used exclusively for business purposes or to provide a workspace rather than as a living space. This sector of real estate is distinct from residential real estate, which involves properties designed for people to live in. Here’s a detailed breakdown of commercial real estate, including its types, investment considerations, and examples.\n",
            "\n",
            "### Types of Commercial Real Estate\n",
            "\n",
            "1. **Office Buildings**: \n",
            "   - **Description**: These are spaces where businesses conduct their operations. They can range from single-tenant buildings to large skyscrapers.\n",
            "   - **Examples**: A downtown high-rise office building housing multiple corporate tenants, or a suburban office park with several smaller buildings.\n",
            "\n",
            "2. **Retail Properties**: \n",
            "   - **Description**: These properties are used for selling goods and services directly to consumers. They can include standalone stores, shopping malls, and strip malls.\n",
            "   - **Examples**: A shopping center with various retail outlets, a big-box store like Walmart, or a boutique in a trendy neighborhood.\n",
            "\n",
            "3. **Industrial Properties**: \n",
            "   - **Description**: These are used for manufacturing, production, distribution, and storage. They often have large spaces and are located near transportation hubs.\n",
            "   - **Examples**: Warehouses, factories, and distribution centers, such as an Amazon fulfillment center.\n",
            "\n",
            "4. **Multifamily Properties**: \n",
            "   - **Description**: While often considered residential, multifamily properties with five or more units are classified as commercial real estate. They are designed to house multiple families.\n",
            "   - **Examples**: Apartment complexes, condominiums, and townhouses.\n",
            "\n",
            "5. **Hospitality Properties**: \n",
            "   - **Description**: These include hotels, motels, and resorts that provide lodging and services to travelers.\n",
            "   - **Examples**: A luxury hotel chain like Marriott or a budget motel like Super 8.\n",
            "\n",
            "6. **Special Purpose Properties**: \n",
            "   - **Description**: These are properties that are designed for a specific use and may not fit into the other categories. \n",
            "   - **Examples**: Schools, churches, and self-storage facilities.\n",
            "\n",
            "### Investment Considerations\n",
            "\n",
            "Investing in commercial real estate can be lucrative, but it also comes with its own set of risks and considerations:\n",
            "\n",
            "1. **Location**: The location of a commercial property is crucial. Properties in high-traffic areas or growing neighborhoods tend to have higher demand and rental rates. For example, a retail store in a busy shopping district will likely perform better than one in a less trafficked area.\n",
            "\n",
            "2. **Lease Structures**: Commercial leases can vary significantly. Common types include:\n",
            "   - **Gross Lease**: The landlord pays all property expenses.\n",
            "   - **Net Lease**: The tenant pays a portion of the property expenses (e.g., property taxes, insurance).\n",
            "   - **Percentage Lease**: The tenant pays a base rent plus a percentage of sales, common in retail.\n",
            "\n",
            "3. **Financing**: Commercial real estate often requires larger down payments and may have different financing options compared to residential properties. Investors might use traditional mortgages, commercial loans, or even partnerships.\n",
            "\n",
            "4. **Market Trends**: Understanding market trends is essential. For instance, the rise of e-commerce has significantly impacted retail properties, leading to increased vacancies in traditional shopping centers while boosting demand for industrial warehouses.\n",
            "\n",
            "5. **Due Diligence**: Before purchasing, investors should conduct thorough due diligence, including property inspections, financial analysis, and market research. This helps identify potential issues and assess the property's value.\n",
            "\n",
            "### Examples of Commercial Real Estate Transactions\n",
            "\n",
            "1. **Office Building Acquisition**: A real estate investment trust (REIT) purchases a 200,000 square foot office building in a metropolitan area for $50 million, anticipating a 6% return on investment through leasing to various tenants.\n",
            "\n",
            "2. **Retail Space Lease**: A national coffee chain signs a 10-year lease for a 1,500 square foot space in a shopping mall, agreeing to pay $30 per square foot annually, plus a percentage of sales over a certain threshold.\n",
            "\n",
            "3. **Industrial Property Development**: A developer constructs a new logistics center near a major highway, investing $10 million, with the expectation of leasing it to a distribution company for $1.5 million annually.\n",
            "\n",
            "### Conclusion\n",
            "\n",
            "Commercial real estate is a diverse and dynamic sector that plays a vital role in the economy. It offers various investment opportunities, each with unique risks and rewards. Understanding the different types of commercial properties, market dynamics, and investment strategies is essential for anyone looking to enter this field. Whether you are an investor, a business owner, or simply interested in the market, commercial real estate presents numerous possibilities for growth and income generation.\n",
            "-----\n"
          ]
        }
      ],
      "source": [
        "responses = chatgpt.map().invoke(chat_prompts)\n",
        "for response in responses:\n",
        "  print(response.content)\n",
        "  print('-----')"
      ]
    },
    {
      "cell_type": "markdown",
      "metadata": {
        "id": "QFDEQ-9B07hl"
      },
      "source": [
        "### FewShotChatMessagePromptTemplate\n",
        "\n",
        "This is a Chat prompt template that supports few-shot examples.\n",
        "\n",
        "The high level structure of produced by this prompt template is a list of messages consisting of prefix message(s), example message(s), and suffix message(s).\n",
        "\n",
        "This structure enables creating a conversation with intermediate examples like:\n",
        "\n",
        "```\n",
        "System: You are a helpful AI Assistant\n",
        "Human: What is 2+2?\n",
        "AI: 4\n",
        "Human: What is 2+3?\n",
        "AI: 5\n",
        "Human: What is 4+4?\n",
        "```"
      ]
    },
    {
      "cell_type": "markdown",
      "metadata": {
        "id": "1O_nxtWMkbw4"
      },
      "source": [
        "Define the few-shot examples you'd like to include."
      ]
    },
    {
      "cell_type": "code",
      "execution_count": 28,
      "metadata": {
        "colab": {
          "base_uri": "https://localhost:8080/"
        },
        "id": "-urY3gcrwTAv",
        "outputId": "09bedd15-08ef-4037-85e7-cf19bb2d92d4"
      },
      "outputs": [
        {
          "output_type": "execute_result",
          "data": {
            "text/plain": [
              "[('Wimbledon 2023 Women’s Final.\\n    Marketa Vondrousova beats Ons Jabeur to win her maiden Grand Slam title',\n",
              "  'Sports'),\n",
              " (\"It's time to call it a day as India had another medal-laden day at the Asian Athletics Championships\\n    in Bangkok. Murali Sreeshankar's Olympic qualifying jump grabbed the limelight while 400m mixed relay\\n    team added's India's sixth gold medal! There will be plenty of medals up for grab on the final day of\\n    the tournament as well with Jyothi Yarraji, women's and men's 400m relay teams in action\",\n",
              "  'Sports'),\n",
              " (\"Kicking things off with the Galaxy Tab S9 FE Plus. It's going to be powered by the Exynos 1380\\n    with 8GB of RAM, and pack a 12.4-inch display. The slate will measure 285.4 x 185.4 x 6.54 mm and\\n    feature dual speakers, a side-mounted fingerprint sensor. It will come in Grey, Light Green,\\n    Light Pink, and Silver color options.\",\n",
              "  'Technology'),\n",
              " ('The share of the cigarette business to ITC’s business in revenue terms has dropped from 47\\n    per cent in FY13 to 37 per cent in FY23 on a larger revenue base.\\n    According to the company’s most recent annual report, the leadership position has been sustained\\n    \"through its unwavering focus on nurturing a future-ready portfolio of world-class products anchored on\\n    its integrated seed to smoke value chain, superior consumer insights, robust innovation pipeline and\\n    world-class product development capabilities.\" ',\n",
              "  'Business')]"
            ]
          },
          "metadata": {},
          "execution_count": 28
        }
      ],
      "source": [
        "from langchain_core.prompts import ChatPromptTemplate, FewShotChatMessagePromptTemplate\n",
        "\n",
        "example_data = [\n",
        "    (\"\"\"Wimbledon 2023 Women’s Final.\n",
        "    Marketa Vondrousova beats Ons Jabeur to win her maiden Grand Slam title\"\"\",\n",
        "     'Sports'),\n",
        "    (\"\"\"It's time to call it a day as India had another medal-laden day at the Asian Athletics Championships\n",
        "    in Bangkok. Murali Sreeshankar's Olympic qualifying jump grabbed the limelight while 400m mixed relay\n",
        "    team added's India's sixth gold medal! There will be plenty of medals up for grab on the final day of\n",
        "    the tournament as well with Jyothi Yarraji, women's and men's 400m relay teams in action\"\"\",\n",
        "     'Sports'),\n",
        "    (\"\"\"Kicking things off with the Galaxy Tab S9 FE Plus. It's going to be powered by the Exynos 1380\n",
        "    with 8GB of RAM, and pack a 12.4-inch display. The slate will measure 285.4 x 185.4 x 6.54 mm and\n",
        "    feature dual speakers, a side-mounted fingerprint sensor. It will come in Grey, Light Green,\n",
        "    Light Pink, and Silver color options.\"\"\",\n",
        "     'Technology'),\n",
        "    (\"\"\"The share of the cigarette business to ITC’s business in revenue terms has dropped from 47\n",
        "    per cent in FY13 to 37 per cent in FY23 on a larger revenue base.\n",
        "    According to the company’s most recent annual report, the leadership position has been sustained\n",
        "    \"through its unwavering focus on nurturing a future-ready portfolio of world-class products anchored on\n",
        "    its integrated seed to smoke value chain, superior consumer insights, robust innovation pipeline and\n",
        "    world-class product development capabilities.\" \"\"\",\n",
        "     'Business')\n",
        "]\n",
        "\n",
        "example_data"
      ]
    },
    {
      "cell_type": "code",
      "execution_count": 29,
      "metadata": {
        "colab": {
          "base_uri": "https://localhost:8080/"
        },
        "id": "u-jpdb5GyYzo",
        "outputId": "43fdc24e-acbb-458f-fa24-5a9cd8365ca3"
      },
      "outputs": [
        {
          "output_type": "execute_result",
          "data": {
            "text/plain": [
              "[{'input': 'Wimbledon 2023 Women’s Final.\\n    Marketa Vondrousova beats Ons Jabeur to win her maiden Grand Slam title',\n",
              "  'output': 'Sports'},\n",
              " {'input': \"It's time to call it a day as India had another medal-laden day at the Asian Athletics Championships\\n    in Bangkok. Murali Sreeshankar's Olympic qualifying jump grabbed the limelight while 400m mixed relay\\n    team added's India's sixth gold medal! There will be plenty of medals up for grab on the final day of\\n    the tournament as well with Jyothi Yarraji, women's and men's 400m relay teams in action\",\n",
              "  'output': 'Sports'},\n",
              " {'input': \"Kicking things off with the Galaxy Tab S9 FE Plus. It's going to be powered by the Exynos 1380\\n    with 8GB of RAM, and pack a 12.4-inch display. The slate will measure 285.4 x 185.4 x 6.54 mm and\\n    feature dual speakers, a side-mounted fingerprint sensor. It will come in Grey, Light Green,\\n    Light Pink, and Silver color options.\",\n",
              "  'output': 'Technology'},\n",
              " {'input': 'The share of the cigarette business to ITC’s business in revenue terms has dropped from 47\\n    per cent in FY13 to 37 per cent in FY23 on a larger revenue base.\\n    According to the company’s most recent annual report, the leadership position has been sustained\\n    \"through its unwavering focus on nurturing a future-ready portfolio of world-class products anchored on\\n    its integrated seed to smoke value chain, superior consumer insights, robust innovation pipeline and\\n    world-class product development capabilities.\" ',\n",
              "  'output': 'Business'}]"
            ]
          },
          "metadata": {},
          "execution_count": 29
        }
      ],
      "source": [
        "example_data_formatted = [{\"input\": input, \"output\": output}\n",
        "                            for input, output in example_data]\n",
        "example_data_formatted"
      ]
    },
    {
      "cell_type": "markdown",
      "metadata": {
        "id": "KR8lVYEvkfO6"
      },
      "source": [
        "Assemble them into the few-shot prompt template."
      ]
    },
    {
      "cell_type": "code",
      "execution_count": 30,
      "metadata": {
        "colab": {
          "base_uri": "https://localhost:8080/"
        },
        "id": "Yr9_BgVauk4h",
        "outputId": "1d79fa5f-e79a-48fc-d996-e898c51a2d1e"
      },
      "outputs": [
        {
          "output_type": "execute_result",
          "data": {
            "text/plain": [
              "FewShotChatMessagePromptTemplate(examples=[{'input': 'Wimbledon 2023 Women’s Final.\\n    Marketa Vondrousova beats Ons Jabeur to win her maiden Grand Slam title', 'output': 'Sports'}, {'input': \"It's time to call it a day as India had another medal-laden day at the Asian Athletics Championships\\n    in Bangkok. Murali Sreeshankar's Olympic qualifying jump grabbed the limelight while 400m mixed relay\\n    team added's India's sixth gold medal! There will be plenty of medals up for grab on the final day of\\n    the tournament as well with Jyothi Yarraji, women's and men's 400m relay teams in action\", 'output': 'Sports'}, {'input': \"Kicking things off with the Galaxy Tab S9 FE Plus. It's going to be powered by the Exynos 1380\\n    with 8GB of RAM, and pack a 12.4-inch display. The slate will measure 285.4 x 185.4 x 6.54 mm and\\n    feature dual speakers, a side-mounted fingerprint sensor. It will come in Grey, Light Green,\\n    Light Pink, and Silver color options.\", 'output': 'Technology'}, {'input': 'The share of the cigarette business to ITC’s business in revenue terms has dropped from 47\\n    per cent in FY13 to 37 per cent in FY23 on a larger revenue base.\\n    According to the company’s most recent annual report, the leadership position has been sustained\\n    \"through its unwavering focus on nurturing a future-ready portfolio of world-class products anchored on\\n    its integrated seed to smoke value chain, superior consumer insights, robust innovation pipeline and\\n    world-class product development capabilities.\" ', 'output': 'Business'}], input_variables=[], input_types={}, partial_variables={}, example_prompt=ChatPromptTemplate(input_variables=['input', 'output'], input_types={}, partial_variables={}, messages=[HumanMessagePromptTemplate(prompt=PromptTemplate(input_variables=['input'], input_types={}, partial_variables={}, template='{input}'), additional_kwargs={}), AIMessagePromptTemplate(prompt=PromptTemplate(input_variables=['output'], input_types={}, partial_variables={}, template='{output}'), additional_kwargs={})]))"
            ]
          },
          "metadata": {},
          "execution_count": 30
        }
      ],
      "source": [
        "data_prompt = ChatPromptTemplate.from_messages(\n",
        "    [\n",
        "        (\"human\", \"{input}\"),\n",
        "        (\"ai\", \"{output}\"),\n",
        "    ]\n",
        ")\n",
        "\n",
        "few_shot_prompt = FewShotChatMessagePromptTemplate(\n",
        "    example_prompt=data_prompt,\n",
        "    examples=example_data_formatted,\n",
        ")\n",
        "\n",
        "few_shot_prompt"
      ]
    },
    {
      "cell_type": "code",
      "execution_count": 31,
      "metadata": {
        "colab": {
          "base_uri": "https://localhost:8080/"
        },
        "id": "O0fQUjDLjkJg",
        "outputId": "8e8d08bc-48d2-4b60-9156-6273dc4a2181"
      },
      "outputs": [
        {
          "output_type": "stream",
          "name": "stdout",
          "text": [
            "Human: Wimbledon 2023 Women’s Final.\n",
            "    Marketa Vondrousova beats Ons Jabeur to win her maiden Grand Slam title\n",
            "AI: Sports\n",
            "Human: It's time to call it a day as India had another medal-laden day at the Asian Athletics Championships\n",
            "    in Bangkok. Murali Sreeshankar's Olympic qualifying jump grabbed the limelight while 400m mixed relay\n",
            "    team added's India's sixth gold medal! There will be plenty of medals up for grab on the final day of\n",
            "    the tournament as well with Jyothi Yarraji, women's and men's 400m relay teams in action\n",
            "AI: Sports\n",
            "Human: Kicking things off with the Galaxy Tab S9 FE Plus. It's going to be powered by the Exynos 1380\n",
            "    with 8GB of RAM, and pack a 12.4-inch display. The slate will measure 285.4 x 185.4 x 6.54 mm and\n",
            "    feature dual speakers, a side-mounted fingerprint sensor. It will come in Grey, Light Green,\n",
            "    Light Pink, and Silver color options.\n",
            "AI: Technology\n",
            "Human: The share of the cigarette business to ITC’s business in revenue terms has dropped from 47\n",
            "    per cent in FY13 to 37 per cent in FY23 on a larger revenue base.\n",
            "    According to the company’s most recent annual report, the leadership position has been sustained\n",
            "    \"through its unwavering focus on nurturing a future-ready portfolio of world-class products anchored on\n",
            "    its integrated seed to smoke value chain, superior consumer insights, robust innovation pipeline and\n",
            "    world-class product development capabilities.\" \n",
            "AI: Business\n"
          ]
        }
      ],
      "source": [
        "print(few_shot_prompt.format())"
      ]
    },
    {
      "cell_type": "markdown",
      "metadata": {
        "id": "m0cPbQdgkmVi"
      },
      "source": [
        "Finally, assemble your final prompt and use it with a LLM."
      ]
    },
    {
      "cell_type": "code",
      "execution_count": 32,
      "metadata": {
        "colab": {
          "base_uri": "https://localhost:8080/"
        },
        "id": "WyW9Xg7gy3nn",
        "outputId": "de765279-1605-494f-ad73-106922c73dfe"
      },
      "outputs": [
        {
          "output_type": "execute_result",
          "data": {
            "text/plain": [
              "ChatPromptTemplate(input_variables=['input'], input_types={}, partial_variables={}, messages=[SystemMessagePromptTemplate(prompt=PromptTemplate(input_variables=[], input_types={}, partial_variables={}, template='Classify every new news article using a similar format as shown below'), additional_kwargs={}), FewShotChatMessagePromptTemplate(examples=[{'input': 'Wimbledon 2023 Women’s Final.\\n    Marketa Vondrousova beats Ons Jabeur to win her maiden Grand Slam title', 'output': 'Sports'}, {'input': \"It's time to call it a day as India had another medal-laden day at the Asian Athletics Championships\\n    in Bangkok. Murali Sreeshankar's Olympic qualifying jump grabbed the limelight while 400m mixed relay\\n    team added's India's sixth gold medal! There will be plenty of medals up for grab on the final day of\\n    the tournament as well with Jyothi Yarraji, women's and men's 400m relay teams in action\", 'output': 'Sports'}, {'input': \"Kicking things off with the Galaxy Tab S9 FE Plus. It's going to be powered by the Exynos 1380\\n    with 8GB of RAM, and pack a 12.4-inch display. The slate will measure 285.4 x 185.4 x 6.54 mm and\\n    feature dual speakers, a side-mounted fingerprint sensor. It will come in Grey, Light Green,\\n    Light Pink, and Silver color options.\", 'output': 'Technology'}, {'input': 'The share of the cigarette business to ITC’s business in revenue terms has dropped from 47\\n    per cent in FY13 to 37 per cent in FY23 on a larger revenue base.\\n    According to the company’s most recent annual report, the leadership position has been sustained\\n    \"through its unwavering focus on nurturing a future-ready portfolio of world-class products anchored on\\n    its integrated seed to smoke value chain, superior consumer insights, robust innovation pipeline and\\n    world-class product development capabilities.\" ', 'output': 'Business'}], input_variables=[], input_types={}, partial_variables={}, example_prompt=ChatPromptTemplate(input_variables=['input', 'output'], input_types={}, partial_variables={}, messages=[HumanMessagePromptTemplate(prompt=PromptTemplate(input_variables=['input'], input_types={}, partial_variables={}, template='{input}'), additional_kwargs={}), AIMessagePromptTemplate(prompt=PromptTemplate(input_variables=['output'], input_types={}, partial_variables={}, template='{output}'), additional_kwargs={})])), HumanMessagePromptTemplate(prompt=PromptTemplate(input_variables=['input'], input_types={}, partial_variables={}, template='{input}'), additional_kwargs={})])"
            ]
          },
          "metadata": {},
          "execution_count": 32
        }
      ],
      "source": [
        "final_prompt_template = ChatPromptTemplate.from_messages(\n",
        "    [\n",
        "        (\"system\", \"Classify every new news article using a similar format as shown below\"),\n",
        "        few_shot_prompt,\n",
        "        (\"human\", \"{input}\"),\n",
        "    ]\n",
        ")\n",
        "final_prompt_template"
      ]
    },
    {
      "cell_type": "code",
      "execution_count": 33,
      "metadata": {
        "id": "7tXUcmAazGOD"
      },
      "outputs": [],
      "source": [
        "docs = [\"\"\"Arsenal finally completed the signing of Rice as they announced the player's arrival on Saturday.\n",
        "Right after completing his move, Rice revealed that he is a great admirer of Arteta\n",
        "and that the Spaniard's presence in the Arsenal dressing room is one of the main reasons\n",
        "why he decided to join the North London club.\"\"\",\n",
        "        \"\"\"A heat wave sweeping across Europe is prompting health warnings as millions\n",
        "        of people endure sweltering temperatures. Italy has issued red alerts in 16 cities with\n",
        "        the country's weather centre warning of record heat especially in southern regions.\n",
        "        Parts of Greece are forecast to hit highs of 44 degrees celsius, while France,\n",
        "        Germany, Spain and Poland are also enduring extreme temperatures.\n",
        "        Scientists say greenhouse gases and the El Niño weather pattern are raising global temperatures.\n",
        "        \"\"\"]\n",
        "\n",
        "final_prompts = [final_prompt_template.format(input=doc) for doc in docs]\n",
        "responses = chatgpt.map().invoke(final_prompts)"
      ]
    },
    {
      "cell_type": "code",
      "execution_count": 34,
      "metadata": {
        "colab": {
          "base_uri": "https://localhost:8080/"
        },
        "id": "lTxJay_6lL-e",
        "outputId": "cd1d182c-692f-4edb-ea26-74e3bf59cbd0"
      },
      "outputs": [
        {
          "output_type": "execute_result",
          "data": {
            "text/plain": [
              "AIMessage(content='AI: Sports', additional_kwargs={'refusal': None}, response_metadata={'token_usage': {'completion_tokens': 3, 'prompt_tokens': 431, 'total_tokens': 434, 'completion_tokens_details': {'accepted_prediction_tokens': 0, 'audio_tokens': 0, 'reasoning_tokens': 0, 'rejected_prediction_tokens': 0}, 'prompt_tokens_details': {'audio_tokens': 0, 'cached_tokens': 0}}, 'model_name': 'gpt-4o-mini-2024-07-18', 'system_fingerprint': 'fp_54eb4bd693', 'finish_reason': 'stop', 'logprobs': None}, id='run--b224905f-643d-42d4-8186-d55d9a7c2753-0', usage_metadata={'input_tokens': 431, 'output_tokens': 3, 'total_tokens': 434, 'input_token_details': {'audio': 0, 'cache_read': 0}, 'output_token_details': {'audio': 0, 'reasoning': 0}})"
            ]
          },
          "metadata": {},
          "execution_count": 34
        }
      ],
      "source": [
        "responses[0]"
      ]
    },
    {
      "cell_type": "code",
      "execution_count": 35,
      "metadata": {
        "colab": {
          "base_uri": "https://localhost:8080/"
        },
        "id": "ckhbEOgAzVJo",
        "outputId": "7a935706-16fb-4ad4-ab44-113daccbaa67"
      },
      "outputs": [
        {
          "output_type": "stream",
          "name": "stdout",
          "text": [
            "AI: Sports\n",
            "-----\n",
            "AI: Environment\n",
            "-----\n"
          ]
        }
      ],
      "source": [
        "for response in responses:\n",
        "  print(response.content)\n",
        "  print('-----')"
      ]
    },
    {
      "cell_type": "markdown",
      "metadata": {
        "id": "cizZ-bdhm3uW"
      },
      "source": [
        "### Partial prompt templates\n",
        "\n",
        "Like other methods, it can make sense to \"partial\" a prompt template - e.g. pass in a subset of the required data values, as to create a new prompt template which expects only the remaining subset of data values.\n",
        "\n",
        "Imagine you get some inputs initially and then some other inputs for the prompts later, you can use the `partial`function to add some of the input data first and the rest of the input data later"
      ]
    },
    {
      "cell_type": "code",
      "execution_count": 36,
      "metadata": {
        "id": "PSp5Tsmhleh9"
      },
      "outputs": [],
      "source": [
        "from datetime import datetime\n",
        "\n",
        "def _get_datetime():\n",
        "    now = datetime.now()\n",
        "    return now.strftime(\"%m/%d/%Y\")"
      ]
    },
    {
      "cell_type": "code",
      "execution_count": 37,
      "metadata": {
        "id": "NjrJ8Vhmli5i"
      },
      "outputs": [],
      "source": [
        "prompt_txt = \"\"\"Tell me a joke about {topic} on the day {date}\"\"\"\n",
        "prompt = ChatPromptTemplate.from_template(prompt_txt)"
      ]
    },
    {
      "cell_type": "code",
      "execution_count": 38,
      "metadata": {
        "colab": {
          "base_uri": "https://localhost:8080/"
        },
        "id": "eUZxZcF_mpmM",
        "outputId": "883febb7-e0f8-4eb6-c05f-ddc4b20e0cf5"
      },
      "outputs": [
        {
          "output_type": "execute_result",
          "data": {
            "text/plain": [
              "ChatPromptTemplate(input_variables=['topic'], input_types={}, partial_variables={'date': <function _get_datetime at 0x7f5302c28540>}, messages=[HumanMessagePromptTemplate(prompt=PromptTemplate(input_variables=['date', 'topic'], input_types={}, partial_variables={}, template='Tell me a joke about {topic} on the day {date}'), additional_kwargs={})])"
            ]
          },
          "metadata": {},
          "execution_count": 38
        }
      ],
      "source": [
        "prompt = prompt.partial(date=_get_datetime)\n",
        "prompt"
      ]
    },
    {
      "cell_type": "code",
      "execution_count": 39,
      "metadata": {
        "colab": {
          "base_uri": "https://localhost:8080/"
        },
        "id": "6mcxRPErl0ef",
        "outputId": "4d3b3cd0-e18c-4862-b223-d0045ffeb713"
      },
      "outputs": [
        {
          "output_type": "execute_result",
          "data": {
            "text/plain": [
              "['Human: Tell me a joke about Engineers on the day 05/29/2025',\n",
              " 'Human: Tell me a joke about Statisticians on the day 05/29/2025']"
            ]
          },
          "metadata": {},
          "execution_count": 39
        }
      ],
      "source": [
        "topics = ['Engineers', 'Statisticians']\n",
        "final_prompts = [prompt.format(topic=topic) for topic in topics]\n",
        "final_prompts"
      ]
    },
    {
      "cell_type": "code",
      "execution_count": 40,
      "metadata": {
        "colab": {
          "base_uri": "https://localhost:8080/"
        },
        "id": "xK9gK0K8muK7",
        "outputId": "4a00e711-fd31-44c7-a4e1-d58cb0220077"
      },
      "outputs": [
        {
          "output_type": "stream",
          "name": "stdout",
          "text": [
            "Sure! Here’s a joke about engineers:\n",
            "\n",
            "Why did the engineer bring a ladder to work on May 29, 2025?\n",
            "\n",
            "Because they heard the job was on another level!\n",
            "-----\n",
            "Sure! Here’s a joke about statisticians:\n",
            "\n",
            "Why did the statistician bring a ladder to the bar on May 29, 2025?\n",
            "\n",
            "Because they heard the drinks were on the house!\n",
            "-----\n"
          ]
        }
      ],
      "source": [
        "responses = chatgpt.map().invoke(final_prompts)\n",
        "for response in responses:\n",
        "  print(response.content)\n",
        "  print('-----')"
      ]
    }
  ],
  "metadata": {
    "colab": {
      "provenance": []
    },
    "kernelspec": {
      "display_name": "Python 3 (ipykernel)",
      "language": "python",
      "name": "python3"
    },
    "language_info": {
      "codemirror_mode": {
        "name": "ipython",
        "version": 3
      },
      "file_extension": ".py",
      "mimetype": "text/x-python",
      "name": "python",
      "nbconvert_exporter": "python",
      "pygments_lexer": "ipython3",
      "version": "3.11.7"
    }
  },
  "nbformat": 4,
  "nbformat_minor": 0
}